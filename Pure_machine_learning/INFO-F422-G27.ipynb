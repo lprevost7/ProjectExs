{
 "cells": [
  {
   "cell_type": "markdown",
   "metadata": {},
   "source": [
    "# Project machine learning INFO-F422"
   ]
  },
  {
   "cell_type": "markdown",
   "metadata": {},
   "source": [
    "Link of presentation video on youtube"
   ]
  },
  {
   "cell_type": "markdown",
   "metadata": {},
   "source": [
    "https://youtu.be/KS-3uwn4WZE"
   ]
  },
  {
   "cell_type": "markdown",
   "metadata": {},
   "source": [
    "## Load the used libraries"
   ]
  },
  {
   "cell_type": "code",
   "execution_count": 1,
   "metadata": {
    "vscode": {
     "languageId": "r"
    }
   },
   "outputs": [
    {
     "name": "stderr",
     "output_type": "stream",
     "text": [
      "Loading required package: ggplot2\n",
      "\n",
      "Loading required package: corrplot\n",
      "\n",
      "corrplot 0.92 loaded\n",
      "\n",
      "Loading required package: crossval\n",
      "\n",
      "Warning message in library(package, lib.loc = lib.loc, character.only = TRUE, logical.return = TRUE, :\n",
      "“there is no package called ‘crossval’”\n",
      "Installing package into ‘/home/plouis/R/x86_64-pc-linux-gnu-library/4.4’\n",
      "(as ‘lib’ is unspecified)\n",
      "\n",
      "also installing the dependencies ‘entropy’, ‘corpcor’, ‘fdrtool’, ‘sda’, ‘care’, ‘binda’\n",
      "\n",
      "\n",
      "Loading required package: randomForest\n",
      "\n",
      "randomForest 4.7-1.1\n",
      "\n",
      "Type rfNews() to see new features/changes/bug fixes.\n",
      "\n",
      "\n",
      "Attaching package: ‘randomForest’\n",
      "\n",
      "\n",
      "The following object is masked from ‘package:ggplot2’:\n",
      "\n",
      "    margin\n",
      "\n",
      "\n",
      "Loading required package: keras\n",
      "\n",
      "Loading required package: xgboost\n",
      "\n",
      "Loading required package: lazy\n",
      "\n"
     ]
    }
   ],
   "source": [
    "# Package ggplot2\n",
    "if (!require(\"ggplot2\", character.only = TRUE)) {\n",
    "  install.packages(\"ggplot2\", dependencies = TRUE)\n",
    "  library(\"ggplot2\", character.only = TRUE)\n",
    "}\n",
    "\n",
    "# Package corrplot\n",
    "if (!require(\"corrplot\", character.only = TRUE)) {\n",
    "  install.packages(\"corrplot\", dependencies = TRUE)\n",
    "  library(\"corrplot\", character.only = TRUE)\n",
    "}\n",
    "\n",
    "# Package crossval\n",
    "if (!require(\"crossval\", character.only = TRUE)) {\n",
    "  install.packages(\"crossval\", dependencies = TRUE)\n",
    "  library(\"crossval\", character.only = TRUE)\n",
    "}\n",
    "\n",
    "# Package randomForest\n",
    "if (!require(\"randomForest\", character.only = TRUE)) {\n",
    "  install.packages(\"randomForest\", dependencies = TRUE)\n",
    "  library(\"randomForest\", character.only = TRUE)\n",
    "}\n",
    "\n",
    "# Package keras\n",
    "if (!require(\"keras\", character.only = TRUE)) {\n",
    "  install.packages(\"keras\", dependencies = TRUE)\n",
    "  library(\"keras\", character.only = TRUE)\n",
    "}\n",
    "\n",
    "# Package xgboost\n",
    "if (!require(\"xgboost\", character.only = TRUE)) {\n",
    "  install.packages(\"xgboost\", dependencies = TRUE)\n",
    "  library(\"xgboost\", character.only = TRUE)\n",
    "}\n",
    "\n",
    "# Package lazy\n",
    "if (!require(\"lazy\", character.only = TRUE)) {\n",
    "  install.packages(\"lazy\", dependencies = TRUE)\n",
    "  library(\"lazy\", character.only = TRUE)\n",
    "}\n"
   ]
  },
  {
   "cell_type": "code",
   "execution_count": 2,
   "metadata": {
    "vscode": {
     "languageId": "r"
    }
   },
   "outputs": [],
   "source": [
    "library(ggplot2)\n",
    "library(corrplot)\n",
    "library(crossval)\n",
    "\n",
    "# Model libraries\n",
    "library(randomForest)\n",
    "library(keras)\n",
    "library(xgboost)\n",
    "library(lazy)\n",
    "\n",
    "set.seed(1)"
   ]
  },
  {
   "cell_type": "markdown",
   "metadata": {},
   "source": [
    "### Load and preprocessing Data from csv file"
   ]
  },
  {
   "cell_type": "markdown",
   "metadata": {},
   "source": [
    "First, we load the two datasets by reading csv files"
   ]
  },
  {
   "cell_type": "code",
   "execution_count": 2,
   "metadata": {
    "vscode": {
     "languageId": "r"
    }
   },
   "outputs": [],
   "source": [
    "# Load the data from csv files, and store them in dataframes\n",
    "data <- read.csv(\"data/Train.csv\")\n",
    "data_test <- read.csv(\"data/Test.csv\")\n",
    "data_test_copy <- read.csv(\"data/Test.csv\")"
   ]
  },
  {
   "cell_type": "markdown",
   "metadata": {
    "vscode": {
     "languageId": "r"
    }
   },
   "source": [
    "Let's observe the number of columns and rows."
   ]
  },
  {
   "cell_type": "code",
   "execution_count": 3,
   "metadata": {
    "vscode": {
     "languageId": "r"
    }
   },
   "outputs": [
    {
     "data": {
      "text/html": [
       "<style>\n",
       ".list-inline {list-style: none; margin:0; padding: 0}\n",
       ".list-inline>li {display: inline-block}\n",
       ".list-inline>li:not(:last-child)::after {content: \"\\00b7\"; padding: 0 .5ex}\n",
       "</style>\n",
       "<ol class=list-inline><li>30557</li><li>82</li></ol>\n"
      ],
      "text/latex": [
       "\\begin{enumerate*}\n",
       "\\item 30557\n",
       "\\item 82\n",
       "\\end{enumerate*}\n"
      ],
      "text/markdown": [
       "1. 30557\n",
       "2. 82\n",
       "\n",
       "\n"
      ],
      "text/plain": [
       "[1] 30557    82"
      ]
     },
     "metadata": {},
     "output_type": "display_data"
    }
   ],
   "source": [
    "# Display the number of rows and columns\n",
    "dim(data)"
   ]
  },
  {
   "cell_type": "markdown",
   "metadata": {},
   "source": [
    "Let's observe the data type of each column. We want only numerical data for our models."
   ]
  },
  {
   "cell_type": "code",
   "execution_count": 4,
   "metadata": {
    "vscode": {
     "languageId": "r"
    }
   },
   "outputs": [
    {
     "data": {
      "text/html": [
       "<style>\n",
       ".dl-inline {width: auto; margin:0; padding: 0}\n",
       ".dl-inline>dt, .dl-inline>dd {float: none; width: auto; display: inline-block}\n",
       ".dl-inline>dt::after {content: \":\\0020\"; padding-right: .5ex}\n",
       ".dl-inline>dt:not(:first-of-type) {padding-left: .5ex}\n",
       "</style><dl class=dl-inline><dt>Place_ID.X.Date</dt><dd>'character'</dd><dt>Date</dt><dd>'character'</dd><dt>Place_ID</dt><dd>'character'</dd><dt>target</dt><dd>'numeric'</dd><dt>target_min</dt><dd>'numeric'</dd><dt>target_max</dt><dd>'numeric'</dd><dt>target_variance</dt><dd>'numeric'</dd><dt>target_count</dt><dd>'integer'</dd><dt>precipitable_water_entire_atmosphere</dt><dd>'numeric'</dd><dt>relative_humidity_2m_above_ground</dt><dd>'numeric'</dd><dt>specific_humidity_2m_above_ground</dt><dd>'numeric'</dd><dt>temperature_2m_above_ground</dt><dd>'numeric'</dd><dt>u_component_of_wind_10m_above_ground</dt><dd>'numeric'</dd><dt>v_component_of_wind_10m_above_ground</dt><dd>'numeric'</dd><dt>L3_NO2_NO2_column_number_density</dt><dd>'numeric'</dd><dt>L3_NO2_NO2_slant_column_number_density</dt><dd>'numeric'</dd><dt>L3_NO2_absorbing_aerosol_index</dt><dd>'numeric'</dd><dt>L3_NO2_cloud_fraction</dt><dd>'numeric'</dd><dt>L3_NO2_sensor_altitude</dt><dd>'numeric'</dd><dt>L3_NO2_sensor_azimuth_angle</dt><dd>'numeric'</dd><dt>L3_NO2_sensor_zenith_angle</dt><dd>'numeric'</dd><dt>L3_NO2_solar_azimuth_angle</dt><dd>'numeric'</dd><dt>L3_NO2_solar_zenith_angle</dt><dd>'numeric'</dd><dt>L3_NO2_stratospheric_NO2_column_number_density</dt><dd>'numeric'</dd><dt>L3_NO2_tropopause_pressure</dt><dd>'numeric'</dd><dt>L3_NO2_tropospheric_NO2_column_number_density</dt><dd>'numeric'</dd><dt>L3_O3_O3_column_number_density</dt><dd>'numeric'</dd><dt>L3_O3_O3_effective_temperature</dt><dd>'numeric'</dd><dt>L3_O3_cloud_fraction</dt><dd>'numeric'</dd><dt>L3_O3_sensor_azimuth_angle</dt><dd>'numeric'</dd><dt>L3_O3_sensor_zenith_angle</dt><dd>'numeric'</dd><dt>L3_O3_solar_azimuth_angle</dt><dd>'numeric'</dd><dt>L3_O3_solar_zenith_angle</dt><dd>'numeric'</dd><dt>L3_CO_CO_column_number_density</dt><dd>'numeric'</dd><dt>L3_CO_H2O_column_number_density</dt><dd>'numeric'</dd><dt>L3_CO_cloud_height</dt><dd>'numeric'</dd><dt>L3_CO_sensor_altitude</dt><dd>'numeric'</dd><dt>L3_CO_sensor_azimuth_angle</dt><dd>'numeric'</dd><dt>L3_CO_sensor_zenith_angle</dt><dd>'numeric'</dd><dt>L3_CO_solar_azimuth_angle</dt><dd>'numeric'</dd><dt>L3_CO_solar_zenith_angle</dt><dd>'numeric'</dd><dt>L3_HCHO_HCHO_slant_column_number_density</dt><dd>'numeric'</dd><dt>L3_HCHO_cloud_fraction</dt><dd>'numeric'</dd><dt>L3_HCHO_sensor_azimuth_angle</dt><dd>'numeric'</dd><dt>L3_HCHO_sensor_zenith_angle</dt><dd>'numeric'</dd><dt>L3_HCHO_solar_azimuth_angle</dt><dd>'numeric'</dd><dt>L3_HCHO_solar_zenith_angle</dt><dd>'numeric'</dd><dt>L3_HCHO_tropospheric_HCHO_column_number_density</dt><dd>'numeric'</dd><dt>L3_HCHO_tropospheric_HCHO_column_number_density_amf</dt><dd>'numeric'</dd><dt>L3_CLOUD_cloud_base_height</dt><dd>'numeric'</dd><dt>L3_CLOUD_cloud_base_pressure</dt><dd>'numeric'</dd><dt>L3_CLOUD_cloud_fraction</dt><dd>'numeric'</dd><dt>L3_CLOUD_cloud_optical_depth</dt><dd>'numeric'</dd><dt>L3_CLOUD_cloud_top_height</dt><dd>'numeric'</dd><dt>L3_CLOUD_cloud_top_pressure</dt><dd>'numeric'</dd><dt>L3_CLOUD_sensor_azimuth_angle</dt><dd>'numeric'</dd><dt>L3_CLOUD_sensor_zenith_angle</dt><dd>'numeric'</dd><dt>L3_CLOUD_solar_azimuth_angle</dt><dd>'numeric'</dd><dt>L3_CLOUD_solar_zenith_angle</dt><dd>'numeric'</dd><dt>L3_CLOUD_surface_albedo</dt><dd>'numeric'</dd><dt>L3_AER_AI_absorbing_aerosol_index</dt><dd>'numeric'</dd><dt>L3_AER_AI_sensor_altitude</dt><dd>'numeric'</dd><dt>L3_AER_AI_sensor_azimuth_angle</dt><dd>'numeric'</dd><dt>L3_AER_AI_sensor_zenith_angle</dt><dd>'numeric'</dd><dt>L3_AER_AI_solar_azimuth_angle</dt><dd>'numeric'</dd><dt>L3_AER_AI_solar_zenith_angle</dt><dd>'numeric'</dd><dt>L3_SO2_SO2_column_number_density</dt><dd>'numeric'</dd><dt>L3_SO2_SO2_column_number_density_amf</dt><dd>'numeric'</dd><dt>L3_SO2_SO2_slant_column_number_density</dt><dd>'numeric'</dd><dt>L3_SO2_absorbing_aerosol_index</dt><dd>'numeric'</dd><dt>L3_SO2_cloud_fraction</dt><dd>'numeric'</dd><dt>L3_SO2_sensor_azimuth_angle</dt><dd>'numeric'</dd><dt>L3_SO2_sensor_zenith_angle</dt><dd>'numeric'</dd><dt>L3_SO2_solar_azimuth_angle</dt><dd>'numeric'</dd><dt>L3_SO2_solar_zenith_angle</dt><dd>'numeric'</dd><dt>L3_CH4_CH4_column_volume_mixing_ratio_dry_air</dt><dd>'numeric'</dd><dt>L3_CH4_aerosol_height</dt><dd>'numeric'</dd><dt>L3_CH4_aerosol_optical_depth</dt><dd>'numeric'</dd><dt>L3_CH4_sensor_azimuth_angle</dt><dd>'numeric'</dd><dt>L3_CH4_sensor_zenith_angle</dt><dd>'numeric'</dd><dt>L3_CH4_solar_azimuth_angle</dt><dd>'numeric'</dd><dt>L3_CH4_solar_zenith_angle</dt><dd>'numeric'</dd></dl>\n"
      ],
      "text/latex": [
       "\\begin{description*}\n",
       "\\item[Place\\textbackslash{}\\_ID.X.Date] 'character'\n",
       "\\item[Date] 'character'\n",
       "\\item[Place\\textbackslash{}\\_ID] 'character'\n",
       "\\item[target] 'numeric'\n",
       "\\item[target\\textbackslash{}\\_min] 'numeric'\n",
       "\\item[target\\textbackslash{}\\_max] 'numeric'\n",
       "\\item[target\\textbackslash{}\\_variance] 'numeric'\n",
       "\\item[target\\textbackslash{}\\_count] 'integer'\n",
       "\\item[precipitable\\textbackslash{}\\_water\\textbackslash{}\\_entire\\textbackslash{}\\_atmosphere] 'numeric'\n",
       "\\item[relative\\textbackslash{}\\_humidity\\textbackslash{}\\_2m\\textbackslash{}\\_above\\textbackslash{}\\_ground] 'numeric'\n",
       "\\item[specific\\textbackslash{}\\_humidity\\textbackslash{}\\_2m\\textbackslash{}\\_above\\textbackslash{}\\_ground] 'numeric'\n",
       "\\item[temperature\\textbackslash{}\\_2m\\textbackslash{}\\_above\\textbackslash{}\\_ground] 'numeric'\n",
       "\\item[u\\textbackslash{}\\_component\\textbackslash{}\\_of\\textbackslash{}\\_wind\\textbackslash{}\\_10m\\textbackslash{}\\_above\\textbackslash{}\\_ground] 'numeric'\n",
       "\\item[v\\textbackslash{}\\_component\\textbackslash{}\\_of\\textbackslash{}\\_wind\\textbackslash{}\\_10m\\textbackslash{}\\_above\\textbackslash{}\\_ground] 'numeric'\n",
       "\\item[L3\\textbackslash{}\\_NO2\\textbackslash{}\\_NO2\\textbackslash{}\\_column\\textbackslash{}\\_number\\textbackslash{}\\_density] 'numeric'\n",
       "\\item[L3\\textbackslash{}\\_NO2\\textbackslash{}\\_NO2\\textbackslash{}\\_slant\\textbackslash{}\\_column\\textbackslash{}\\_number\\textbackslash{}\\_density] 'numeric'\n",
       "\\item[L3\\textbackslash{}\\_NO2\\textbackslash{}\\_absorbing\\textbackslash{}\\_aerosol\\textbackslash{}\\_index] 'numeric'\n",
       "\\item[L3\\textbackslash{}\\_NO2\\textbackslash{}\\_cloud\\textbackslash{}\\_fraction] 'numeric'\n",
       "\\item[L3\\textbackslash{}\\_NO2\\textbackslash{}\\_sensor\\textbackslash{}\\_altitude] 'numeric'\n",
       "\\item[L3\\textbackslash{}\\_NO2\\textbackslash{}\\_sensor\\textbackslash{}\\_azimuth\\textbackslash{}\\_angle] 'numeric'\n",
       "\\item[L3\\textbackslash{}\\_NO2\\textbackslash{}\\_sensor\\textbackslash{}\\_zenith\\textbackslash{}\\_angle] 'numeric'\n",
       "\\item[L3\\textbackslash{}\\_NO2\\textbackslash{}\\_solar\\textbackslash{}\\_azimuth\\textbackslash{}\\_angle] 'numeric'\n",
       "\\item[L3\\textbackslash{}\\_NO2\\textbackslash{}\\_solar\\textbackslash{}\\_zenith\\textbackslash{}\\_angle] 'numeric'\n",
       "\\item[L3\\textbackslash{}\\_NO2\\textbackslash{}\\_stratospheric\\textbackslash{}\\_NO2\\textbackslash{}\\_column\\textbackslash{}\\_number\\textbackslash{}\\_density] 'numeric'\n",
       "\\item[L3\\textbackslash{}\\_NO2\\textbackslash{}\\_tropopause\\textbackslash{}\\_pressure] 'numeric'\n",
       "\\item[L3\\textbackslash{}\\_NO2\\textbackslash{}\\_tropospheric\\textbackslash{}\\_NO2\\textbackslash{}\\_column\\textbackslash{}\\_number\\textbackslash{}\\_density] 'numeric'\n",
       "\\item[L3\\textbackslash{}\\_O3\\textbackslash{}\\_O3\\textbackslash{}\\_column\\textbackslash{}\\_number\\textbackslash{}\\_density] 'numeric'\n",
       "\\item[L3\\textbackslash{}\\_O3\\textbackslash{}\\_O3\\textbackslash{}\\_effective\\textbackslash{}\\_temperature] 'numeric'\n",
       "\\item[L3\\textbackslash{}\\_O3\\textbackslash{}\\_cloud\\textbackslash{}\\_fraction] 'numeric'\n",
       "\\item[L3\\textbackslash{}\\_O3\\textbackslash{}\\_sensor\\textbackslash{}\\_azimuth\\textbackslash{}\\_angle] 'numeric'\n",
       "\\item[L3\\textbackslash{}\\_O3\\textbackslash{}\\_sensor\\textbackslash{}\\_zenith\\textbackslash{}\\_angle] 'numeric'\n",
       "\\item[L3\\textbackslash{}\\_O3\\textbackslash{}\\_solar\\textbackslash{}\\_azimuth\\textbackslash{}\\_angle] 'numeric'\n",
       "\\item[L3\\textbackslash{}\\_O3\\textbackslash{}\\_solar\\textbackslash{}\\_zenith\\textbackslash{}\\_angle] 'numeric'\n",
       "\\item[L3\\textbackslash{}\\_CO\\textbackslash{}\\_CO\\textbackslash{}\\_column\\textbackslash{}\\_number\\textbackslash{}\\_density] 'numeric'\n",
       "\\item[L3\\textbackslash{}\\_CO\\textbackslash{}\\_H2O\\textbackslash{}\\_column\\textbackslash{}\\_number\\textbackslash{}\\_density] 'numeric'\n",
       "\\item[L3\\textbackslash{}\\_CO\\textbackslash{}\\_cloud\\textbackslash{}\\_height] 'numeric'\n",
       "\\item[L3\\textbackslash{}\\_CO\\textbackslash{}\\_sensor\\textbackslash{}\\_altitude] 'numeric'\n",
       "\\item[L3\\textbackslash{}\\_CO\\textbackslash{}\\_sensor\\textbackslash{}\\_azimuth\\textbackslash{}\\_angle] 'numeric'\n",
       "\\item[L3\\textbackslash{}\\_CO\\textbackslash{}\\_sensor\\textbackslash{}\\_zenith\\textbackslash{}\\_angle] 'numeric'\n",
       "\\item[L3\\textbackslash{}\\_CO\\textbackslash{}\\_solar\\textbackslash{}\\_azimuth\\textbackslash{}\\_angle] 'numeric'\n",
       "\\item[L3\\textbackslash{}\\_CO\\textbackslash{}\\_solar\\textbackslash{}\\_zenith\\textbackslash{}\\_angle] 'numeric'\n",
       "\\item[L3\\textbackslash{}\\_HCHO\\textbackslash{}\\_HCHO\\textbackslash{}\\_slant\\textbackslash{}\\_column\\textbackslash{}\\_number\\textbackslash{}\\_density] 'numeric'\n",
       "\\item[L3\\textbackslash{}\\_HCHO\\textbackslash{}\\_cloud\\textbackslash{}\\_fraction] 'numeric'\n",
       "\\item[L3\\textbackslash{}\\_HCHO\\textbackslash{}\\_sensor\\textbackslash{}\\_azimuth\\textbackslash{}\\_angle] 'numeric'\n",
       "\\item[L3\\textbackslash{}\\_HCHO\\textbackslash{}\\_sensor\\textbackslash{}\\_zenith\\textbackslash{}\\_angle] 'numeric'\n",
       "\\item[L3\\textbackslash{}\\_HCHO\\textbackslash{}\\_solar\\textbackslash{}\\_azimuth\\textbackslash{}\\_angle] 'numeric'\n",
       "\\item[L3\\textbackslash{}\\_HCHO\\textbackslash{}\\_solar\\textbackslash{}\\_zenith\\textbackslash{}\\_angle] 'numeric'\n",
       "\\item[L3\\textbackslash{}\\_HCHO\\textbackslash{}\\_tropospheric\\textbackslash{}\\_HCHO\\textbackslash{}\\_column\\textbackslash{}\\_number\\textbackslash{}\\_density] 'numeric'\n",
       "\\item[L3\\textbackslash{}\\_HCHO\\textbackslash{}\\_tropospheric\\textbackslash{}\\_HCHO\\textbackslash{}\\_column\\textbackslash{}\\_number\\textbackslash{}\\_density\\textbackslash{}\\_amf] 'numeric'\n",
       "\\item[L3\\textbackslash{}\\_CLOUD\\textbackslash{}\\_cloud\\textbackslash{}\\_base\\textbackslash{}\\_height] 'numeric'\n",
       "\\item[L3\\textbackslash{}\\_CLOUD\\textbackslash{}\\_cloud\\textbackslash{}\\_base\\textbackslash{}\\_pressure] 'numeric'\n",
       "\\item[L3\\textbackslash{}\\_CLOUD\\textbackslash{}\\_cloud\\textbackslash{}\\_fraction] 'numeric'\n",
       "\\item[L3\\textbackslash{}\\_CLOUD\\textbackslash{}\\_cloud\\textbackslash{}\\_optical\\textbackslash{}\\_depth] 'numeric'\n",
       "\\item[L3\\textbackslash{}\\_CLOUD\\textbackslash{}\\_cloud\\textbackslash{}\\_top\\textbackslash{}\\_height] 'numeric'\n",
       "\\item[L3\\textbackslash{}\\_CLOUD\\textbackslash{}\\_cloud\\textbackslash{}\\_top\\textbackslash{}\\_pressure] 'numeric'\n",
       "\\item[L3\\textbackslash{}\\_CLOUD\\textbackslash{}\\_sensor\\textbackslash{}\\_azimuth\\textbackslash{}\\_angle] 'numeric'\n",
       "\\item[L3\\textbackslash{}\\_CLOUD\\textbackslash{}\\_sensor\\textbackslash{}\\_zenith\\textbackslash{}\\_angle] 'numeric'\n",
       "\\item[L3\\textbackslash{}\\_CLOUD\\textbackslash{}\\_solar\\textbackslash{}\\_azimuth\\textbackslash{}\\_angle] 'numeric'\n",
       "\\item[L3\\textbackslash{}\\_CLOUD\\textbackslash{}\\_solar\\textbackslash{}\\_zenith\\textbackslash{}\\_angle] 'numeric'\n",
       "\\item[L3\\textbackslash{}\\_CLOUD\\textbackslash{}\\_surface\\textbackslash{}\\_albedo] 'numeric'\n",
       "\\item[L3\\textbackslash{}\\_AER\\textbackslash{}\\_AI\\textbackslash{}\\_absorbing\\textbackslash{}\\_aerosol\\textbackslash{}\\_index] 'numeric'\n",
       "\\item[L3\\textbackslash{}\\_AER\\textbackslash{}\\_AI\\textbackslash{}\\_sensor\\textbackslash{}\\_altitude] 'numeric'\n",
       "\\item[L3\\textbackslash{}\\_AER\\textbackslash{}\\_AI\\textbackslash{}\\_sensor\\textbackslash{}\\_azimuth\\textbackslash{}\\_angle] 'numeric'\n",
       "\\item[L3\\textbackslash{}\\_AER\\textbackslash{}\\_AI\\textbackslash{}\\_sensor\\textbackslash{}\\_zenith\\textbackslash{}\\_angle] 'numeric'\n",
       "\\item[L3\\textbackslash{}\\_AER\\textbackslash{}\\_AI\\textbackslash{}\\_solar\\textbackslash{}\\_azimuth\\textbackslash{}\\_angle] 'numeric'\n",
       "\\item[L3\\textbackslash{}\\_AER\\textbackslash{}\\_AI\\textbackslash{}\\_solar\\textbackslash{}\\_zenith\\textbackslash{}\\_angle] 'numeric'\n",
       "\\item[L3\\textbackslash{}\\_SO2\\textbackslash{}\\_SO2\\textbackslash{}\\_column\\textbackslash{}\\_number\\textbackslash{}\\_density] 'numeric'\n",
       "\\item[L3\\textbackslash{}\\_SO2\\textbackslash{}\\_SO2\\textbackslash{}\\_column\\textbackslash{}\\_number\\textbackslash{}\\_density\\textbackslash{}\\_amf] 'numeric'\n",
       "\\item[L3\\textbackslash{}\\_SO2\\textbackslash{}\\_SO2\\textbackslash{}\\_slant\\textbackslash{}\\_column\\textbackslash{}\\_number\\textbackslash{}\\_density] 'numeric'\n",
       "\\item[L3\\textbackslash{}\\_SO2\\textbackslash{}\\_absorbing\\textbackslash{}\\_aerosol\\textbackslash{}\\_index] 'numeric'\n",
       "\\item[L3\\textbackslash{}\\_SO2\\textbackslash{}\\_cloud\\textbackslash{}\\_fraction] 'numeric'\n",
       "\\item[L3\\textbackslash{}\\_SO2\\textbackslash{}\\_sensor\\textbackslash{}\\_azimuth\\textbackslash{}\\_angle] 'numeric'\n",
       "\\item[L3\\textbackslash{}\\_SO2\\textbackslash{}\\_sensor\\textbackslash{}\\_zenith\\textbackslash{}\\_angle] 'numeric'\n",
       "\\item[L3\\textbackslash{}\\_SO2\\textbackslash{}\\_solar\\textbackslash{}\\_azimuth\\textbackslash{}\\_angle] 'numeric'\n",
       "\\item[L3\\textbackslash{}\\_SO2\\textbackslash{}\\_solar\\textbackslash{}\\_zenith\\textbackslash{}\\_angle] 'numeric'\n",
       "\\item[L3\\textbackslash{}\\_CH4\\textbackslash{}\\_CH4\\textbackslash{}\\_column\\textbackslash{}\\_volume\\textbackslash{}\\_mixing\\textbackslash{}\\_ratio\\textbackslash{}\\_dry\\textbackslash{}\\_air] 'numeric'\n",
       "\\item[L3\\textbackslash{}\\_CH4\\textbackslash{}\\_aerosol\\textbackslash{}\\_height] 'numeric'\n",
       "\\item[L3\\textbackslash{}\\_CH4\\textbackslash{}\\_aerosol\\textbackslash{}\\_optical\\textbackslash{}\\_depth] 'numeric'\n",
       "\\item[L3\\textbackslash{}\\_CH4\\textbackslash{}\\_sensor\\textbackslash{}\\_azimuth\\textbackslash{}\\_angle] 'numeric'\n",
       "\\item[L3\\textbackslash{}\\_CH4\\textbackslash{}\\_sensor\\textbackslash{}\\_zenith\\textbackslash{}\\_angle] 'numeric'\n",
       "\\item[L3\\textbackslash{}\\_CH4\\textbackslash{}\\_solar\\textbackslash{}\\_azimuth\\textbackslash{}\\_angle] 'numeric'\n",
       "\\item[L3\\textbackslash{}\\_CH4\\textbackslash{}\\_solar\\textbackslash{}\\_zenith\\textbackslash{}\\_angle] 'numeric'\n",
       "\\end{description*}\n"
      ],
      "text/markdown": [
       "Place_ID.X.Date\n",
       ":   'character'Date\n",
       ":   'character'Place_ID\n",
       ":   'character'target\n",
       ":   'numeric'target_min\n",
       ":   'numeric'target_max\n",
       ":   'numeric'target_variance\n",
       ":   'numeric'target_count\n",
       ":   'integer'precipitable_water_entire_atmosphere\n",
       ":   'numeric'relative_humidity_2m_above_ground\n",
       ":   'numeric'specific_humidity_2m_above_ground\n",
       ":   'numeric'temperature_2m_above_ground\n",
       ":   'numeric'u_component_of_wind_10m_above_ground\n",
       ":   'numeric'v_component_of_wind_10m_above_ground\n",
       ":   'numeric'L3_NO2_NO2_column_number_density\n",
       ":   'numeric'L3_NO2_NO2_slant_column_number_density\n",
       ":   'numeric'L3_NO2_absorbing_aerosol_index\n",
       ":   'numeric'L3_NO2_cloud_fraction\n",
       ":   'numeric'L3_NO2_sensor_altitude\n",
       ":   'numeric'L3_NO2_sensor_azimuth_angle\n",
       ":   'numeric'L3_NO2_sensor_zenith_angle\n",
       ":   'numeric'L3_NO2_solar_azimuth_angle\n",
       ":   'numeric'L3_NO2_solar_zenith_angle\n",
       ":   'numeric'L3_NO2_stratospheric_NO2_column_number_density\n",
       ":   'numeric'L3_NO2_tropopause_pressure\n",
       ":   'numeric'L3_NO2_tropospheric_NO2_column_number_density\n",
       ":   'numeric'L3_O3_O3_column_number_density\n",
       ":   'numeric'L3_O3_O3_effective_temperature\n",
       ":   'numeric'L3_O3_cloud_fraction\n",
       ":   'numeric'L3_O3_sensor_azimuth_angle\n",
       ":   'numeric'L3_O3_sensor_zenith_angle\n",
       ":   'numeric'L3_O3_solar_azimuth_angle\n",
       ":   'numeric'L3_O3_solar_zenith_angle\n",
       ":   'numeric'L3_CO_CO_column_number_density\n",
       ":   'numeric'L3_CO_H2O_column_number_density\n",
       ":   'numeric'L3_CO_cloud_height\n",
       ":   'numeric'L3_CO_sensor_altitude\n",
       ":   'numeric'L3_CO_sensor_azimuth_angle\n",
       ":   'numeric'L3_CO_sensor_zenith_angle\n",
       ":   'numeric'L3_CO_solar_azimuth_angle\n",
       ":   'numeric'L3_CO_solar_zenith_angle\n",
       ":   'numeric'L3_HCHO_HCHO_slant_column_number_density\n",
       ":   'numeric'L3_HCHO_cloud_fraction\n",
       ":   'numeric'L3_HCHO_sensor_azimuth_angle\n",
       ":   'numeric'L3_HCHO_sensor_zenith_angle\n",
       ":   'numeric'L3_HCHO_solar_azimuth_angle\n",
       ":   'numeric'L3_HCHO_solar_zenith_angle\n",
       ":   'numeric'L3_HCHO_tropospheric_HCHO_column_number_density\n",
       ":   'numeric'L3_HCHO_tropospheric_HCHO_column_number_density_amf\n",
       ":   'numeric'L3_CLOUD_cloud_base_height\n",
       ":   'numeric'L3_CLOUD_cloud_base_pressure\n",
       ":   'numeric'L3_CLOUD_cloud_fraction\n",
       ":   'numeric'L3_CLOUD_cloud_optical_depth\n",
       ":   'numeric'L3_CLOUD_cloud_top_height\n",
       ":   'numeric'L3_CLOUD_cloud_top_pressure\n",
       ":   'numeric'L3_CLOUD_sensor_azimuth_angle\n",
       ":   'numeric'L3_CLOUD_sensor_zenith_angle\n",
       ":   'numeric'L3_CLOUD_solar_azimuth_angle\n",
       ":   'numeric'L3_CLOUD_solar_zenith_angle\n",
       ":   'numeric'L3_CLOUD_surface_albedo\n",
       ":   'numeric'L3_AER_AI_absorbing_aerosol_index\n",
       ":   'numeric'L3_AER_AI_sensor_altitude\n",
       ":   'numeric'L3_AER_AI_sensor_azimuth_angle\n",
       ":   'numeric'L3_AER_AI_sensor_zenith_angle\n",
       ":   'numeric'L3_AER_AI_solar_azimuth_angle\n",
       ":   'numeric'L3_AER_AI_solar_zenith_angle\n",
       ":   'numeric'L3_SO2_SO2_column_number_density\n",
       ":   'numeric'L3_SO2_SO2_column_number_density_amf\n",
       ":   'numeric'L3_SO2_SO2_slant_column_number_density\n",
       ":   'numeric'L3_SO2_absorbing_aerosol_index\n",
       ":   'numeric'L3_SO2_cloud_fraction\n",
       ":   'numeric'L3_SO2_sensor_azimuth_angle\n",
       ":   'numeric'L3_SO2_sensor_zenith_angle\n",
       ":   'numeric'L3_SO2_solar_azimuth_angle\n",
       ":   'numeric'L3_SO2_solar_zenith_angle\n",
       ":   'numeric'L3_CH4_CH4_column_volume_mixing_ratio_dry_air\n",
       ":   'numeric'L3_CH4_aerosol_height\n",
       ":   'numeric'L3_CH4_aerosol_optical_depth\n",
       ":   'numeric'L3_CH4_sensor_azimuth_angle\n",
       ":   'numeric'L3_CH4_sensor_zenith_angle\n",
       ":   'numeric'L3_CH4_solar_azimuth_angle\n",
       ":   'numeric'L3_CH4_solar_zenith_angle\n",
       ":   'numeric'\n",
       "\n"
      ],
      "text/plain": [
       "                                    Place_ID.X.Date \n",
       "                                        \"character\" \n",
       "                                               Date \n",
       "                                        \"character\" \n",
       "                                           Place_ID \n",
       "                                        \"character\" \n",
       "                                             target \n",
       "                                          \"numeric\" \n",
       "                                         target_min \n",
       "                                          \"numeric\" \n",
       "                                         target_max \n",
       "                                          \"numeric\" \n",
       "                                    target_variance \n",
       "                                          \"numeric\" \n",
       "                                       target_count \n",
       "                                          \"integer\" \n",
       "               precipitable_water_entire_atmosphere \n",
       "                                          \"numeric\" \n",
       "                  relative_humidity_2m_above_ground \n",
       "                                          \"numeric\" \n",
       "                  specific_humidity_2m_above_ground \n",
       "                                          \"numeric\" \n",
       "                        temperature_2m_above_ground \n",
       "                                          \"numeric\" \n",
       "               u_component_of_wind_10m_above_ground \n",
       "                                          \"numeric\" \n",
       "               v_component_of_wind_10m_above_ground \n",
       "                                          \"numeric\" \n",
       "                   L3_NO2_NO2_column_number_density \n",
       "                                          \"numeric\" \n",
       "             L3_NO2_NO2_slant_column_number_density \n",
       "                                          \"numeric\" \n",
       "                     L3_NO2_absorbing_aerosol_index \n",
       "                                          \"numeric\" \n",
       "                              L3_NO2_cloud_fraction \n",
       "                                          \"numeric\" \n",
       "                             L3_NO2_sensor_altitude \n",
       "                                          \"numeric\" \n",
       "                        L3_NO2_sensor_azimuth_angle \n",
       "                                          \"numeric\" \n",
       "                         L3_NO2_sensor_zenith_angle \n",
       "                                          \"numeric\" \n",
       "                         L3_NO2_solar_azimuth_angle \n",
       "                                          \"numeric\" \n",
       "                          L3_NO2_solar_zenith_angle \n",
       "                                          \"numeric\" \n",
       "     L3_NO2_stratospheric_NO2_column_number_density \n",
       "                                          \"numeric\" \n",
       "                         L3_NO2_tropopause_pressure \n",
       "                                          \"numeric\" \n",
       "      L3_NO2_tropospheric_NO2_column_number_density \n",
       "                                          \"numeric\" \n",
       "                     L3_O3_O3_column_number_density \n",
       "                                          \"numeric\" \n",
       "                     L3_O3_O3_effective_temperature \n",
       "                                          \"numeric\" \n",
       "                               L3_O3_cloud_fraction \n",
       "                                          \"numeric\" \n",
       "                         L3_O3_sensor_azimuth_angle \n",
       "                                          \"numeric\" \n",
       "                          L3_O3_sensor_zenith_angle \n",
       "                                          \"numeric\" \n",
       "                          L3_O3_solar_azimuth_angle \n",
       "                                          \"numeric\" \n",
       "                           L3_O3_solar_zenith_angle \n",
       "                                          \"numeric\" \n",
       "                     L3_CO_CO_column_number_density \n",
       "                                          \"numeric\" \n",
       "                    L3_CO_H2O_column_number_density \n",
       "                                          \"numeric\" \n",
       "                                 L3_CO_cloud_height \n",
       "                                          \"numeric\" \n",
       "                              L3_CO_sensor_altitude \n",
       "                                          \"numeric\" \n",
       "                         L3_CO_sensor_azimuth_angle \n",
       "                                          \"numeric\" \n",
       "                          L3_CO_sensor_zenith_angle \n",
       "                                          \"numeric\" \n",
       "                          L3_CO_solar_azimuth_angle \n",
       "                                          \"numeric\" \n",
       "                           L3_CO_solar_zenith_angle \n",
       "                                          \"numeric\" \n",
       "           L3_HCHO_HCHO_slant_column_number_density \n",
       "                                          \"numeric\" \n",
       "                             L3_HCHO_cloud_fraction \n",
       "                                          \"numeric\" \n",
       "                       L3_HCHO_sensor_azimuth_angle \n",
       "                                          \"numeric\" \n",
       "                        L3_HCHO_sensor_zenith_angle \n",
       "                                          \"numeric\" \n",
       "                        L3_HCHO_solar_azimuth_angle \n",
       "                                          \"numeric\" \n",
       "                         L3_HCHO_solar_zenith_angle \n",
       "                                          \"numeric\" \n",
       "    L3_HCHO_tropospheric_HCHO_column_number_density \n",
       "                                          \"numeric\" \n",
       "L3_HCHO_tropospheric_HCHO_column_number_density_amf \n",
       "                                          \"numeric\" \n",
       "                         L3_CLOUD_cloud_base_height \n",
       "                                          \"numeric\" \n",
       "                       L3_CLOUD_cloud_base_pressure \n",
       "                                          \"numeric\" \n",
       "                            L3_CLOUD_cloud_fraction \n",
       "                                          \"numeric\" \n",
       "                       L3_CLOUD_cloud_optical_depth \n",
       "                                          \"numeric\" \n",
       "                          L3_CLOUD_cloud_top_height \n",
       "                                          \"numeric\" \n",
       "                        L3_CLOUD_cloud_top_pressure \n",
       "                                          \"numeric\" \n",
       "                      L3_CLOUD_sensor_azimuth_angle \n",
       "                                          \"numeric\" \n",
       "                       L3_CLOUD_sensor_zenith_angle \n",
       "                                          \"numeric\" \n",
       "                       L3_CLOUD_solar_azimuth_angle \n",
       "                                          \"numeric\" \n",
       "                        L3_CLOUD_solar_zenith_angle \n",
       "                                          \"numeric\" \n",
       "                            L3_CLOUD_surface_albedo \n",
       "                                          \"numeric\" \n",
       "                  L3_AER_AI_absorbing_aerosol_index \n",
       "                                          \"numeric\" \n",
       "                          L3_AER_AI_sensor_altitude \n",
       "                                          \"numeric\" \n",
       "                     L3_AER_AI_sensor_azimuth_angle \n",
       "                                          \"numeric\" \n",
       "                      L3_AER_AI_sensor_zenith_angle \n",
       "                                          \"numeric\" \n",
       "                      L3_AER_AI_solar_azimuth_angle \n",
       "                                          \"numeric\" \n",
       "                       L3_AER_AI_solar_zenith_angle \n",
       "                                          \"numeric\" \n",
       "                   L3_SO2_SO2_column_number_density \n",
       "                                          \"numeric\" \n",
       "               L3_SO2_SO2_column_number_density_amf \n",
       "                                          \"numeric\" \n",
       "             L3_SO2_SO2_slant_column_number_density \n",
       "                                          \"numeric\" \n",
       "                     L3_SO2_absorbing_aerosol_index \n",
       "                                          \"numeric\" \n",
       "                              L3_SO2_cloud_fraction \n",
       "                                          \"numeric\" \n",
       "                        L3_SO2_sensor_azimuth_angle \n",
       "                                          \"numeric\" \n",
       "                         L3_SO2_sensor_zenith_angle \n",
       "                                          \"numeric\" \n",
       "                         L3_SO2_solar_azimuth_angle \n",
       "                                          \"numeric\" \n",
       "                          L3_SO2_solar_zenith_angle \n",
       "                                          \"numeric\" \n",
       "      L3_CH4_CH4_column_volume_mixing_ratio_dry_air \n",
       "                                          \"numeric\" \n",
       "                              L3_CH4_aerosol_height \n",
       "                                          \"numeric\" \n",
       "                       L3_CH4_aerosol_optical_depth \n",
       "                                          \"numeric\" \n",
       "                        L3_CH4_sensor_azimuth_angle \n",
       "                                          \"numeric\" \n",
       "                         L3_CH4_sensor_zenith_angle \n",
       "                                          \"numeric\" \n",
       "                         L3_CH4_solar_azimuth_angle \n",
       "                                          \"numeric\" \n",
       "                          L3_CH4_solar_zenith_angle \n",
       "                                          \"numeric\" "
      ]
     },
     "metadata": {},
     "output_type": "display_data"
    }
   ],
   "source": [
    "# Check the data types of the columns\n",
    "sapply(data[1,],class)"
   ]
  },
  {
   "cell_type": "markdown",
   "metadata": {},
   "source": [
    "Let's discard the useless columns (columns linked to the target). After this operation, only the \"Date\" column will still contain character data. All other columns contain only numeric data."
   ]
  },
  {
   "cell_type": "code",
   "execution_count": 5,
   "metadata": {
    "vscode": {
     "languageId": "r"
    }
   },
   "outputs": [
    {
     "data": {
      "text/html": [
       "<table class=\"dataframe\">\n",
       "<caption>A data.frame: 5 × 76</caption>\n",
       "<thead>\n",
       "\t<tr><th></th><th scope=col>Date</th><th scope=col>target</th><th scope=col>precipitable_water_entire_atmosphere</th><th scope=col>relative_humidity_2m_above_ground</th><th scope=col>specific_humidity_2m_above_ground</th><th scope=col>temperature_2m_above_ground</th><th scope=col>u_component_of_wind_10m_above_ground</th><th scope=col>v_component_of_wind_10m_above_ground</th><th scope=col>L3_NO2_NO2_column_number_density</th><th scope=col>L3_NO2_NO2_slant_column_number_density</th><th scope=col>⋯</th><th scope=col>L3_SO2_sensor_zenith_angle</th><th scope=col>L3_SO2_solar_azimuth_angle</th><th scope=col>L3_SO2_solar_zenith_angle</th><th scope=col>L3_CH4_CH4_column_volume_mixing_ratio_dry_air</th><th scope=col>L3_CH4_aerosol_height</th><th scope=col>L3_CH4_aerosol_optical_depth</th><th scope=col>L3_CH4_sensor_azimuth_angle</th><th scope=col>L3_CH4_sensor_zenith_angle</th><th scope=col>L3_CH4_solar_azimuth_angle</th><th scope=col>L3_CH4_solar_zenith_angle</th></tr>\n",
       "\t<tr><th></th><th scope=col>&lt;chr&gt;</th><th scope=col>&lt;dbl&gt;</th><th scope=col>&lt;dbl&gt;</th><th scope=col>&lt;dbl&gt;</th><th scope=col>&lt;dbl&gt;</th><th scope=col>&lt;dbl&gt;</th><th scope=col>&lt;dbl&gt;</th><th scope=col>&lt;dbl&gt;</th><th scope=col>&lt;dbl&gt;</th><th scope=col>&lt;dbl&gt;</th><th scope=col>⋯</th><th scope=col>&lt;dbl&gt;</th><th scope=col>&lt;dbl&gt;</th><th scope=col>&lt;dbl&gt;</th><th scope=col>&lt;dbl&gt;</th><th scope=col>&lt;dbl&gt;</th><th scope=col>&lt;dbl&gt;</th><th scope=col>&lt;dbl&gt;</th><th scope=col>&lt;dbl&gt;</th><th scope=col>&lt;dbl&gt;</th><th scope=col>&lt;dbl&gt;</th></tr>\n",
       "</thead>\n",
       "<tbody>\n",
       "\t<tr><th scope=row>1</th><td>2020-01-02</td><td>38</td><td>11.000000</td><td>60.2</td><td>0.00804</td><td>18.51684</td><td>1.996377</td><td>-1.227395</td><td>7.383038e-05</td><td>0.0001558203</td><td>⋯</td><td>38.5930174</td><td>-61.75259</td><td>22.36366</td><td>1793.794</td><td>3227.855</td><td>0.01057904</td><td>74.48105</td><td>37.50150</td><td>-62.14264</td><td>22.54512</td></tr>\n",
       "\t<tr><th scope=row>2</th><td>2020-01-03</td><td>39</td><td>14.600000</td><td>48.8</td><td>0.00839</td><td>22.54653</td><td>3.330430</td><td>-1.188108</td><td>7.603261e-05</td><td>0.0001968663</td><td>⋯</td><td>59.6249116</td><td>-67.69351</td><td>28.61480</td><td>1789.960</td><td>3384.227</td><td>0.01510438</td><td>75.63004</td><td>55.65749</td><td>-53.86813</td><td>19.29365</td></tr>\n",
       "\t<tr><th scope=row>3</th><td>2020-01-04</td><td>24</td><td>16.400000</td><td>33.4</td><td>0.00750</td><td>27.03103</td><td>5.065727</td><td> 3.500559</td><td>6.660776e-05</td><td>0.0001704180</td><td>⋯</td><td>49.8397137</td><td>-78.34270</td><td>34.29698</td><td>      NA</td><td>      NA</td><td>        NA</td><td>      NA</td><td>      NA</td><td>       NA</td><td>      NA</td></tr>\n",
       "\t<tr><th scope=row>4</th><td>2020-01-05</td><td>49</td><td> 6.911948</td><td>21.3</td><td>0.00391</td><td>23.97186</td><td>3.004001</td><td> 1.099468</td><td>8.258178e-05</td><td>0.0001748593</td><td>⋯</td><td>29.1812580</td><td>-73.89659</td><td>30.54545</td><td>      NA</td><td>      NA</td><td>        NA</td><td>      NA</td><td>      NA</td><td>       NA</td><td>      NA</td></tr>\n",
       "\t<tr><th scope=row>5</th><td>2020-01-06</td><td>21</td><td>13.900001</td><td>44.7</td><td>0.00535</td><td>16.81631</td><td>2.621787</td><td> 2.670559</td><td>7.038484e-05</td><td>0.0001415511</td><td>⋯</td><td> 0.7972941</td><td>-68.61248</td><td>26.89969</td><td>      NA</td><td>      NA</td><td>        NA</td><td>      NA</td><td>      NA</td><td>       NA</td><td>      NA</td></tr>\n",
       "</tbody>\n",
       "</table>\n"
      ],
      "text/latex": [
       "A data.frame: 5 × 76\n",
       "\\begin{tabular}{r|lllllllllllllllllllll}\n",
       "  & Date & target & precipitable\\_water\\_entire\\_atmosphere & relative\\_humidity\\_2m\\_above\\_ground & specific\\_humidity\\_2m\\_above\\_ground & temperature\\_2m\\_above\\_ground & u\\_component\\_of\\_wind\\_10m\\_above\\_ground & v\\_component\\_of\\_wind\\_10m\\_above\\_ground & L3\\_NO2\\_NO2\\_column\\_number\\_density & L3\\_NO2\\_NO2\\_slant\\_column\\_number\\_density & ⋯ & L3\\_SO2\\_sensor\\_zenith\\_angle & L3\\_SO2\\_solar\\_azimuth\\_angle & L3\\_SO2\\_solar\\_zenith\\_angle & L3\\_CH4\\_CH4\\_column\\_volume\\_mixing\\_ratio\\_dry\\_air & L3\\_CH4\\_aerosol\\_height & L3\\_CH4\\_aerosol\\_optical\\_depth & L3\\_CH4\\_sensor\\_azimuth\\_angle & L3\\_CH4\\_sensor\\_zenith\\_angle & L3\\_CH4\\_solar\\_azimuth\\_angle & L3\\_CH4\\_solar\\_zenith\\_angle\\\\\n",
       "  & <chr> & <dbl> & <dbl> & <dbl> & <dbl> & <dbl> & <dbl> & <dbl> & <dbl> & <dbl> & ⋯ & <dbl> & <dbl> & <dbl> & <dbl> & <dbl> & <dbl> & <dbl> & <dbl> & <dbl> & <dbl>\\\\\n",
       "\\hline\n",
       "\t1 & 2020-01-02 & 38 & 11.000000 & 60.2 & 0.00804 & 18.51684 & 1.996377 & -1.227395 & 7.383038e-05 & 0.0001558203 & ⋯ & 38.5930174 & -61.75259 & 22.36366 & 1793.794 & 3227.855 & 0.01057904 & 74.48105 & 37.50150 & -62.14264 & 22.54512\\\\\n",
       "\t2 & 2020-01-03 & 39 & 14.600000 & 48.8 & 0.00839 & 22.54653 & 3.330430 & -1.188108 & 7.603261e-05 & 0.0001968663 & ⋯ & 59.6249116 & -67.69351 & 28.61480 & 1789.960 & 3384.227 & 0.01510438 & 75.63004 & 55.65749 & -53.86813 & 19.29365\\\\\n",
       "\t3 & 2020-01-04 & 24 & 16.400000 & 33.4 & 0.00750 & 27.03103 & 5.065727 &  3.500559 & 6.660776e-05 & 0.0001704180 & ⋯ & 49.8397137 & -78.34270 & 34.29698 &       NA &       NA &         NA &       NA &       NA &        NA &       NA\\\\\n",
       "\t4 & 2020-01-05 & 49 &  6.911948 & 21.3 & 0.00391 & 23.97186 & 3.004001 &  1.099468 & 8.258178e-05 & 0.0001748593 & ⋯ & 29.1812580 & -73.89659 & 30.54545 &       NA &       NA &         NA &       NA &       NA &        NA &       NA\\\\\n",
       "\t5 & 2020-01-06 & 21 & 13.900001 & 44.7 & 0.00535 & 16.81631 & 2.621787 &  2.670559 & 7.038484e-05 & 0.0001415511 & ⋯ &  0.7972941 & -68.61248 & 26.89969 &       NA &       NA &         NA &       NA &       NA &        NA &       NA\\\\\n",
       "\\end{tabular}\n"
      ],
      "text/markdown": [
       "\n",
       "A data.frame: 5 × 76\n",
       "\n",
       "| <!--/--> | Date &lt;chr&gt; | target &lt;dbl&gt; | precipitable_water_entire_atmosphere &lt;dbl&gt; | relative_humidity_2m_above_ground &lt;dbl&gt; | specific_humidity_2m_above_ground &lt;dbl&gt; | temperature_2m_above_ground &lt;dbl&gt; | u_component_of_wind_10m_above_ground &lt;dbl&gt; | v_component_of_wind_10m_above_ground &lt;dbl&gt; | L3_NO2_NO2_column_number_density &lt;dbl&gt; | L3_NO2_NO2_slant_column_number_density &lt;dbl&gt; | ⋯ ⋯ | L3_SO2_sensor_zenith_angle &lt;dbl&gt; | L3_SO2_solar_azimuth_angle &lt;dbl&gt; | L3_SO2_solar_zenith_angle &lt;dbl&gt; | L3_CH4_CH4_column_volume_mixing_ratio_dry_air &lt;dbl&gt; | L3_CH4_aerosol_height &lt;dbl&gt; | L3_CH4_aerosol_optical_depth &lt;dbl&gt; | L3_CH4_sensor_azimuth_angle &lt;dbl&gt; | L3_CH4_sensor_zenith_angle &lt;dbl&gt; | L3_CH4_solar_azimuth_angle &lt;dbl&gt; | L3_CH4_solar_zenith_angle &lt;dbl&gt; |\n",
       "|---|---|---|---|---|---|---|---|---|---|---|---|---|---|---|---|---|---|---|---|---|---|\n",
       "| 1 | 2020-01-02 | 38 | 11.000000 | 60.2 | 0.00804 | 18.51684 | 1.996377 | -1.227395 | 7.383038e-05 | 0.0001558203 | ⋯ | 38.5930174 | -61.75259 | 22.36366 | 1793.794 | 3227.855 | 0.01057904 | 74.48105 | 37.50150 | -62.14264 | 22.54512 |\n",
       "| 2 | 2020-01-03 | 39 | 14.600000 | 48.8 | 0.00839 | 22.54653 | 3.330430 | -1.188108 | 7.603261e-05 | 0.0001968663 | ⋯ | 59.6249116 | -67.69351 | 28.61480 | 1789.960 | 3384.227 | 0.01510438 | 75.63004 | 55.65749 | -53.86813 | 19.29365 |\n",
       "| 3 | 2020-01-04 | 24 | 16.400000 | 33.4 | 0.00750 | 27.03103 | 5.065727 |  3.500559 | 6.660776e-05 | 0.0001704180 | ⋯ | 49.8397137 | -78.34270 | 34.29698 |       NA |       NA |         NA |       NA |       NA |        NA |       NA |\n",
       "| 4 | 2020-01-05 | 49 |  6.911948 | 21.3 | 0.00391 | 23.97186 | 3.004001 |  1.099468 | 8.258178e-05 | 0.0001748593 | ⋯ | 29.1812580 | -73.89659 | 30.54545 |       NA |       NA |         NA |       NA |       NA |        NA |       NA |\n",
       "| 5 | 2020-01-06 | 21 | 13.900001 | 44.7 | 0.00535 | 16.81631 | 2.621787 |  2.670559 | 7.038484e-05 | 0.0001415511 | ⋯ |  0.7972941 | -68.61248 | 26.89969 |       NA |       NA |         NA |       NA |       NA |        NA |       NA |\n",
       "\n"
      ],
      "text/plain": [
       "  Date       target precipitable_water_entire_atmosphere\n",
       "1 2020-01-02 38     11.000000                           \n",
       "2 2020-01-03 39     14.600000                           \n",
       "3 2020-01-04 24     16.400000                           \n",
       "4 2020-01-05 49      6.911948                           \n",
       "5 2020-01-06 21     13.900001                           \n",
       "  relative_humidity_2m_above_ground specific_humidity_2m_above_ground\n",
       "1 60.2                              0.00804                          \n",
       "2 48.8                              0.00839                          \n",
       "3 33.4                              0.00750                          \n",
       "4 21.3                              0.00391                          \n",
       "5 44.7                              0.00535                          \n",
       "  temperature_2m_above_ground u_component_of_wind_10m_above_ground\n",
       "1 18.51684                    1.996377                            \n",
       "2 22.54653                    3.330430                            \n",
       "3 27.03103                    5.065727                            \n",
       "4 23.97186                    3.004001                            \n",
       "5 16.81631                    2.621787                            \n",
       "  v_component_of_wind_10m_above_ground L3_NO2_NO2_column_number_density\n",
       "1 -1.227395                            7.383038e-05                    \n",
       "2 -1.188108                            7.603261e-05                    \n",
       "3  3.500559                            6.660776e-05                    \n",
       "4  1.099468                            8.258178e-05                    \n",
       "5  2.670559                            7.038484e-05                    \n",
       "  L3_NO2_NO2_slant_column_number_density ⋯ L3_SO2_sensor_zenith_angle\n",
       "1 0.0001558203                           ⋯ 38.5930174                \n",
       "2 0.0001968663                           ⋯ 59.6249116                \n",
       "3 0.0001704180                           ⋯ 49.8397137                \n",
       "4 0.0001748593                           ⋯ 29.1812580                \n",
       "5 0.0001415511                           ⋯  0.7972941                \n",
       "  L3_SO2_solar_azimuth_angle L3_SO2_solar_zenith_angle\n",
       "1 -61.75259                  22.36366                 \n",
       "2 -67.69351                  28.61480                 \n",
       "3 -78.34270                  34.29698                 \n",
       "4 -73.89659                  30.54545                 \n",
       "5 -68.61248                  26.89969                 \n",
       "  L3_CH4_CH4_column_volume_mixing_ratio_dry_air L3_CH4_aerosol_height\n",
       "1 1793.794                                      3227.855             \n",
       "2 1789.960                                      3384.227             \n",
       "3       NA                                            NA             \n",
       "4       NA                                            NA             \n",
       "5       NA                                            NA             \n",
       "  L3_CH4_aerosol_optical_depth L3_CH4_sensor_azimuth_angle\n",
       "1 0.01057904                   74.48105                   \n",
       "2 0.01510438                   75.63004                   \n",
       "3         NA                         NA                   \n",
       "4         NA                         NA                   \n",
       "5         NA                         NA                   \n",
       "  L3_CH4_sensor_zenith_angle L3_CH4_solar_azimuth_angle\n",
       "1 37.50150                   -62.14264                 \n",
       "2 55.65749                   -53.86813                 \n",
       "3       NA                          NA                 \n",
       "4       NA                          NA                 \n",
       "5       NA                          NA                 \n",
       "  L3_CH4_solar_zenith_angle\n",
       "1 22.54512                 \n",
       "2 19.29365                 \n",
       "3       NA                 \n",
       "4       NA                 \n",
       "5       NA                 "
      ]
     },
     "metadata": {},
     "output_type": "display_data"
    }
   ],
   "source": [
    "# Remove the features link to the target\n",
    "data <- subset(data,select = -c(Place_ID.X.Date,Place_ID,target_min,target_max,target_variance,target_count))\n",
    "data[1:5,]"
   ]
  },
  {
   "cell_type": "markdown",
   "metadata": {},
   "source": [
    "The feature \"Date\" is the last feature that not contains numeric data. It can provide useful information, but we can not use them like that. So, we will separate the \"Date\" in 3 new features: \"year\", \"month\" and \"day\"."
   ]
  },
  {
   "cell_type": "code",
   "execution_count": 6,
   "metadata": {
    "vscode": {
     "languageId": "r"
    }
   },
   "outputs": [
    {
     "data": {
      "text/html": [
       "<style>\n",
       ".list-inline {list-style: none; margin:0; padding: 0}\n",
       ".list-inline>li {display: inline-block}\n",
       ".list-inline>li:not(:last-child)::after {content: \"\\00b7\"; padding: 0 .5ex}\n",
       "</style>\n",
       "<ol class=list-inline><li>'Date'</li><li>'target'</li><li>'precipitable_water_entire_atmosphere'</li><li>'relative_humidity_2m_above_ground'</li><li>'specific_humidity_2m_above_ground'</li><li>'temperature_2m_above_ground'</li><li>'u_component_of_wind_10m_above_ground'</li><li>'v_component_of_wind_10m_above_ground'</li><li>'L3_NO2_NO2_column_number_density'</li><li>'L3_NO2_NO2_slant_column_number_density'</li><li>'L3_NO2_absorbing_aerosol_index'</li><li>'L3_NO2_cloud_fraction'</li><li>'L3_NO2_sensor_altitude'</li><li>'L3_NO2_sensor_azimuth_angle'</li><li>'L3_NO2_sensor_zenith_angle'</li><li>'L3_NO2_solar_azimuth_angle'</li><li>'L3_NO2_solar_zenith_angle'</li><li>'L3_NO2_stratospheric_NO2_column_number_density'</li><li>'L3_NO2_tropopause_pressure'</li><li>'L3_NO2_tropospheric_NO2_column_number_density'</li><li>'L3_O3_O3_column_number_density'</li><li>'L3_O3_O3_effective_temperature'</li><li>'L3_O3_cloud_fraction'</li><li>'L3_O3_sensor_azimuth_angle'</li><li>'L3_O3_sensor_zenith_angle'</li><li>'L3_O3_solar_azimuth_angle'</li><li>'L3_O3_solar_zenith_angle'</li><li>'L3_CO_CO_column_number_density'</li><li>'L3_CO_H2O_column_number_density'</li><li>'L3_CO_cloud_height'</li><li>'L3_CO_sensor_altitude'</li><li>'L3_CO_sensor_azimuth_angle'</li><li>'L3_CO_sensor_zenith_angle'</li><li>'L3_CO_solar_azimuth_angle'</li><li>'L3_CO_solar_zenith_angle'</li><li>'L3_HCHO_HCHO_slant_column_number_density'</li><li>'L3_HCHO_cloud_fraction'</li><li>'L3_HCHO_sensor_azimuth_angle'</li><li>'L3_HCHO_sensor_zenith_angle'</li><li>'L3_HCHO_solar_azimuth_angle'</li><li>'L3_HCHO_solar_zenith_angle'</li><li>'L3_HCHO_tropospheric_HCHO_column_number_density'</li><li>'L3_HCHO_tropospheric_HCHO_column_number_density_amf'</li><li>'L3_CLOUD_cloud_base_height'</li><li>'L3_CLOUD_cloud_base_pressure'</li><li>'L3_CLOUD_cloud_fraction'</li><li>'L3_CLOUD_cloud_optical_depth'</li><li>'L3_CLOUD_cloud_top_height'</li><li>'L3_CLOUD_cloud_top_pressure'</li><li>'L3_CLOUD_sensor_azimuth_angle'</li><li>'L3_CLOUD_sensor_zenith_angle'</li><li>'L3_CLOUD_solar_azimuth_angle'</li><li>'L3_CLOUD_solar_zenith_angle'</li><li>'L3_CLOUD_surface_albedo'</li><li>'L3_AER_AI_absorbing_aerosol_index'</li><li>'L3_AER_AI_sensor_altitude'</li><li>'L3_AER_AI_sensor_azimuth_angle'</li><li>'L3_AER_AI_sensor_zenith_angle'</li><li>'L3_AER_AI_solar_azimuth_angle'</li><li>'L3_AER_AI_solar_zenith_angle'</li><li>'L3_SO2_SO2_column_number_density'</li><li>'L3_SO2_SO2_column_number_density_amf'</li><li>'L3_SO2_SO2_slant_column_number_density'</li><li>'L3_SO2_absorbing_aerosol_index'</li><li>'L3_SO2_cloud_fraction'</li><li>'L3_SO2_sensor_azimuth_angle'</li><li>'L3_SO2_sensor_zenith_angle'</li><li>'L3_SO2_solar_azimuth_angle'</li><li>'L3_SO2_solar_zenith_angle'</li><li>'L3_CH4_CH4_column_volume_mixing_ratio_dry_air'</li><li>'L3_CH4_aerosol_height'</li><li>'L3_CH4_aerosol_optical_depth'</li><li>'L3_CH4_sensor_azimuth_angle'</li><li>'L3_CH4_sensor_zenith_angle'</li><li>'L3_CH4_solar_azimuth_angle'</li><li>'L3_CH4_solar_zenith_angle'</li><li>'year'</li><li>'month'</li><li>'day'</li></ol>\n"
      ],
      "text/latex": [
       "\\begin{enumerate*}\n",
       "\\item 'Date'\n",
       "\\item 'target'\n",
       "\\item 'precipitable\\_water\\_entire\\_atmosphere'\n",
       "\\item 'relative\\_humidity\\_2m\\_above\\_ground'\n",
       "\\item 'specific\\_humidity\\_2m\\_above\\_ground'\n",
       "\\item 'temperature\\_2m\\_above\\_ground'\n",
       "\\item 'u\\_component\\_of\\_wind\\_10m\\_above\\_ground'\n",
       "\\item 'v\\_component\\_of\\_wind\\_10m\\_above\\_ground'\n",
       "\\item 'L3\\_NO2\\_NO2\\_column\\_number\\_density'\n",
       "\\item 'L3\\_NO2\\_NO2\\_slant\\_column\\_number\\_density'\n",
       "\\item 'L3\\_NO2\\_absorbing\\_aerosol\\_index'\n",
       "\\item 'L3\\_NO2\\_cloud\\_fraction'\n",
       "\\item 'L3\\_NO2\\_sensor\\_altitude'\n",
       "\\item 'L3\\_NO2\\_sensor\\_azimuth\\_angle'\n",
       "\\item 'L3\\_NO2\\_sensor\\_zenith\\_angle'\n",
       "\\item 'L3\\_NO2\\_solar\\_azimuth\\_angle'\n",
       "\\item 'L3\\_NO2\\_solar\\_zenith\\_angle'\n",
       "\\item 'L3\\_NO2\\_stratospheric\\_NO2\\_column\\_number\\_density'\n",
       "\\item 'L3\\_NO2\\_tropopause\\_pressure'\n",
       "\\item 'L3\\_NO2\\_tropospheric\\_NO2\\_column\\_number\\_density'\n",
       "\\item 'L3\\_O3\\_O3\\_column\\_number\\_density'\n",
       "\\item 'L3\\_O3\\_O3\\_effective\\_temperature'\n",
       "\\item 'L3\\_O3\\_cloud\\_fraction'\n",
       "\\item 'L3\\_O3\\_sensor\\_azimuth\\_angle'\n",
       "\\item 'L3\\_O3\\_sensor\\_zenith\\_angle'\n",
       "\\item 'L3\\_O3\\_solar\\_azimuth\\_angle'\n",
       "\\item 'L3\\_O3\\_solar\\_zenith\\_angle'\n",
       "\\item 'L3\\_CO\\_CO\\_column\\_number\\_density'\n",
       "\\item 'L3\\_CO\\_H2O\\_column\\_number\\_density'\n",
       "\\item 'L3\\_CO\\_cloud\\_height'\n",
       "\\item 'L3\\_CO\\_sensor\\_altitude'\n",
       "\\item 'L3\\_CO\\_sensor\\_azimuth\\_angle'\n",
       "\\item 'L3\\_CO\\_sensor\\_zenith\\_angle'\n",
       "\\item 'L3\\_CO\\_solar\\_azimuth\\_angle'\n",
       "\\item 'L3\\_CO\\_solar\\_zenith\\_angle'\n",
       "\\item 'L3\\_HCHO\\_HCHO\\_slant\\_column\\_number\\_density'\n",
       "\\item 'L3\\_HCHO\\_cloud\\_fraction'\n",
       "\\item 'L3\\_HCHO\\_sensor\\_azimuth\\_angle'\n",
       "\\item 'L3\\_HCHO\\_sensor\\_zenith\\_angle'\n",
       "\\item 'L3\\_HCHO\\_solar\\_azimuth\\_angle'\n",
       "\\item 'L3\\_HCHO\\_solar\\_zenith\\_angle'\n",
       "\\item 'L3\\_HCHO\\_tropospheric\\_HCHO\\_column\\_number\\_density'\n",
       "\\item 'L3\\_HCHO\\_tropospheric\\_HCHO\\_column\\_number\\_density\\_amf'\n",
       "\\item 'L3\\_CLOUD\\_cloud\\_base\\_height'\n",
       "\\item 'L3\\_CLOUD\\_cloud\\_base\\_pressure'\n",
       "\\item 'L3\\_CLOUD\\_cloud\\_fraction'\n",
       "\\item 'L3\\_CLOUD\\_cloud\\_optical\\_depth'\n",
       "\\item 'L3\\_CLOUD\\_cloud\\_top\\_height'\n",
       "\\item 'L3\\_CLOUD\\_cloud\\_top\\_pressure'\n",
       "\\item 'L3\\_CLOUD\\_sensor\\_azimuth\\_angle'\n",
       "\\item 'L3\\_CLOUD\\_sensor\\_zenith\\_angle'\n",
       "\\item 'L3\\_CLOUD\\_solar\\_azimuth\\_angle'\n",
       "\\item 'L3\\_CLOUD\\_solar\\_zenith\\_angle'\n",
       "\\item 'L3\\_CLOUD\\_surface\\_albedo'\n",
       "\\item 'L3\\_AER\\_AI\\_absorbing\\_aerosol\\_index'\n",
       "\\item 'L3\\_AER\\_AI\\_sensor\\_altitude'\n",
       "\\item 'L3\\_AER\\_AI\\_sensor\\_azimuth\\_angle'\n",
       "\\item 'L3\\_AER\\_AI\\_sensor\\_zenith\\_angle'\n",
       "\\item 'L3\\_AER\\_AI\\_solar\\_azimuth\\_angle'\n",
       "\\item 'L3\\_AER\\_AI\\_solar\\_zenith\\_angle'\n",
       "\\item 'L3\\_SO2\\_SO2\\_column\\_number\\_density'\n",
       "\\item 'L3\\_SO2\\_SO2\\_column\\_number\\_density\\_amf'\n",
       "\\item 'L3\\_SO2\\_SO2\\_slant\\_column\\_number\\_density'\n",
       "\\item 'L3\\_SO2\\_absorbing\\_aerosol\\_index'\n",
       "\\item 'L3\\_SO2\\_cloud\\_fraction'\n",
       "\\item 'L3\\_SO2\\_sensor\\_azimuth\\_angle'\n",
       "\\item 'L3\\_SO2\\_sensor\\_zenith\\_angle'\n",
       "\\item 'L3\\_SO2\\_solar\\_azimuth\\_angle'\n",
       "\\item 'L3\\_SO2\\_solar\\_zenith\\_angle'\n",
       "\\item 'L3\\_CH4\\_CH4\\_column\\_volume\\_mixing\\_ratio\\_dry\\_air'\n",
       "\\item 'L3\\_CH4\\_aerosol\\_height'\n",
       "\\item 'L3\\_CH4\\_aerosol\\_optical\\_depth'\n",
       "\\item 'L3\\_CH4\\_sensor\\_azimuth\\_angle'\n",
       "\\item 'L3\\_CH4\\_sensor\\_zenith\\_angle'\n",
       "\\item 'L3\\_CH4\\_solar\\_azimuth\\_angle'\n",
       "\\item 'L3\\_CH4\\_solar\\_zenith\\_angle'\n",
       "\\item 'year'\n",
       "\\item 'month'\n",
       "\\item 'day'\n",
       "\\end{enumerate*}\n"
      ],
      "text/markdown": [
       "1. 'Date'\n",
       "2. 'target'\n",
       "3. 'precipitable_water_entire_atmosphere'\n",
       "4. 'relative_humidity_2m_above_ground'\n",
       "5. 'specific_humidity_2m_above_ground'\n",
       "6. 'temperature_2m_above_ground'\n",
       "7. 'u_component_of_wind_10m_above_ground'\n",
       "8. 'v_component_of_wind_10m_above_ground'\n",
       "9. 'L3_NO2_NO2_column_number_density'\n",
       "10. 'L3_NO2_NO2_slant_column_number_density'\n",
       "11. 'L3_NO2_absorbing_aerosol_index'\n",
       "12. 'L3_NO2_cloud_fraction'\n",
       "13. 'L3_NO2_sensor_altitude'\n",
       "14. 'L3_NO2_sensor_azimuth_angle'\n",
       "15. 'L3_NO2_sensor_zenith_angle'\n",
       "16. 'L3_NO2_solar_azimuth_angle'\n",
       "17. 'L3_NO2_solar_zenith_angle'\n",
       "18. 'L3_NO2_stratospheric_NO2_column_number_density'\n",
       "19. 'L3_NO2_tropopause_pressure'\n",
       "20. 'L3_NO2_tropospheric_NO2_column_number_density'\n",
       "21. 'L3_O3_O3_column_number_density'\n",
       "22. 'L3_O3_O3_effective_temperature'\n",
       "23. 'L3_O3_cloud_fraction'\n",
       "24. 'L3_O3_sensor_azimuth_angle'\n",
       "25. 'L3_O3_sensor_zenith_angle'\n",
       "26. 'L3_O3_solar_azimuth_angle'\n",
       "27. 'L3_O3_solar_zenith_angle'\n",
       "28. 'L3_CO_CO_column_number_density'\n",
       "29. 'L3_CO_H2O_column_number_density'\n",
       "30. 'L3_CO_cloud_height'\n",
       "31. 'L3_CO_sensor_altitude'\n",
       "32. 'L3_CO_sensor_azimuth_angle'\n",
       "33. 'L3_CO_sensor_zenith_angle'\n",
       "34. 'L3_CO_solar_azimuth_angle'\n",
       "35. 'L3_CO_solar_zenith_angle'\n",
       "36. 'L3_HCHO_HCHO_slant_column_number_density'\n",
       "37. 'L3_HCHO_cloud_fraction'\n",
       "38. 'L3_HCHO_sensor_azimuth_angle'\n",
       "39. 'L3_HCHO_sensor_zenith_angle'\n",
       "40. 'L3_HCHO_solar_azimuth_angle'\n",
       "41. 'L3_HCHO_solar_zenith_angle'\n",
       "42. 'L3_HCHO_tropospheric_HCHO_column_number_density'\n",
       "43. 'L3_HCHO_tropospheric_HCHO_column_number_density_amf'\n",
       "44. 'L3_CLOUD_cloud_base_height'\n",
       "45. 'L3_CLOUD_cloud_base_pressure'\n",
       "46. 'L3_CLOUD_cloud_fraction'\n",
       "47. 'L3_CLOUD_cloud_optical_depth'\n",
       "48. 'L3_CLOUD_cloud_top_height'\n",
       "49. 'L3_CLOUD_cloud_top_pressure'\n",
       "50. 'L3_CLOUD_sensor_azimuth_angle'\n",
       "51. 'L3_CLOUD_sensor_zenith_angle'\n",
       "52. 'L3_CLOUD_solar_azimuth_angle'\n",
       "53. 'L3_CLOUD_solar_zenith_angle'\n",
       "54. 'L3_CLOUD_surface_albedo'\n",
       "55. 'L3_AER_AI_absorbing_aerosol_index'\n",
       "56. 'L3_AER_AI_sensor_altitude'\n",
       "57. 'L3_AER_AI_sensor_azimuth_angle'\n",
       "58. 'L3_AER_AI_sensor_zenith_angle'\n",
       "59. 'L3_AER_AI_solar_azimuth_angle'\n",
       "60. 'L3_AER_AI_solar_zenith_angle'\n",
       "61. 'L3_SO2_SO2_column_number_density'\n",
       "62. 'L3_SO2_SO2_column_number_density_amf'\n",
       "63. 'L3_SO2_SO2_slant_column_number_density'\n",
       "64. 'L3_SO2_absorbing_aerosol_index'\n",
       "65. 'L3_SO2_cloud_fraction'\n",
       "66. 'L3_SO2_sensor_azimuth_angle'\n",
       "67. 'L3_SO2_sensor_zenith_angle'\n",
       "68. 'L3_SO2_solar_azimuth_angle'\n",
       "69. 'L3_SO2_solar_zenith_angle'\n",
       "70. 'L3_CH4_CH4_column_volume_mixing_ratio_dry_air'\n",
       "71. 'L3_CH4_aerosol_height'\n",
       "72. 'L3_CH4_aerosol_optical_depth'\n",
       "73. 'L3_CH4_sensor_azimuth_angle'\n",
       "74. 'L3_CH4_sensor_zenith_angle'\n",
       "75. 'L3_CH4_solar_azimuth_angle'\n",
       "76. 'L3_CH4_solar_zenith_angle'\n",
       "77. 'year'\n",
       "78. 'month'\n",
       "79. 'day'\n",
       "\n",
       "\n"
      ],
      "text/plain": [
       " [1] \"Date\"                                               \n",
       " [2] \"target\"                                             \n",
       " [3] \"precipitable_water_entire_atmosphere\"               \n",
       " [4] \"relative_humidity_2m_above_ground\"                  \n",
       " [5] \"specific_humidity_2m_above_ground\"                  \n",
       " [6] \"temperature_2m_above_ground\"                        \n",
       " [7] \"u_component_of_wind_10m_above_ground\"               \n",
       " [8] \"v_component_of_wind_10m_above_ground\"               \n",
       " [9] \"L3_NO2_NO2_column_number_density\"                   \n",
       "[10] \"L3_NO2_NO2_slant_column_number_density\"             \n",
       "[11] \"L3_NO2_absorbing_aerosol_index\"                     \n",
       "[12] \"L3_NO2_cloud_fraction\"                              \n",
       "[13] \"L3_NO2_sensor_altitude\"                             \n",
       "[14] \"L3_NO2_sensor_azimuth_angle\"                        \n",
       "[15] \"L3_NO2_sensor_zenith_angle\"                         \n",
       "[16] \"L3_NO2_solar_azimuth_angle\"                         \n",
       "[17] \"L3_NO2_solar_zenith_angle\"                          \n",
       "[18] \"L3_NO2_stratospheric_NO2_column_number_density\"     \n",
       "[19] \"L3_NO2_tropopause_pressure\"                         \n",
       "[20] \"L3_NO2_tropospheric_NO2_column_number_density\"      \n",
       "[21] \"L3_O3_O3_column_number_density\"                     \n",
       "[22] \"L3_O3_O3_effective_temperature\"                     \n",
       "[23] \"L3_O3_cloud_fraction\"                               \n",
       "[24] \"L3_O3_sensor_azimuth_angle\"                         \n",
       "[25] \"L3_O3_sensor_zenith_angle\"                          \n",
       "[26] \"L3_O3_solar_azimuth_angle\"                          \n",
       "[27] \"L3_O3_solar_zenith_angle\"                           \n",
       "[28] \"L3_CO_CO_column_number_density\"                     \n",
       "[29] \"L3_CO_H2O_column_number_density\"                    \n",
       "[30] \"L3_CO_cloud_height\"                                 \n",
       "[31] \"L3_CO_sensor_altitude\"                              \n",
       "[32] \"L3_CO_sensor_azimuth_angle\"                         \n",
       "[33] \"L3_CO_sensor_zenith_angle\"                          \n",
       "[34] \"L3_CO_solar_azimuth_angle\"                          \n",
       "[35] \"L3_CO_solar_zenith_angle\"                           \n",
       "[36] \"L3_HCHO_HCHO_slant_column_number_density\"           \n",
       "[37] \"L3_HCHO_cloud_fraction\"                             \n",
       "[38] \"L3_HCHO_sensor_azimuth_angle\"                       \n",
       "[39] \"L3_HCHO_sensor_zenith_angle\"                        \n",
       "[40] \"L3_HCHO_solar_azimuth_angle\"                        \n",
       "[41] \"L3_HCHO_solar_zenith_angle\"                         \n",
       "[42] \"L3_HCHO_tropospheric_HCHO_column_number_density\"    \n",
       "[43] \"L3_HCHO_tropospheric_HCHO_column_number_density_amf\"\n",
       "[44] \"L3_CLOUD_cloud_base_height\"                         \n",
       "[45] \"L3_CLOUD_cloud_base_pressure\"                       \n",
       "[46] \"L3_CLOUD_cloud_fraction\"                            \n",
       "[47] \"L3_CLOUD_cloud_optical_depth\"                       \n",
       "[48] \"L3_CLOUD_cloud_top_height\"                          \n",
       "[49] \"L3_CLOUD_cloud_top_pressure\"                        \n",
       "[50] \"L3_CLOUD_sensor_azimuth_angle\"                      \n",
       "[51] \"L3_CLOUD_sensor_zenith_angle\"                       \n",
       "[52] \"L3_CLOUD_solar_azimuth_angle\"                       \n",
       "[53] \"L3_CLOUD_solar_zenith_angle\"                        \n",
       "[54] \"L3_CLOUD_surface_albedo\"                            \n",
       "[55] \"L3_AER_AI_absorbing_aerosol_index\"                  \n",
       "[56] \"L3_AER_AI_sensor_altitude\"                          \n",
       "[57] \"L3_AER_AI_sensor_azimuth_angle\"                     \n",
       "[58] \"L3_AER_AI_sensor_zenith_angle\"                      \n",
       "[59] \"L3_AER_AI_solar_azimuth_angle\"                      \n",
       "[60] \"L3_AER_AI_solar_zenith_angle\"                       \n",
       "[61] \"L3_SO2_SO2_column_number_density\"                   \n",
       "[62] \"L3_SO2_SO2_column_number_density_amf\"               \n",
       "[63] \"L3_SO2_SO2_slant_column_number_density\"             \n",
       "[64] \"L3_SO2_absorbing_aerosol_index\"                     \n",
       "[65] \"L3_SO2_cloud_fraction\"                              \n",
       "[66] \"L3_SO2_sensor_azimuth_angle\"                        \n",
       "[67] \"L3_SO2_sensor_zenith_angle\"                         \n",
       "[68] \"L3_SO2_solar_azimuth_angle\"                         \n",
       "[69] \"L3_SO2_solar_zenith_angle\"                          \n",
       "[70] \"L3_CH4_CH4_column_volume_mixing_ratio_dry_air\"      \n",
       "[71] \"L3_CH4_aerosol_height\"                              \n",
       "[72] \"L3_CH4_aerosol_optical_depth\"                       \n",
       "[73] \"L3_CH4_sensor_azimuth_angle\"                        \n",
       "[74] \"L3_CH4_sensor_zenith_angle\"                         \n",
       "[75] \"L3_CH4_solar_azimuth_angle\"                         \n",
       "[76] \"L3_CH4_solar_zenith_angle\"                          \n",
       "[77] \"year\"                                               \n",
       "[78] \"month\"                                              \n",
       "[79] \"day\"                                                "
      ]
     },
     "metadata": {},
     "output_type": "display_data"
    },
    {
     "data": {
      "text/html": [
       "<table class=\"dataframe\">\n",
       "<caption>A data.frame: 5 × 79</caption>\n",
       "<thead>\n",
       "\t<tr><th></th><th scope=col>Date</th><th scope=col>target</th><th scope=col>precipitable_water_entire_atmosphere</th><th scope=col>relative_humidity_2m_above_ground</th><th scope=col>specific_humidity_2m_above_ground</th><th scope=col>temperature_2m_above_ground</th><th scope=col>u_component_of_wind_10m_above_ground</th><th scope=col>v_component_of_wind_10m_above_ground</th><th scope=col>L3_NO2_NO2_column_number_density</th><th scope=col>L3_NO2_NO2_slant_column_number_density</th><th scope=col>⋯</th><th scope=col>L3_CH4_CH4_column_volume_mixing_ratio_dry_air</th><th scope=col>L3_CH4_aerosol_height</th><th scope=col>L3_CH4_aerosol_optical_depth</th><th scope=col>L3_CH4_sensor_azimuth_angle</th><th scope=col>L3_CH4_sensor_zenith_angle</th><th scope=col>L3_CH4_solar_azimuth_angle</th><th scope=col>L3_CH4_solar_zenith_angle</th><th scope=col>year</th><th scope=col>month</th><th scope=col>day</th></tr>\n",
       "\t<tr><th></th><th scope=col>&lt;chr&gt;</th><th scope=col>&lt;dbl&gt;</th><th scope=col>&lt;dbl&gt;</th><th scope=col>&lt;dbl&gt;</th><th scope=col>&lt;dbl&gt;</th><th scope=col>&lt;dbl&gt;</th><th scope=col>&lt;dbl&gt;</th><th scope=col>&lt;dbl&gt;</th><th scope=col>&lt;dbl&gt;</th><th scope=col>&lt;dbl&gt;</th><th scope=col>⋯</th><th scope=col>&lt;dbl&gt;</th><th scope=col>&lt;dbl&gt;</th><th scope=col>&lt;dbl&gt;</th><th scope=col>&lt;dbl&gt;</th><th scope=col>&lt;dbl&gt;</th><th scope=col>&lt;dbl&gt;</th><th scope=col>&lt;dbl&gt;</th><th scope=col>&lt;dbl&gt;</th><th scope=col>&lt;dbl&gt;</th><th scope=col>&lt;dbl&gt;</th></tr>\n",
       "</thead>\n",
       "<tbody>\n",
       "\t<tr><th scope=row>1</th><td>2020-01-02</td><td>38</td><td>11.000000</td><td>60.2</td><td>0.00804</td><td>18.51684</td><td>1.996377</td><td>-1.227395</td><td>7.383038e-05</td><td>0.0001558203</td><td>⋯</td><td>1793.794</td><td>3227.855</td><td>0.01057904</td><td>74.48105</td><td>37.50150</td><td>-62.14264</td><td>22.54512</td><td>2020</td><td>1</td><td>2</td></tr>\n",
       "\t<tr><th scope=row>2</th><td>2020-01-03</td><td>39</td><td>14.600000</td><td>48.8</td><td>0.00839</td><td>22.54653</td><td>3.330430</td><td>-1.188108</td><td>7.603261e-05</td><td>0.0001968663</td><td>⋯</td><td>1789.960</td><td>3384.227</td><td>0.01510438</td><td>75.63004</td><td>55.65749</td><td>-53.86813</td><td>19.29365</td><td>2020</td><td>1</td><td>3</td></tr>\n",
       "\t<tr><th scope=row>3</th><td>2020-01-04</td><td>24</td><td>16.400000</td><td>33.4</td><td>0.00750</td><td>27.03103</td><td>5.065727</td><td> 3.500559</td><td>6.660776e-05</td><td>0.0001704180</td><td>⋯</td><td>      NA</td><td>      NA</td><td>        NA</td><td>      NA</td><td>      NA</td><td>       NA</td><td>      NA</td><td>2020</td><td>1</td><td>4</td></tr>\n",
       "\t<tr><th scope=row>4</th><td>2020-01-05</td><td>49</td><td> 6.911948</td><td>21.3</td><td>0.00391</td><td>23.97186</td><td>3.004001</td><td> 1.099468</td><td>8.258178e-05</td><td>0.0001748593</td><td>⋯</td><td>      NA</td><td>      NA</td><td>        NA</td><td>      NA</td><td>      NA</td><td>       NA</td><td>      NA</td><td>2020</td><td>1</td><td>5</td></tr>\n",
       "\t<tr><th scope=row>5</th><td>2020-01-06</td><td>21</td><td>13.900001</td><td>44.7</td><td>0.00535</td><td>16.81631</td><td>2.621787</td><td> 2.670559</td><td>7.038484e-05</td><td>0.0001415511</td><td>⋯</td><td>      NA</td><td>      NA</td><td>        NA</td><td>      NA</td><td>      NA</td><td>       NA</td><td>      NA</td><td>2020</td><td>1</td><td>6</td></tr>\n",
       "</tbody>\n",
       "</table>\n"
      ],
      "text/latex": [
       "A data.frame: 5 × 79\n",
       "\\begin{tabular}{r|lllllllllllllllllllll}\n",
       "  & Date & target & precipitable\\_water\\_entire\\_atmosphere & relative\\_humidity\\_2m\\_above\\_ground & specific\\_humidity\\_2m\\_above\\_ground & temperature\\_2m\\_above\\_ground & u\\_component\\_of\\_wind\\_10m\\_above\\_ground & v\\_component\\_of\\_wind\\_10m\\_above\\_ground & L3\\_NO2\\_NO2\\_column\\_number\\_density & L3\\_NO2\\_NO2\\_slant\\_column\\_number\\_density & ⋯ & L3\\_CH4\\_CH4\\_column\\_volume\\_mixing\\_ratio\\_dry\\_air & L3\\_CH4\\_aerosol\\_height & L3\\_CH4\\_aerosol\\_optical\\_depth & L3\\_CH4\\_sensor\\_azimuth\\_angle & L3\\_CH4\\_sensor\\_zenith\\_angle & L3\\_CH4\\_solar\\_azimuth\\_angle & L3\\_CH4\\_solar\\_zenith\\_angle & year & month & day\\\\\n",
       "  & <chr> & <dbl> & <dbl> & <dbl> & <dbl> & <dbl> & <dbl> & <dbl> & <dbl> & <dbl> & ⋯ & <dbl> & <dbl> & <dbl> & <dbl> & <dbl> & <dbl> & <dbl> & <dbl> & <dbl> & <dbl>\\\\\n",
       "\\hline\n",
       "\t1 & 2020-01-02 & 38 & 11.000000 & 60.2 & 0.00804 & 18.51684 & 1.996377 & -1.227395 & 7.383038e-05 & 0.0001558203 & ⋯ & 1793.794 & 3227.855 & 0.01057904 & 74.48105 & 37.50150 & -62.14264 & 22.54512 & 2020 & 1 & 2\\\\\n",
       "\t2 & 2020-01-03 & 39 & 14.600000 & 48.8 & 0.00839 & 22.54653 & 3.330430 & -1.188108 & 7.603261e-05 & 0.0001968663 & ⋯ & 1789.960 & 3384.227 & 0.01510438 & 75.63004 & 55.65749 & -53.86813 & 19.29365 & 2020 & 1 & 3\\\\\n",
       "\t3 & 2020-01-04 & 24 & 16.400000 & 33.4 & 0.00750 & 27.03103 & 5.065727 &  3.500559 & 6.660776e-05 & 0.0001704180 & ⋯ &       NA &       NA &         NA &       NA &       NA &        NA &       NA & 2020 & 1 & 4\\\\\n",
       "\t4 & 2020-01-05 & 49 &  6.911948 & 21.3 & 0.00391 & 23.97186 & 3.004001 &  1.099468 & 8.258178e-05 & 0.0001748593 & ⋯ &       NA &       NA &         NA &       NA &       NA &        NA &       NA & 2020 & 1 & 5\\\\\n",
       "\t5 & 2020-01-06 & 21 & 13.900001 & 44.7 & 0.00535 & 16.81631 & 2.621787 &  2.670559 & 7.038484e-05 & 0.0001415511 & ⋯ &       NA &       NA &         NA &       NA &       NA &        NA &       NA & 2020 & 1 & 6\\\\\n",
       "\\end{tabular}\n"
      ],
      "text/markdown": [
       "\n",
       "A data.frame: 5 × 79\n",
       "\n",
       "| <!--/--> | Date &lt;chr&gt; | target &lt;dbl&gt; | precipitable_water_entire_atmosphere &lt;dbl&gt; | relative_humidity_2m_above_ground &lt;dbl&gt; | specific_humidity_2m_above_ground &lt;dbl&gt; | temperature_2m_above_ground &lt;dbl&gt; | u_component_of_wind_10m_above_ground &lt;dbl&gt; | v_component_of_wind_10m_above_ground &lt;dbl&gt; | L3_NO2_NO2_column_number_density &lt;dbl&gt; | L3_NO2_NO2_slant_column_number_density &lt;dbl&gt; | ⋯ ⋯ | L3_CH4_CH4_column_volume_mixing_ratio_dry_air &lt;dbl&gt; | L3_CH4_aerosol_height &lt;dbl&gt; | L3_CH4_aerosol_optical_depth &lt;dbl&gt; | L3_CH4_sensor_azimuth_angle &lt;dbl&gt; | L3_CH4_sensor_zenith_angle &lt;dbl&gt; | L3_CH4_solar_azimuth_angle &lt;dbl&gt; | L3_CH4_solar_zenith_angle &lt;dbl&gt; | year &lt;dbl&gt; | month &lt;dbl&gt; | day &lt;dbl&gt; |\n",
       "|---|---|---|---|---|---|---|---|---|---|---|---|---|---|---|---|---|---|---|---|---|---|\n",
       "| 1 | 2020-01-02 | 38 | 11.000000 | 60.2 | 0.00804 | 18.51684 | 1.996377 | -1.227395 | 7.383038e-05 | 0.0001558203 | ⋯ | 1793.794 | 3227.855 | 0.01057904 | 74.48105 | 37.50150 | -62.14264 | 22.54512 | 2020 | 1 | 2 |\n",
       "| 2 | 2020-01-03 | 39 | 14.600000 | 48.8 | 0.00839 | 22.54653 | 3.330430 | -1.188108 | 7.603261e-05 | 0.0001968663 | ⋯ | 1789.960 | 3384.227 | 0.01510438 | 75.63004 | 55.65749 | -53.86813 | 19.29365 | 2020 | 1 | 3 |\n",
       "| 3 | 2020-01-04 | 24 | 16.400000 | 33.4 | 0.00750 | 27.03103 | 5.065727 |  3.500559 | 6.660776e-05 | 0.0001704180 | ⋯ |       NA |       NA |         NA |       NA |       NA |        NA |       NA | 2020 | 1 | 4 |\n",
       "| 4 | 2020-01-05 | 49 |  6.911948 | 21.3 | 0.00391 | 23.97186 | 3.004001 |  1.099468 | 8.258178e-05 | 0.0001748593 | ⋯ |       NA |       NA |         NA |       NA |       NA |        NA |       NA | 2020 | 1 | 5 |\n",
       "| 5 | 2020-01-06 | 21 | 13.900001 | 44.7 | 0.00535 | 16.81631 | 2.621787 |  2.670559 | 7.038484e-05 | 0.0001415511 | ⋯ |       NA |       NA |         NA |       NA |       NA |        NA |       NA | 2020 | 1 | 6 |\n",
       "\n"
      ],
      "text/plain": [
       "  Date       target precipitable_water_entire_atmosphere\n",
       "1 2020-01-02 38     11.000000                           \n",
       "2 2020-01-03 39     14.600000                           \n",
       "3 2020-01-04 24     16.400000                           \n",
       "4 2020-01-05 49      6.911948                           \n",
       "5 2020-01-06 21     13.900001                           \n",
       "  relative_humidity_2m_above_ground specific_humidity_2m_above_ground\n",
       "1 60.2                              0.00804                          \n",
       "2 48.8                              0.00839                          \n",
       "3 33.4                              0.00750                          \n",
       "4 21.3                              0.00391                          \n",
       "5 44.7                              0.00535                          \n",
       "  temperature_2m_above_ground u_component_of_wind_10m_above_ground\n",
       "1 18.51684                    1.996377                            \n",
       "2 22.54653                    3.330430                            \n",
       "3 27.03103                    5.065727                            \n",
       "4 23.97186                    3.004001                            \n",
       "5 16.81631                    2.621787                            \n",
       "  v_component_of_wind_10m_above_ground L3_NO2_NO2_column_number_density\n",
       "1 -1.227395                            7.383038e-05                    \n",
       "2 -1.188108                            7.603261e-05                    \n",
       "3  3.500559                            6.660776e-05                    \n",
       "4  1.099468                            8.258178e-05                    \n",
       "5  2.670559                            7.038484e-05                    \n",
       "  L3_NO2_NO2_slant_column_number_density ⋯\n",
       "1 0.0001558203                           ⋯\n",
       "2 0.0001968663                           ⋯\n",
       "3 0.0001704180                           ⋯\n",
       "4 0.0001748593                           ⋯\n",
       "5 0.0001415511                           ⋯\n",
       "  L3_CH4_CH4_column_volume_mixing_ratio_dry_air L3_CH4_aerosol_height\n",
       "1 1793.794                                      3227.855             \n",
       "2 1789.960                                      3384.227             \n",
       "3       NA                                            NA             \n",
       "4       NA                                            NA             \n",
       "5       NA                                            NA             \n",
       "  L3_CH4_aerosol_optical_depth L3_CH4_sensor_azimuth_angle\n",
       "1 0.01057904                   74.48105                   \n",
       "2 0.01510438                   75.63004                   \n",
       "3         NA                         NA                   \n",
       "4         NA                         NA                   \n",
       "5         NA                         NA                   \n",
       "  L3_CH4_sensor_zenith_angle L3_CH4_solar_azimuth_angle\n",
       "1 37.50150                   -62.14264                 \n",
       "2 55.65749                   -53.86813                 \n",
       "3       NA                          NA                 \n",
       "4       NA                          NA                 \n",
       "5       NA                          NA                 \n",
       "  L3_CH4_solar_zenith_angle year month day\n",
       "1 22.54512                  2020 1     2  \n",
       "2 19.29365                  2020 1     3  \n",
       "3       NA                  2020 1     4  \n",
       "4       NA                  2020 1     5  \n",
       "5       NA                  2020 1     6  "
      ]
     },
     "metadata": {},
     "output_type": "display_data"
    }
   ],
   "source": [
    "#Define the function to parse the date\n",
    "label_date <- function(row) {\n",
    "    date_ <- scan(text=row[1], sep=\"-\")\n",
    "    return(date_)\n",
    "}\n",
    "\n",
    "date_values <- t(apply(data, 1, label_date))\n",
    "\n",
    "data$year <- date_values[, 1]\n",
    "data$month <- date_values[, 2]\n",
    "data$day <- date_values[, 3]\n",
    "\n",
    "colnames(data)\n",
    "data[1:5, ]\n"
   ]
  },
  {
   "cell_type": "markdown",
   "metadata": {},
   "source": [
    "Let's observe the standard deviation of thes 3 new features."
   ]
  },
  {
   "cell_type": "code",
   "execution_count": 7,
   "metadata": {
    "vscode": {
     "languageId": "r"
    }
   },
   "outputs": [
    {
     "data": {
      "text/html": [
       "0"
      ],
      "text/latex": [
       "0"
      ],
      "text/markdown": [
       "0"
      ],
      "text/plain": [
       "[1] 0"
      ]
     },
     "metadata": {},
     "output_type": "display_data"
    },
    {
     "data": {
      "text/html": [
       "0.899080625326258"
      ],
      "text/latex": [
       "0.899080625326258"
      ],
      "text/markdown": [
       "0.899080625326258"
      ],
      "text/plain": [
       "[1] 0.8990806"
      ]
     },
     "metadata": {},
     "output_type": "display_data"
    },
    {
     "data": {
      "text/html": [
       "8.9211993382082"
      ],
      "text/latex": [
       "8.9211993382082"
      ],
      "text/markdown": [
       "8.9211993382082"
      ],
      "text/plain": [
       "[1] 8.921199"
      ]
     },
     "metadata": {},
     "output_type": "display_data"
    }
   ],
   "source": [
    "# Compute the standard deviation of the year, month and day\n",
    "sd(data$year)\n",
    "sd(data$month)\n",
    "sd(data$day)"
   ]
  },
  {
   "cell_type": "markdown",
   "metadata": {},
   "source": [
    "As we can see, the year has a standard deviation at 0. So, there is no difference between all rows. Let's discard this feature. The \"Date\" is not useful anymore, so we can also discard them."
   ]
  },
  {
   "cell_type": "code",
   "execution_count": 8,
   "metadata": {
    "vscode": {
     "languageId": "r"
    }
   },
   "outputs": [
    {
     "data": {
      "text/html": [
       "<style>\n",
       ".list-inline {list-style: none; margin:0; padding: 0}\n",
       ".list-inline>li {display: inline-block}\n",
       ".list-inline>li:not(:last-child)::after {content: \"\\00b7\"; padding: 0 .5ex}\n",
       "</style>\n",
       "<ol class=list-inline><li>'target'</li><li>'precipitable_water_entire_atmosphere'</li><li>'relative_humidity_2m_above_ground'</li><li>'specific_humidity_2m_above_ground'</li><li>'temperature_2m_above_ground'</li><li>'u_component_of_wind_10m_above_ground'</li><li>'v_component_of_wind_10m_above_ground'</li><li>'L3_NO2_NO2_column_number_density'</li><li>'L3_NO2_NO2_slant_column_number_density'</li><li>'L3_NO2_absorbing_aerosol_index'</li><li>'L3_NO2_cloud_fraction'</li><li>'L3_NO2_sensor_altitude'</li><li>'L3_NO2_sensor_azimuth_angle'</li><li>'L3_NO2_sensor_zenith_angle'</li><li>'L3_NO2_solar_azimuth_angle'</li><li>'L3_NO2_solar_zenith_angle'</li><li>'L3_NO2_stratospheric_NO2_column_number_density'</li><li>'L3_NO2_tropopause_pressure'</li><li>'L3_NO2_tropospheric_NO2_column_number_density'</li><li>'L3_O3_O3_column_number_density'</li><li>'L3_O3_O3_effective_temperature'</li><li>'L3_O3_cloud_fraction'</li><li>'L3_O3_sensor_azimuth_angle'</li><li>'L3_O3_sensor_zenith_angle'</li><li>'L3_O3_solar_azimuth_angle'</li><li>'L3_O3_solar_zenith_angle'</li><li>'L3_CO_CO_column_number_density'</li><li>'L3_CO_H2O_column_number_density'</li><li>'L3_CO_cloud_height'</li><li>'L3_CO_sensor_altitude'</li><li>'L3_CO_sensor_azimuth_angle'</li><li>'L3_CO_sensor_zenith_angle'</li><li>'L3_CO_solar_azimuth_angle'</li><li>'L3_CO_solar_zenith_angle'</li><li>'L3_HCHO_HCHO_slant_column_number_density'</li><li>'L3_HCHO_cloud_fraction'</li><li>'L3_HCHO_sensor_azimuth_angle'</li><li>'L3_HCHO_sensor_zenith_angle'</li><li>'L3_HCHO_solar_azimuth_angle'</li><li>'L3_HCHO_solar_zenith_angle'</li><li>'L3_HCHO_tropospheric_HCHO_column_number_density'</li><li>'L3_HCHO_tropospheric_HCHO_column_number_density_amf'</li><li>'L3_CLOUD_cloud_base_height'</li><li>'L3_CLOUD_cloud_base_pressure'</li><li>'L3_CLOUD_cloud_fraction'</li><li>'L3_CLOUD_cloud_optical_depth'</li><li>'L3_CLOUD_cloud_top_height'</li><li>'L3_CLOUD_cloud_top_pressure'</li><li>'L3_CLOUD_sensor_azimuth_angle'</li><li>'L3_CLOUD_sensor_zenith_angle'</li><li>'L3_CLOUD_solar_azimuth_angle'</li><li>'L3_CLOUD_solar_zenith_angle'</li><li>'L3_CLOUD_surface_albedo'</li><li>'L3_AER_AI_absorbing_aerosol_index'</li><li>'L3_AER_AI_sensor_altitude'</li><li>'L3_AER_AI_sensor_azimuth_angle'</li><li>'L3_AER_AI_sensor_zenith_angle'</li><li>'L3_AER_AI_solar_azimuth_angle'</li><li>'L3_AER_AI_solar_zenith_angle'</li><li>'L3_SO2_SO2_column_number_density'</li><li>'L3_SO2_SO2_column_number_density_amf'</li><li>'L3_SO2_SO2_slant_column_number_density'</li><li>'L3_SO2_absorbing_aerosol_index'</li><li>'L3_SO2_cloud_fraction'</li><li>'L3_SO2_sensor_azimuth_angle'</li><li>'L3_SO2_sensor_zenith_angle'</li><li>'L3_SO2_solar_azimuth_angle'</li><li>'L3_SO2_solar_zenith_angle'</li><li>'L3_CH4_CH4_column_volume_mixing_ratio_dry_air'</li><li>'L3_CH4_aerosol_height'</li><li>'L3_CH4_aerosol_optical_depth'</li><li>'L3_CH4_sensor_azimuth_angle'</li><li>'L3_CH4_sensor_zenith_angle'</li><li>'L3_CH4_solar_azimuth_angle'</li><li>'L3_CH4_solar_zenith_angle'</li><li>'month'</li><li>'day'</li></ol>\n"
      ],
      "text/latex": [
       "\\begin{enumerate*}\n",
       "\\item 'target'\n",
       "\\item 'precipitable\\_water\\_entire\\_atmosphere'\n",
       "\\item 'relative\\_humidity\\_2m\\_above\\_ground'\n",
       "\\item 'specific\\_humidity\\_2m\\_above\\_ground'\n",
       "\\item 'temperature\\_2m\\_above\\_ground'\n",
       "\\item 'u\\_component\\_of\\_wind\\_10m\\_above\\_ground'\n",
       "\\item 'v\\_component\\_of\\_wind\\_10m\\_above\\_ground'\n",
       "\\item 'L3\\_NO2\\_NO2\\_column\\_number\\_density'\n",
       "\\item 'L3\\_NO2\\_NO2\\_slant\\_column\\_number\\_density'\n",
       "\\item 'L3\\_NO2\\_absorbing\\_aerosol\\_index'\n",
       "\\item 'L3\\_NO2\\_cloud\\_fraction'\n",
       "\\item 'L3\\_NO2\\_sensor\\_altitude'\n",
       "\\item 'L3\\_NO2\\_sensor\\_azimuth\\_angle'\n",
       "\\item 'L3\\_NO2\\_sensor\\_zenith\\_angle'\n",
       "\\item 'L3\\_NO2\\_solar\\_azimuth\\_angle'\n",
       "\\item 'L3\\_NO2\\_solar\\_zenith\\_angle'\n",
       "\\item 'L3\\_NO2\\_stratospheric\\_NO2\\_column\\_number\\_density'\n",
       "\\item 'L3\\_NO2\\_tropopause\\_pressure'\n",
       "\\item 'L3\\_NO2\\_tropospheric\\_NO2\\_column\\_number\\_density'\n",
       "\\item 'L3\\_O3\\_O3\\_column\\_number\\_density'\n",
       "\\item 'L3\\_O3\\_O3\\_effective\\_temperature'\n",
       "\\item 'L3\\_O3\\_cloud\\_fraction'\n",
       "\\item 'L3\\_O3\\_sensor\\_azimuth\\_angle'\n",
       "\\item 'L3\\_O3\\_sensor\\_zenith\\_angle'\n",
       "\\item 'L3\\_O3\\_solar\\_azimuth\\_angle'\n",
       "\\item 'L3\\_O3\\_solar\\_zenith\\_angle'\n",
       "\\item 'L3\\_CO\\_CO\\_column\\_number\\_density'\n",
       "\\item 'L3\\_CO\\_H2O\\_column\\_number\\_density'\n",
       "\\item 'L3\\_CO\\_cloud\\_height'\n",
       "\\item 'L3\\_CO\\_sensor\\_altitude'\n",
       "\\item 'L3\\_CO\\_sensor\\_azimuth\\_angle'\n",
       "\\item 'L3\\_CO\\_sensor\\_zenith\\_angle'\n",
       "\\item 'L3\\_CO\\_solar\\_azimuth\\_angle'\n",
       "\\item 'L3\\_CO\\_solar\\_zenith\\_angle'\n",
       "\\item 'L3\\_HCHO\\_HCHO\\_slant\\_column\\_number\\_density'\n",
       "\\item 'L3\\_HCHO\\_cloud\\_fraction'\n",
       "\\item 'L3\\_HCHO\\_sensor\\_azimuth\\_angle'\n",
       "\\item 'L3\\_HCHO\\_sensor\\_zenith\\_angle'\n",
       "\\item 'L3\\_HCHO\\_solar\\_azimuth\\_angle'\n",
       "\\item 'L3\\_HCHO\\_solar\\_zenith\\_angle'\n",
       "\\item 'L3\\_HCHO\\_tropospheric\\_HCHO\\_column\\_number\\_density'\n",
       "\\item 'L3\\_HCHO\\_tropospheric\\_HCHO\\_column\\_number\\_density\\_amf'\n",
       "\\item 'L3\\_CLOUD\\_cloud\\_base\\_height'\n",
       "\\item 'L3\\_CLOUD\\_cloud\\_base\\_pressure'\n",
       "\\item 'L3\\_CLOUD\\_cloud\\_fraction'\n",
       "\\item 'L3\\_CLOUD\\_cloud\\_optical\\_depth'\n",
       "\\item 'L3\\_CLOUD\\_cloud\\_top\\_height'\n",
       "\\item 'L3\\_CLOUD\\_cloud\\_top\\_pressure'\n",
       "\\item 'L3\\_CLOUD\\_sensor\\_azimuth\\_angle'\n",
       "\\item 'L3\\_CLOUD\\_sensor\\_zenith\\_angle'\n",
       "\\item 'L3\\_CLOUD\\_solar\\_azimuth\\_angle'\n",
       "\\item 'L3\\_CLOUD\\_solar\\_zenith\\_angle'\n",
       "\\item 'L3\\_CLOUD\\_surface\\_albedo'\n",
       "\\item 'L3\\_AER\\_AI\\_absorbing\\_aerosol\\_index'\n",
       "\\item 'L3\\_AER\\_AI\\_sensor\\_altitude'\n",
       "\\item 'L3\\_AER\\_AI\\_sensor\\_azimuth\\_angle'\n",
       "\\item 'L3\\_AER\\_AI\\_sensor\\_zenith\\_angle'\n",
       "\\item 'L3\\_AER\\_AI\\_solar\\_azimuth\\_angle'\n",
       "\\item 'L3\\_AER\\_AI\\_solar\\_zenith\\_angle'\n",
       "\\item 'L3\\_SO2\\_SO2\\_column\\_number\\_density'\n",
       "\\item 'L3\\_SO2\\_SO2\\_column\\_number\\_density\\_amf'\n",
       "\\item 'L3\\_SO2\\_SO2\\_slant\\_column\\_number\\_density'\n",
       "\\item 'L3\\_SO2\\_absorbing\\_aerosol\\_index'\n",
       "\\item 'L3\\_SO2\\_cloud\\_fraction'\n",
       "\\item 'L3\\_SO2\\_sensor\\_azimuth\\_angle'\n",
       "\\item 'L3\\_SO2\\_sensor\\_zenith\\_angle'\n",
       "\\item 'L3\\_SO2\\_solar\\_azimuth\\_angle'\n",
       "\\item 'L3\\_SO2\\_solar\\_zenith\\_angle'\n",
       "\\item 'L3\\_CH4\\_CH4\\_column\\_volume\\_mixing\\_ratio\\_dry\\_air'\n",
       "\\item 'L3\\_CH4\\_aerosol\\_height'\n",
       "\\item 'L3\\_CH4\\_aerosol\\_optical\\_depth'\n",
       "\\item 'L3\\_CH4\\_sensor\\_azimuth\\_angle'\n",
       "\\item 'L3\\_CH4\\_sensor\\_zenith\\_angle'\n",
       "\\item 'L3\\_CH4\\_solar\\_azimuth\\_angle'\n",
       "\\item 'L3\\_CH4\\_solar\\_zenith\\_angle'\n",
       "\\item 'month'\n",
       "\\item 'day'\n",
       "\\end{enumerate*}\n"
      ],
      "text/markdown": [
       "1. 'target'\n",
       "2. 'precipitable_water_entire_atmosphere'\n",
       "3. 'relative_humidity_2m_above_ground'\n",
       "4. 'specific_humidity_2m_above_ground'\n",
       "5. 'temperature_2m_above_ground'\n",
       "6. 'u_component_of_wind_10m_above_ground'\n",
       "7. 'v_component_of_wind_10m_above_ground'\n",
       "8. 'L3_NO2_NO2_column_number_density'\n",
       "9. 'L3_NO2_NO2_slant_column_number_density'\n",
       "10. 'L3_NO2_absorbing_aerosol_index'\n",
       "11. 'L3_NO2_cloud_fraction'\n",
       "12. 'L3_NO2_sensor_altitude'\n",
       "13. 'L3_NO2_sensor_azimuth_angle'\n",
       "14. 'L3_NO2_sensor_zenith_angle'\n",
       "15. 'L3_NO2_solar_azimuth_angle'\n",
       "16. 'L3_NO2_solar_zenith_angle'\n",
       "17. 'L3_NO2_stratospheric_NO2_column_number_density'\n",
       "18. 'L3_NO2_tropopause_pressure'\n",
       "19. 'L3_NO2_tropospheric_NO2_column_number_density'\n",
       "20. 'L3_O3_O3_column_number_density'\n",
       "21. 'L3_O3_O3_effective_temperature'\n",
       "22. 'L3_O3_cloud_fraction'\n",
       "23. 'L3_O3_sensor_azimuth_angle'\n",
       "24. 'L3_O3_sensor_zenith_angle'\n",
       "25. 'L3_O3_solar_azimuth_angle'\n",
       "26. 'L3_O3_solar_zenith_angle'\n",
       "27. 'L3_CO_CO_column_number_density'\n",
       "28. 'L3_CO_H2O_column_number_density'\n",
       "29. 'L3_CO_cloud_height'\n",
       "30. 'L3_CO_sensor_altitude'\n",
       "31. 'L3_CO_sensor_azimuth_angle'\n",
       "32. 'L3_CO_sensor_zenith_angle'\n",
       "33. 'L3_CO_solar_azimuth_angle'\n",
       "34. 'L3_CO_solar_zenith_angle'\n",
       "35. 'L3_HCHO_HCHO_slant_column_number_density'\n",
       "36. 'L3_HCHO_cloud_fraction'\n",
       "37. 'L3_HCHO_sensor_azimuth_angle'\n",
       "38. 'L3_HCHO_sensor_zenith_angle'\n",
       "39. 'L3_HCHO_solar_azimuth_angle'\n",
       "40. 'L3_HCHO_solar_zenith_angle'\n",
       "41. 'L3_HCHO_tropospheric_HCHO_column_number_density'\n",
       "42. 'L3_HCHO_tropospheric_HCHO_column_number_density_amf'\n",
       "43. 'L3_CLOUD_cloud_base_height'\n",
       "44. 'L3_CLOUD_cloud_base_pressure'\n",
       "45. 'L3_CLOUD_cloud_fraction'\n",
       "46. 'L3_CLOUD_cloud_optical_depth'\n",
       "47. 'L3_CLOUD_cloud_top_height'\n",
       "48. 'L3_CLOUD_cloud_top_pressure'\n",
       "49. 'L3_CLOUD_sensor_azimuth_angle'\n",
       "50. 'L3_CLOUD_sensor_zenith_angle'\n",
       "51. 'L3_CLOUD_solar_azimuth_angle'\n",
       "52. 'L3_CLOUD_solar_zenith_angle'\n",
       "53. 'L3_CLOUD_surface_albedo'\n",
       "54. 'L3_AER_AI_absorbing_aerosol_index'\n",
       "55. 'L3_AER_AI_sensor_altitude'\n",
       "56. 'L3_AER_AI_sensor_azimuth_angle'\n",
       "57. 'L3_AER_AI_sensor_zenith_angle'\n",
       "58. 'L3_AER_AI_solar_azimuth_angle'\n",
       "59. 'L3_AER_AI_solar_zenith_angle'\n",
       "60. 'L3_SO2_SO2_column_number_density'\n",
       "61. 'L3_SO2_SO2_column_number_density_amf'\n",
       "62. 'L3_SO2_SO2_slant_column_number_density'\n",
       "63. 'L3_SO2_absorbing_aerosol_index'\n",
       "64. 'L3_SO2_cloud_fraction'\n",
       "65. 'L3_SO2_sensor_azimuth_angle'\n",
       "66. 'L3_SO2_sensor_zenith_angle'\n",
       "67. 'L3_SO2_solar_azimuth_angle'\n",
       "68. 'L3_SO2_solar_zenith_angle'\n",
       "69. 'L3_CH4_CH4_column_volume_mixing_ratio_dry_air'\n",
       "70. 'L3_CH4_aerosol_height'\n",
       "71. 'L3_CH4_aerosol_optical_depth'\n",
       "72. 'L3_CH4_sensor_azimuth_angle'\n",
       "73. 'L3_CH4_sensor_zenith_angle'\n",
       "74. 'L3_CH4_solar_azimuth_angle'\n",
       "75. 'L3_CH4_solar_zenith_angle'\n",
       "76. 'month'\n",
       "77. 'day'\n",
       "\n",
       "\n"
      ],
      "text/plain": [
       " [1] \"target\"                                             \n",
       " [2] \"precipitable_water_entire_atmosphere\"               \n",
       " [3] \"relative_humidity_2m_above_ground\"                  \n",
       " [4] \"specific_humidity_2m_above_ground\"                  \n",
       " [5] \"temperature_2m_above_ground\"                        \n",
       " [6] \"u_component_of_wind_10m_above_ground\"               \n",
       " [7] \"v_component_of_wind_10m_above_ground\"               \n",
       " [8] \"L3_NO2_NO2_column_number_density\"                   \n",
       " [9] \"L3_NO2_NO2_slant_column_number_density\"             \n",
       "[10] \"L3_NO2_absorbing_aerosol_index\"                     \n",
       "[11] \"L3_NO2_cloud_fraction\"                              \n",
       "[12] \"L3_NO2_sensor_altitude\"                             \n",
       "[13] \"L3_NO2_sensor_azimuth_angle\"                        \n",
       "[14] \"L3_NO2_sensor_zenith_angle\"                         \n",
       "[15] \"L3_NO2_solar_azimuth_angle\"                         \n",
       "[16] \"L3_NO2_solar_zenith_angle\"                          \n",
       "[17] \"L3_NO2_stratospheric_NO2_column_number_density\"     \n",
       "[18] \"L3_NO2_tropopause_pressure\"                         \n",
       "[19] \"L3_NO2_tropospheric_NO2_column_number_density\"      \n",
       "[20] \"L3_O3_O3_column_number_density\"                     \n",
       "[21] \"L3_O3_O3_effective_temperature\"                     \n",
       "[22] \"L3_O3_cloud_fraction\"                               \n",
       "[23] \"L3_O3_sensor_azimuth_angle\"                         \n",
       "[24] \"L3_O3_sensor_zenith_angle\"                          \n",
       "[25] \"L3_O3_solar_azimuth_angle\"                          \n",
       "[26] \"L3_O3_solar_zenith_angle\"                           \n",
       "[27] \"L3_CO_CO_column_number_density\"                     \n",
       "[28] \"L3_CO_H2O_column_number_density\"                    \n",
       "[29] \"L3_CO_cloud_height\"                                 \n",
       "[30] \"L3_CO_sensor_altitude\"                              \n",
       "[31] \"L3_CO_sensor_azimuth_angle\"                         \n",
       "[32] \"L3_CO_sensor_zenith_angle\"                          \n",
       "[33] \"L3_CO_solar_azimuth_angle\"                          \n",
       "[34] \"L3_CO_solar_zenith_angle\"                           \n",
       "[35] \"L3_HCHO_HCHO_slant_column_number_density\"           \n",
       "[36] \"L3_HCHO_cloud_fraction\"                             \n",
       "[37] \"L3_HCHO_sensor_azimuth_angle\"                       \n",
       "[38] \"L3_HCHO_sensor_zenith_angle\"                        \n",
       "[39] \"L3_HCHO_solar_azimuth_angle\"                        \n",
       "[40] \"L3_HCHO_solar_zenith_angle\"                         \n",
       "[41] \"L3_HCHO_tropospheric_HCHO_column_number_density\"    \n",
       "[42] \"L3_HCHO_tropospheric_HCHO_column_number_density_amf\"\n",
       "[43] \"L3_CLOUD_cloud_base_height\"                         \n",
       "[44] \"L3_CLOUD_cloud_base_pressure\"                       \n",
       "[45] \"L3_CLOUD_cloud_fraction\"                            \n",
       "[46] \"L3_CLOUD_cloud_optical_depth\"                       \n",
       "[47] \"L3_CLOUD_cloud_top_height\"                          \n",
       "[48] \"L3_CLOUD_cloud_top_pressure\"                        \n",
       "[49] \"L3_CLOUD_sensor_azimuth_angle\"                      \n",
       "[50] \"L3_CLOUD_sensor_zenith_angle\"                       \n",
       "[51] \"L3_CLOUD_solar_azimuth_angle\"                       \n",
       "[52] \"L3_CLOUD_solar_zenith_angle\"                        \n",
       "[53] \"L3_CLOUD_surface_albedo\"                            \n",
       "[54] \"L3_AER_AI_absorbing_aerosol_index\"                  \n",
       "[55] \"L3_AER_AI_sensor_altitude\"                          \n",
       "[56] \"L3_AER_AI_sensor_azimuth_angle\"                     \n",
       "[57] \"L3_AER_AI_sensor_zenith_angle\"                      \n",
       "[58] \"L3_AER_AI_solar_azimuth_angle\"                      \n",
       "[59] \"L3_AER_AI_solar_zenith_angle\"                       \n",
       "[60] \"L3_SO2_SO2_column_number_density\"                   \n",
       "[61] \"L3_SO2_SO2_column_number_density_amf\"               \n",
       "[62] \"L3_SO2_SO2_slant_column_number_density\"             \n",
       "[63] \"L3_SO2_absorbing_aerosol_index\"                     \n",
       "[64] \"L3_SO2_cloud_fraction\"                              \n",
       "[65] \"L3_SO2_sensor_azimuth_angle\"                        \n",
       "[66] \"L3_SO2_sensor_zenith_angle\"                         \n",
       "[67] \"L3_SO2_solar_azimuth_angle\"                         \n",
       "[68] \"L3_SO2_solar_zenith_angle\"                          \n",
       "[69] \"L3_CH4_CH4_column_volume_mixing_ratio_dry_air\"      \n",
       "[70] \"L3_CH4_aerosol_height\"                              \n",
       "[71] \"L3_CH4_aerosol_optical_depth\"                       \n",
       "[72] \"L3_CH4_sensor_azimuth_angle\"                        \n",
       "[73] \"L3_CH4_sensor_zenith_angle\"                         \n",
       "[74] \"L3_CH4_solar_azimuth_angle\"                         \n",
       "[75] \"L3_CH4_solar_zenith_angle\"                          \n",
       "[76] \"month\"                                              \n",
       "[77] \"day\"                                                "
      ]
     },
     "metadata": {},
     "output_type": "display_data"
    }
   ],
   "source": [
    "# Remove the date column\n",
    "data <- subset(x=data, select=-c(Date,year))\n",
    "# Visualize the transformed data\n",
    "colnames(data)"
   ]
  },
  {
   "cell_type": "markdown",
   "metadata": {},
   "source": [
    "Let's observe the characteristics of each column."
   ]
  },
  {
   "cell_type": "code",
   "execution_count": 9,
   "metadata": {
    "vscode": {
     "languageId": "r"
    }
   },
   "outputs": [
    {
     "data": {
      "text/plain": [
       "     target       precipitable_water_entire_atmosphere\n",
       " Min.   :  1.00   Min.   : 0.420                      \n",
       " 1st Qu.: 25.00   1st Qu.: 7.667                      \n",
       " Median : 50.00   Median :12.200                      \n",
       " Mean   : 61.15   Mean   :15.302                      \n",
       " 3rd Qu.: 80.00   3rd Qu.:19.900                      \n",
       " Max.   :815.00   Max.   :72.600                      \n",
       "                                                      \n",
       " relative_humidity_2m_above_ground specific_humidity_2m_above_ground\n",
       " Min.   :  5.129                   Min.   :0.0001392                \n",
       " 1st Qu.: 58.600                   1st Qu.:0.0034027                \n",
       " Median : 74.100                   Median :0.0049121                \n",
       " Mean   : 70.553                   Mean   :0.0060044                \n",
       " 3rd Qu.: 85.450                   3rd Qu.:0.0075617                \n",
       " Max.   :100.000                   Max.   :0.0216150                \n",
       "                                                                    \n",
       " temperature_2m_above_ground u_component_of_wind_10m_above_ground\n",
       " Min.   :-34.648             Min.   :-15.5596                    \n",
       " 1st Qu.:  3.123             1st Qu.: -1.0979                    \n",
       " Median :  8.478             Median :  0.2221                    \n",
       " Mean   :  9.321             Mean   :  0.4169                    \n",
       " 3rd Qu.: 16.202             3rd Qu.:  1.7729                    \n",
       " Max.   : 37.438             Max.   : 17.9551                    \n",
       "                                                                 \n",
       " v_component_of_wind_10m_above_ground L3_NO2_NO2_column_number_density\n",
       " Min.   :-15.02365                    Min.   :-1e-04                  \n",
       " 1st Qu.: -1.41570                    1st Qu.: 1e-04                  \n",
       " Median :  0.01285                    Median : 1e-04                  \n",
       " Mean   :  0.08849                    Mean   : 1e-04                  \n",
       " 3rd Qu.:  1.55556                    3rd Qu.: 1e-04                  \n",
       " Max.   : 15.05553                    Max.   : 3e-03                  \n",
       "                                      NA's   :2189                    \n",
       " L3_NO2_NO2_slant_column_number_density L3_NO2_absorbing_aerosol_index\n",
       " Min.   :0.0000                         Min.   :-3.9417               \n",
       " 1st Qu.:0.0001                         1st Qu.:-1.5147               \n",
       " Median :0.0002                         Median :-1.1683               \n",
       " Mean   :0.0002                         Mean   :-1.0940               \n",
       " 3rd Qu.:0.0002                         3rd Qu.:-0.7434               \n",
       " Max.   :0.0024                         Max.   : 4.8248               \n",
       " NA's   :2189                           NA's   :2189                  \n",
       " L3_NO2_cloud_fraction L3_NO2_sensor_altitude L3_NO2_sensor_azimuth_angle\n",
       " Min.   :0.0000        Min.   :     0         Min.   :-111.47            \n",
       " 1st Qu.:0.0263        1st Qu.:829680         1st Qu.: -96.45            \n",
       " Median :0.1494        Median :831596         Median : -12.80            \n",
       " Mean   :0.2780        Mean   :755880         Mean   : -10.60            \n",
       " 3rd Qu.:0.4696        3rd Qu.:833734         3rd Qu.:  68.89            \n",
       " Max.   :1.0000        Max.   :844494         Max.   :  79.16            \n",
       " NA's   :2189          NA's   :2189           NA's   :2190               \n",
       " L3_NO2_sensor_zenith_angle L3_NO2_solar_azimuth_angle\n",
       " Min.   : 0.00              Min.   :-180.0            \n",
       " 1st Qu.:14.54              1st Qu.:-165.7            \n",
       " Median :35.48              Median :-155.2            \n",
       " Mean   :32.76              Mean   :-111.4            \n",
       " 3rd Qu.:51.09              3rd Qu.: -46.8            \n",
       " Max.   :66.25              Max.   : 179.7            \n",
       " NA's   :2190               NA's   :2190              \n",
       " L3_NO2_solar_zenith_angle L3_NO2_stratospheric_NO2_column_number_density\n",
       " Min.   : 0.00             Min.   :0e+00                                 \n",
       " 1st Qu.:34.71             1st Qu.:0e+00                                 \n",
       " Median :47.55             Median :0e+00                                 \n",
       " Mean   :44.43             Mean   :0e+00                                 \n",
       " 3rd Qu.:58.37             3rd Qu.:0e+00                                 \n",
       " Max.   :81.19             Max.   :1e-04                                 \n",
       " NA's   :2190              NA's   :2190                                  \n",
       " L3_NO2_tropopause_pressure L3_NO2_tropospheric_NO2_column_number_density\n",
       " Min.   :    0              Min.   :0.000                                \n",
       " 1st Qu.: 7312              1st Qu.:0.000                                \n",
       " Median :14424              Median :0.000                                \n",
       " Mean   :13343              Mean   :0.000                                \n",
       " 3rd Qu.:19219              3rd Qu.:0.000                                \n",
       " Max.   :31592              Max.   :0.002                                \n",
       " NA's   :2190               NA's   :8669                                 \n",
       " L3_O3_O3_column_number_density L3_O3_O3_effective_temperature\n",
       " Min.   :0.0000                 Min.   :  0.0                 \n",
       " 1st Qu.:0.1216                 1st Qu.:225.0                 \n",
       " Median :0.1408                 Median :227.7                 \n",
       " Mean   :0.1395                 Mean   :222.3                 \n",
       " 3rd Qu.:0.1579                 3rd Qu.:230.0                 \n",
       " Max.   :0.2377                 Max.   :238.9                 \n",
       " NA's   :283                    NA's   :283                   \n",
       " L3_O3_cloud_fraction L3_O3_sensor_azimuth_angle L3_O3_sensor_zenith_angle\n",
       " Min.   :0.0000       Min.   :-111.95            Min.   : 0.00            \n",
       " 1st Qu.:0.1052       1st Qu.: -96.71            1st Qu.:19.28            \n",
       " Median :0.3266       Median : -14.17            Median :39.55            \n",
       " Mean   :0.4237       Mean   : -11.31            Mean   :35.73            \n",
       " 3rd Qu.:0.7578       3rd Qu.:  69.18            3rd Qu.:52.08            \n",
       " Max.   :1.0000       Max.   :  77.71            Max.   :66.06            \n",
       " NA's   :283          NA's   :283                NA's   :283              \n",
       " L3_O3_solar_azimuth_angle L3_O3_solar_zenith_angle\n",
       " Min.   :-179.83           Min.   : 0.00           \n",
       " 1st Qu.:-165.81           1st Qu.:37.80           \n",
       " Median :-156.43           Median :48.79           \n",
       " Mean   :-117.74           Mean   :47.75           \n",
       " 3rd Qu.: -62.28           3rd Qu.:59.12           \n",
       " Max.   : 179.59           Max.   :79.65           \n",
       " NA's   :283               NA's   :283             \n",
       " L3_CO_CO_column_number_density L3_CO_H2O_column_number_density\n",
       " Min.   :0.000                  Min.   :    0.0                \n",
       " 1st Qu.:0.031                  1st Qu.:  414.2                \n",
       " Median :0.036                  Median :  713.6                \n",
       " Mean   :0.036                  Mean   :  983.4                \n",
       " 3rd Qu.:0.040                  3rd Qu.: 1241.9                \n",
       " Max.   :0.292                  Max.   :19656.4                \n",
       " NA's   :5423                   NA's   :5423                   \n",
       " L3_CO_cloud_height L3_CO_sensor_altitude L3_CO_sensor_azimuth_angle\n",
       " Min.   :-489.9     Min.   :     0        Min.   :-106.06           \n",
       " 1st Qu.: 187.7     1st Qu.:830284        1st Qu.: -94.62           \n",
       " Median : 954.0     Median :831986        Median : -13.52           \n",
       " Mean   :1438.0     Mean   :821612        Mean   : -12.59           \n",
       " 3rd Qu.:2450.9     3rd Qu.:834027        3rd Qu.:  66.22           \n",
       " Max.   :4999.3     Max.   :844553        Max.   :  78.14           \n",
       " NA's   :5423       NA's   :5423          NA's   :5423              \n",
       " L3_CO_sensor_zenith_angle L3_CO_solar_azimuth_angle L3_CO_solar_zenith_angle\n",
       " Min.   : 0.00             Min.   :-179.9            Min.   : 0.00           \n",
       " 1st Qu.:18.97             1st Qu.:-166.8            1st Qu.:37.62           \n",
       " Median :37.46             Median :-157.4            Median :48.36           \n",
       " Mean   :35.01             Mean   :-124.2            Mean   :47.60           \n",
       " 3rd Qu.:51.19             3rd Qu.:-121.9            3rd Qu.:58.48           \n",
       " Max.   :65.42             Max.   : 180.0            Max.   :79.99           \n",
       " NA's   :5423              NA's   :5423              NA's   :5423            \n",
       " L3_HCHO_HCHO_slant_column_number_density L3_HCHO_cloud_fraction\n",
       " Min.   :-0.001                           Min.   :0.000         \n",
       " 1st Qu.: 0.000                           1st Qu.:0.076         \n",
       " Median : 0.000                           Median :0.183         \n",
       " Mean   : 0.000                           Mean   :0.200         \n",
       " 3rd Qu.: 0.000                           3rd Qu.:0.316         \n",
       " Max.   : 0.001                           Max.   :0.616         \n",
       " NA's   :7425                             NA's   :7425          \n",
       " L3_HCHO_sensor_azimuth_angle L3_HCHO_sensor_zenith_angle\n",
       " Min.   :-112.16              Min.   : 0.00              \n",
       " 1st Qu.: -97.50              1st Qu.:19.65              \n",
       " Median : -14.49              Median :38.40              \n",
       " Mean   : -14.13              Mean   :35.85              \n",
       " 3rd Qu.:  69.54              3rd Qu.:52.68              \n",
       " Max.   :  81.78              Max.   :66.13              \n",
       " NA's   :7425                 NA's   :7425               \n",
       " L3_HCHO_solar_azimuth_angle L3_HCHO_solar_zenith_angle\n",
       " Min.   :-179.8              Min.   : 0.00             \n",
       " 1st Qu.:-165.6              1st Qu.:36.78             \n",
       " Median :-156.3              Median :47.58             \n",
       " Mean   :-122.6              Mean   :46.80             \n",
       " 3rd Qu.:-113.5              3rd Qu.:57.82             \n",
       " Max.   : 179.8              Max.   :79.64             \n",
       " NA's   :7425                NA's   :7425              \n",
       " L3_HCHO_tropospheric_HCHO_column_number_density\n",
       " Min.   :-0.001                                 \n",
       " 1st Qu.: 0.000                                 \n",
       " Median : 0.000                                 \n",
       " Mean   : 0.000                                 \n",
       " 3rd Qu.: 0.000                                 \n",
       " Max.   : 0.001                                 \n",
       " NA's   :7425                                   \n",
       " L3_HCHO_tropospheric_HCHO_column_number_density_amf L3_CLOUD_cloud_base_height\n",
       " Min.   :0.000                                       Min.   :    8.998         \n",
       " 1st Qu.:0.850                                       1st Qu.:  771.406         \n",
       " Median :1.011                                       Median : 1855.513         \n",
       " Mean   :1.064                                       Mean   : 2510.989         \n",
       " 3rd Qu.:1.235                                       3rd Qu.: 3667.166         \n",
       " Max.   :3.100                                       Max.   :14000.000         \n",
       " NA's   :7425                                        NA's   :1522              \n",
       " L3_CLOUD_cloud_base_pressure L3_CLOUD_cloud_fraction\n",
       " Min.   : 12936               Min.   :0.0000         \n",
       " 1st Qu.: 65460               1st Qu.:0.1127         \n",
       " Median : 81508               Median :0.3408         \n",
       " Mean   : 77492               Mean   :0.4335         \n",
       " 3rd Qu.: 92813               3rd Qu.:0.7718         \n",
       " Max.   :101299               Max.   :1.0000         \n",
       " NA's   :1522                 NA's   :374            \n",
       " L3_CLOUD_cloud_optical_depth L3_CLOUD_cloud_top_height\n",
       " Min.   :  1.000              Min.   :   10.05         \n",
       " 1st Qu.:  5.196              1st Qu.: 1503.25         \n",
       " Median :  8.521              Median : 2641.05         \n",
       " Mean   : 18.202              Mean   : 3286.13         \n",
       " 3rd Qu.: 21.040              3rd Qu.: 4626.83         \n",
       " Max.   :237.121              Max.   :15000.00         \n",
       " NA's   :1522                 NA's   :1522             \n",
       " L3_CLOUD_cloud_top_pressure L3_CLOUD_sensor_azimuth_angle\n",
       " Min.   : 10957              Min.   :-111.95              \n",
       " 1st Qu.: 57764              1st Qu.: -96.91              \n",
       " Median : 74094              Median : -14.44              \n",
       " Mean   : 70800              Mean   : -11.56              \n",
       " 3rd Qu.: 85105              3rd Qu.:  69.34              \n",
       " Max.   :101299              Max.   :  77.71              \n",
       " NA's   :1522                NA's   :374                  \n",
       " L3_CLOUD_sensor_zenith_angle L3_CLOUD_solar_azimuth_angle\n",
       " Min.   : 0.404               Min.   :-179.83             \n",
       " 1st Qu.:20.865               1st Qu.:-165.86             \n",
       " Median :40.408               Median :-156.78             \n",
       " Mean   :36.520               Mean   :-120.06             \n",
       " 3rd Qu.:52.281               3rd Qu.: -73.49             \n",
       " Max.   :66.065               Max.   : 179.59             \n",
       " NA's   :374                  NA's   :374                 \n",
       " L3_CLOUD_solar_zenith_angle L3_CLOUD_surface_albedo\n",
       " Min.   : 8.398              Min.   :0.0156         \n",
       " 1st Qu.:38.341              1st Qu.:0.1676         \n",
       " Median :48.916              Median :0.2100         \n",
       " Mean   :48.585              Mean   :0.2268         \n",
       " 3rd Qu.:59.149              3rd Qu.:0.2584         \n",
       " Max.   :79.654              Max.   :0.9888         \n",
       " NA's   :374                 NA's   :1522           \n",
       " L3_AER_AI_absorbing_aerosol_index L3_AER_AI_sensor_altitude\n",
       " Min.   :-3.967                    Min.   :828758           \n",
       " 1st Qu.:-1.517                    1st Qu.:830410           \n",
       " Median :-1.179                    Median :832052           \n",
       " Mean   :-1.161                    Mean   :832554           \n",
       " 3rd Qu.:-0.817                    3rd Qu.:834108           \n",
       " Max.   : 4.825                    Max.   :844494           \n",
       " NA's   :197                       NA's   :197              \n",
       " L3_AER_AI_sensor_azimuth_angle L3_AER_AI_sensor_zenith_angle\n",
       " Min.   :-112.09                Min.   : 0.4188              \n",
       " 1st Qu.: -96.71                1st Qu.:21.0869              \n",
       " Median : -14.53                Median :40.6297              \n",
       " Mean   : -11.15                Mean   :36.6670              \n",
       " 3rd Qu.:  69.29                3rd Qu.:52.2859              \n",
       " Max.   :  77.71                Max.   :66.5043              \n",
       " NA's   :197                    NA's   :197                  \n",
       " L3_AER_AI_solar_azimuth_angle L3_AER_AI_solar_zenith_angle\n",
       " Min.   :-179.46               Min.   : 8.251              \n",
       " 1st Qu.:-165.79               1st Qu.:38.369              \n",
       " Median :-156.54               Median :48.993              \n",
       " Mean   :-118.86               Mean   :48.753              \n",
       " 3rd Qu.: -65.22               3rd Qu.:59.322              \n",
       " Max.   : 179.59               Max.   :87.491              \n",
       " NA's   :197                   NA's   :197                 \n",
       " L3_SO2_SO2_column_number_density L3_SO2_SO2_column_number_density_amf\n",
       " Min.   :-0.039                   Min.   :0.000                       \n",
       " 1st Qu.: 0.000                   1st Qu.:0.251                       \n",
       " Median : 0.000                   Median :0.378                       \n",
       " Mean   : 0.000                   Mean   :0.429                       \n",
       " 3rd Qu.: 0.000                   3rd Qu.:0.553                       \n",
       " Max.   : 0.027                   Max.   :2.184                       \n",
       " NA's   :7237                     NA's   :7237                        \n",
       " L3_SO2_SO2_slant_column_number_density L3_SO2_absorbing_aerosol_index\n",
       " Min.   :-0.004                         Min.   :-4.834                \n",
       " 1st Qu.: 0.000                         1st Qu.:-2.373                \n",
       " Median : 0.000                         Median :-1.964                \n",
       " Mean   : 0.000                         Mean   :-1.945                \n",
       " 3rd Qu.: 0.000                         3rd Qu.:-1.556                \n",
       " Max.   : 0.007                         Max.   : 3.737                \n",
       " NA's   :7237                           NA's   :7308                  \n",
       " L3_SO2_cloud_fraction L3_SO2_sensor_azimuth_angle L3_SO2_sensor_zenith_angle\n",
       " Min.   :0.000         Min.   :-112.00             Min.   : 0.00             \n",
       " 1st Qu.:0.077         1st Qu.: -97.65             1st Qu.:19.45             \n",
       " Median :0.190         Median : -14.31             Median :37.92             \n",
       " Mean   :0.214         Mean   : -13.67             Mean   :35.59             \n",
       " 3rd Qu.:0.345         3rd Qu.:  69.61             3rd Qu.:52.27             \n",
       " Max.   :0.618         Max.   :  80.54             Max.   :66.11             \n",
       " NA's   :7237          NA's   :7237                NA's   :7237              \n",
       " L3_SO2_solar_azimuth_angle L3_SO2_solar_zenith_angle\n",
       " Min.   :-179.9             Min.   : 0.00            \n",
       " 1st Qu.:-165.9             1st Qu.:36.69            \n",
       " Median :-156.6             Median :47.45            \n",
       " Mean   :-123.7             Mean   :46.53            \n",
       " 3rd Qu.:-118.5             3rd Qu.:57.44            \n",
       " Max.   : 179.8             Max.   :79.63            \n",
       " NA's   :7237               NA's   :7237             \n",
       " L3_CH4_CH4_column_volume_mixing_ratio_dry_air L3_CH4_aerosol_height\n",
       " Min.   :   0.0                                Min.   :   0         \n",
       " 1st Qu.:   0.0                                1st Qu.:   0         \n",
       " Median :   0.0                                Median :   0         \n",
       " Mean   : 923.2                                Mean   :1712         \n",
       " 3rd Qu.:1861.7                                3rd Qu.:3394         \n",
       " Max.   :2112.5                                Max.   :6479         \n",
       " NA's   :24765                                 NA's   :24765        \n",
       " L3_CH4_aerosol_optical_depth L3_CH4_sensor_azimuth_angle\n",
       " Min.   :0.000                Min.   :-105.367           \n",
       " 1st Qu.:0.000                1st Qu.:   0.000           \n",
       " Median :0.000                Median :   0.000           \n",
       " Mean   :0.016                Mean   :   1.255           \n",
       " 3rd Qu.:0.024                3rd Qu.:  62.246           \n",
       " Max.   :0.210                Max.   :  77.355           \n",
       " NA's   :24765                NA's   :24765              \n",
       " L3_CH4_sensor_zenith_angle L3_CH4_solar_azimuth_angle\n",
       " Min.   : 0.00              Min.   :-179.9            \n",
       " 1st Qu.: 0.00              1st Qu.:-161.7            \n",
       " Median : 0.00              Median :   0.0            \n",
       " Mean   :13.85              Mean   : -69.1            \n",
       " 3rd Qu.:27.41              3rd Qu.:   0.0            \n",
       " Max.   :59.97              Max.   : 179.8            \n",
       " NA's   :24765              NA's   :24765             \n",
       " L3_CH4_solar_zenith_angle     month            day       \n",
       " Min.   : 0.00             Min.   :1.000   Min.   : 1.00  \n",
       " 1st Qu.: 0.00             1st Qu.:1.000   1st Qu.: 7.00  \n",
       " Median : 0.00             Median :2.000   Median :15.00  \n",
       " Mean   :23.10             Mean   :2.096   Mean   :15.25  \n",
       " 3rd Qu.:47.09             3rd Qu.:3.000   3rd Qu.:23.00  \n",
       " Max.   :69.99             Max.   :4.000   Max.   :31.00  \n",
       " NA's   :24765                                            "
      ]
     },
     "metadata": {},
     "output_type": "display_data"
    }
   ],
   "source": [
    "# Summary of the data\n",
    "summary(data)"
   ]
  },
  {
   "cell_type": "markdown",
   "metadata": {},
   "source": [
    "### Feature selection "
   ]
  },
  {
   "cell_type": "markdown",
   "metadata": {},
   "source": [
    "We can notice that all columns concerning the L3_CH4 data have a very high number of NA values (24765/30557). So, these columns provide too few information. Let's discard them."
   ]
  },
  {
   "cell_type": "code",
   "execution_count": 10,
   "metadata": {
    "vscode": {
     "languageId": "r"
    }
   },
   "outputs": [
    {
     "data": {
      "text/html": [
       "<table class=\"dataframe\">\n",
       "<caption>A data.frame: 5 × 70</caption>\n",
       "<thead>\n",
       "\t<tr><th></th><th scope=col>target</th><th scope=col>precipitable_water_entire_atmosphere</th><th scope=col>relative_humidity_2m_above_ground</th><th scope=col>specific_humidity_2m_above_ground</th><th scope=col>temperature_2m_above_ground</th><th scope=col>u_component_of_wind_10m_above_ground</th><th scope=col>v_component_of_wind_10m_above_ground</th><th scope=col>L3_NO2_NO2_column_number_density</th><th scope=col>L3_NO2_NO2_slant_column_number_density</th><th scope=col>L3_NO2_absorbing_aerosol_index</th><th scope=col>⋯</th><th scope=col>L3_SO2_SO2_column_number_density_amf</th><th scope=col>L3_SO2_SO2_slant_column_number_density</th><th scope=col>L3_SO2_absorbing_aerosol_index</th><th scope=col>L3_SO2_cloud_fraction</th><th scope=col>L3_SO2_sensor_azimuth_angle</th><th scope=col>L3_SO2_sensor_zenith_angle</th><th scope=col>L3_SO2_solar_azimuth_angle</th><th scope=col>L3_SO2_solar_zenith_angle</th><th scope=col>month</th><th scope=col>day</th></tr>\n",
       "\t<tr><th></th><th scope=col>&lt;dbl&gt;</th><th scope=col>&lt;dbl&gt;</th><th scope=col>&lt;dbl&gt;</th><th scope=col>&lt;dbl&gt;</th><th scope=col>&lt;dbl&gt;</th><th scope=col>&lt;dbl&gt;</th><th scope=col>&lt;dbl&gt;</th><th scope=col>&lt;dbl&gt;</th><th scope=col>&lt;dbl&gt;</th><th scope=col>&lt;dbl&gt;</th><th scope=col>⋯</th><th scope=col>&lt;dbl&gt;</th><th scope=col>&lt;dbl&gt;</th><th scope=col>&lt;dbl&gt;</th><th scope=col>&lt;dbl&gt;</th><th scope=col>&lt;dbl&gt;</th><th scope=col>&lt;dbl&gt;</th><th scope=col>&lt;dbl&gt;</th><th scope=col>&lt;dbl&gt;</th><th scope=col>&lt;dbl&gt;</th><th scope=col>&lt;dbl&gt;</th></tr>\n",
       "</thead>\n",
       "<tbody>\n",
       "\t<tr><th scope=row>1</th><td>38</td><td>11.000000</td><td>60.2</td><td>0.00804</td><td>18.51684</td><td>1.996377</td><td>-1.227395</td><td>7.383038e-05</td><td>0.0001558203</td><td>-1.2313303</td><td>⋯</td><td>0.3125208</td><td>-4.046582e-05</td><td>-1.8614757</td><td>0.00000000</td><td>  76.53643</td><td>38.5930174</td><td>-61.75259</td><td>22.36366</td><td>1</td><td>2</td></tr>\n",
       "\t<tr><th scope=row>2</th><td>39</td><td>14.600000</td><td>48.8</td><td>0.00839</td><td>22.54653</td><td>3.330430</td><td>-1.188108</td><td>7.603261e-05</td><td>0.0001968663</td><td>-1.0825535</td><td>⋯</td><td>0.4339572</td><td> 5.021103e-05</td><td>-1.4526119</td><td>0.05943286</td><td> -14.70804</td><td>59.6249116</td><td>-67.69351</td><td>28.61480</td><td>1</td><td>3</td></tr>\n",
       "\t<tr><th scope=row>3</th><td>24</td><td>16.400000</td><td>33.4</td><td>0.00750</td><td>27.03103</td><td>5.065727</td><td> 3.500559</td><td>6.660776e-05</td><td>0.0001704180</td><td>-1.0012421</td><td>⋯</td><td>0.3569246</td><td> 5.294885e-05</td><td>-1.5729503</td><td>0.08206301</td><td>-105.20134</td><td>49.8397137</td><td>-78.34270</td><td>34.29698</td><td>1</td><td>4</td></tr>\n",
       "\t<tr><th scope=row>4</th><td>49</td><td> 6.911948</td><td>21.3</td><td>0.00391</td><td>23.97186</td><td>3.004001</td><td> 1.099468</td><td>8.258178e-05</td><td>0.0001748593</td><td>-0.7770191</td><td>⋯</td><td>0.5845225</td><td> 1.097052e-04</td><td>-1.2393168</td><td>0.12126134</td><td>-104.33407</td><td>29.1812580</td><td>-73.89659</td><td>30.54545</td><td>1</td><td>5</td></tr>\n",
       "\t<tr><th scope=row>5</th><td>21</td><td>13.900001</td><td>44.7</td><td>0.00535</td><td>16.81631</td><td>2.621787</td><td> 2.670559</td><td>7.038484e-05</td><td>0.0001415511</td><td> 0.3663234</td><td>⋯</td><td>0.4080472</td><td> 1.589104e-04</td><td> 0.2024888</td><td>0.03791943</td><td>  58.85018</td><td> 0.7972941</td><td>-68.61248</td><td>26.89969</td><td>1</td><td>6</td></tr>\n",
       "</tbody>\n",
       "</table>\n"
      ],
      "text/latex": [
       "A data.frame: 5 × 70\n",
       "\\begin{tabular}{r|lllllllllllllllllllll}\n",
       "  & target & precipitable\\_water\\_entire\\_atmosphere & relative\\_humidity\\_2m\\_above\\_ground & specific\\_humidity\\_2m\\_above\\_ground & temperature\\_2m\\_above\\_ground & u\\_component\\_of\\_wind\\_10m\\_above\\_ground & v\\_component\\_of\\_wind\\_10m\\_above\\_ground & L3\\_NO2\\_NO2\\_column\\_number\\_density & L3\\_NO2\\_NO2\\_slant\\_column\\_number\\_density & L3\\_NO2\\_absorbing\\_aerosol\\_index & ⋯ & L3\\_SO2\\_SO2\\_column\\_number\\_density\\_amf & L3\\_SO2\\_SO2\\_slant\\_column\\_number\\_density & L3\\_SO2\\_absorbing\\_aerosol\\_index & L3\\_SO2\\_cloud\\_fraction & L3\\_SO2\\_sensor\\_azimuth\\_angle & L3\\_SO2\\_sensor\\_zenith\\_angle & L3\\_SO2\\_solar\\_azimuth\\_angle & L3\\_SO2\\_solar\\_zenith\\_angle & month & day\\\\\n",
       "  & <dbl> & <dbl> & <dbl> & <dbl> & <dbl> & <dbl> & <dbl> & <dbl> & <dbl> & <dbl> & ⋯ & <dbl> & <dbl> & <dbl> & <dbl> & <dbl> & <dbl> & <dbl> & <dbl> & <dbl> & <dbl>\\\\\n",
       "\\hline\n",
       "\t1 & 38 & 11.000000 & 60.2 & 0.00804 & 18.51684 & 1.996377 & -1.227395 & 7.383038e-05 & 0.0001558203 & -1.2313303 & ⋯ & 0.3125208 & -4.046582e-05 & -1.8614757 & 0.00000000 &   76.53643 & 38.5930174 & -61.75259 & 22.36366 & 1 & 2\\\\\n",
       "\t2 & 39 & 14.600000 & 48.8 & 0.00839 & 22.54653 & 3.330430 & -1.188108 & 7.603261e-05 & 0.0001968663 & -1.0825535 & ⋯ & 0.4339572 &  5.021103e-05 & -1.4526119 & 0.05943286 &  -14.70804 & 59.6249116 & -67.69351 & 28.61480 & 1 & 3\\\\\n",
       "\t3 & 24 & 16.400000 & 33.4 & 0.00750 & 27.03103 & 5.065727 &  3.500559 & 6.660776e-05 & 0.0001704180 & -1.0012421 & ⋯ & 0.3569246 &  5.294885e-05 & -1.5729503 & 0.08206301 & -105.20134 & 49.8397137 & -78.34270 & 34.29698 & 1 & 4\\\\\n",
       "\t4 & 49 &  6.911948 & 21.3 & 0.00391 & 23.97186 & 3.004001 &  1.099468 & 8.258178e-05 & 0.0001748593 & -0.7770191 & ⋯ & 0.5845225 &  1.097052e-04 & -1.2393168 & 0.12126134 & -104.33407 & 29.1812580 & -73.89659 & 30.54545 & 1 & 5\\\\\n",
       "\t5 & 21 & 13.900001 & 44.7 & 0.00535 & 16.81631 & 2.621787 &  2.670559 & 7.038484e-05 & 0.0001415511 &  0.3663234 & ⋯ & 0.4080472 &  1.589104e-04 &  0.2024888 & 0.03791943 &   58.85018 &  0.7972941 & -68.61248 & 26.89969 & 1 & 6\\\\\n",
       "\\end{tabular}\n"
      ],
      "text/markdown": [
       "\n",
       "A data.frame: 5 × 70\n",
       "\n",
       "| <!--/--> | target &lt;dbl&gt; | precipitable_water_entire_atmosphere &lt;dbl&gt; | relative_humidity_2m_above_ground &lt;dbl&gt; | specific_humidity_2m_above_ground &lt;dbl&gt; | temperature_2m_above_ground &lt;dbl&gt; | u_component_of_wind_10m_above_ground &lt;dbl&gt; | v_component_of_wind_10m_above_ground &lt;dbl&gt; | L3_NO2_NO2_column_number_density &lt;dbl&gt; | L3_NO2_NO2_slant_column_number_density &lt;dbl&gt; | L3_NO2_absorbing_aerosol_index &lt;dbl&gt; | ⋯ ⋯ | L3_SO2_SO2_column_number_density_amf &lt;dbl&gt; | L3_SO2_SO2_slant_column_number_density &lt;dbl&gt; | L3_SO2_absorbing_aerosol_index &lt;dbl&gt; | L3_SO2_cloud_fraction &lt;dbl&gt; | L3_SO2_sensor_azimuth_angle &lt;dbl&gt; | L3_SO2_sensor_zenith_angle &lt;dbl&gt; | L3_SO2_solar_azimuth_angle &lt;dbl&gt; | L3_SO2_solar_zenith_angle &lt;dbl&gt; | month &lt;dbl&gt; | day &lt;dbl&gt; |\n",
       "|---|---|---|---|---|---|---|---|---|---|---|---|---|---|---|---|---|---|---|---|---|---|\n",
       "| 1 | 38 | 11.000000 | 60.2 | 0.00804 | 18.51684 | 1.996377 | -1.227395 | 7.383038e-05 | 0.0001558203 | -1.2313303 | ⋯ | 0.3125208 | -4.046582e-05 | -1.8614757 | 0.00000000 |   76.53643 | 38.5930174 | -61.75259 | 22.36366 | 1 | 2 |\n",
       "| 2 | 39 | 14.600000 | 48.8 | 0.00839 | 22.54653 | 3.330430 | -1.188108 | 7.603261e-05 | 0.0001968663 | -1.0825535 | ⋯ | 0.4339572 |  5.021103e-05 | -1.4526119 | 0.05943286 |  -14.70804 | 59.6249116 | -67.69351 | 28.61480 | 1 | 3 |\n",
       "| 3 | 24 | 16.400000 | 33.4 | 0.00750 | 27.03103 | 5.065727 |  3.500559 | 6.660776e-05 | 0.0001704180 | -1.0012421 | ⋯ | 0.3569246 |  5.294885e-05 | -1.5729503 | 0.08206301 | -105.20134 | 49.8397137 | -78.34270 | 34.29698 | 1 | 4 |\n",
       "| 4 | 49 |  6.911948 | 21.3 | 0.00391 | 23.97186 | 3.004001 |  1.099468 | 8.258178e-05 | 0.0001748593 | -0.7770191 | ⋯ | 0.5845225 |  1.097052e-04 | -1.2393168 | 0.12126134 | -104.33407 | 29.1812580 | -73.89659 | 30.54545 | 1 | 5 |\n",
       "| 5 | 21 | 13.900001 | 44.7 | 0.00535 | 16.81631 | 2.621787 |  2.670559 | 7.038484e-05 | 0.0001415511 |  0.3663234 | ⋯ | 0.4080472 |  1.589104e-04 |  0.2024888 | 0.03791943 |   58.85018 |  0.7972941 | -68.61248 | 26.89969 | 1 | 6 |\n",
       "\n"
      ],
      "text/plain": [
       "  target precipitable_water_entire_atmosphere relative_humidity_2m_above_ground\n",
       "1 38     11.000000                            60.2                             \n",
       "2 39     14.600000                            48.8                             \n",
       "3 24     16.400000                            33.4                             \n",
       "4 49      6.911948                            21.3                             \n",
       "5 21     13.900001                            44.7                             \n",
       "  specific_humidity_2m_above_ground temperature_2m_above_ground\n",
       "1 0.00804                           18.51684                   \n",
       "2 0.00839                           22.54653                   \n",
       "3 0.00750                           27.03103                   \n",
       "4 0.00391                           23.97186                   \n",
       "5 0.00535                           16.81631                   \n",
       "  u_component_of_wind_10m_above_ground v_component_of_wind_10m_above_ground\n",
       "1 1.996377                             -1.227395                           \n",
       "2 3.330430                             -1.188108                           \n",
       "3 5.065727                              3.500559                           \n",
       "4 3.004001                              1.099468                           \n",
       "5 2.621787                              2.670559                           \n",
       "  L3_NO2_NO2_column_number_density L3_NO2_NO2_slant_column_number_density\n",
       "1 7.383038e-05                     0.0001558203                          \n",
       "2 7.603261e-05                     0.0001968663                          \n",
       "3 6.660776e-05                     0.0001704180                          \n",
       "4 8.258178e-05                     0.0001748593                          \n",
       "5 7.038484e-05                     0.0001415511                          \n",
       "  L3_NO2_absorbing_aerosol_index ⋯ L3_SO2_SO2_column_number_density_amf\n",
       "1 -1.2313303                     ⋯ 0.3125208                           \n",
       "2 -1.0825535                     ⋯ 0.4339572                           \n",
       "3 -1.0012421                     ⋯ 0.3569246                           \n",
       "4 -0.7770191                     ⋯ 0.5845225                           \n",
       "5  0.3663234                     ⋯ 0.4080472                           \n",
       "  L3_SO2_SO2_slant_column_number_density L3_SO2_absorbing_aerosol_index\n",
       "1 -4.046582e-05                          -1.8614757                    \n",
       "2  5.021103e-05                          -1.4526119                    \n",
       "3  5.294885e-05                          -1.5729503                    \n",
       "4  1.097052e-04                          -1.2393168                    \n",
       "5  1.589104e-04                           0.2024888                    \n",
       "  L3_SO2_cloud_fraction L3_SO2_sensor_azimuth_angle L3_SO2_sensor_zenith_angle\n",
       "1 0.00000000              76.53643                  38.5930174                \n",
       "2 0.05943286             -14.70804                  59.6249116                \n",
       "3 0.08206301            -105.20134                  49.8397137                \n",
       "4 0.12126134            -104.33407                  29.1812580                \n",
       "5 0.03791943              58.85018                   0.7972941                \n",
       "  L3_SO2_solar_azimuth_angle L3_SO2_solar_zenith_angle month day\n",
       "1 -61.75259                  22.36366                  1     2  \n",
       "2 -67.69351                  28.61480                  1     3  \n",
       "3 -78.34270                  34.29698                  1     4  \n",
       "4 -73.89659                  30.54545                  1     5  \n",
       "5 -68.61248                  26.89969                  1     6  "
      ]
     },
     "metadata": {},
     "output_type": "display_data"
    }
   ],
   "source": [
    "data <- subset(data, select =-c(L3_CH4_solar_zenith_angle, L3_CH4_sensor_zenith_angle, L3_CH4_solar_azimuth_angle,\n",
    "  L3_CH4_sensor_azimuth_angle,L3_CH4_aerosol_optical_depth,L3_CH4_aerosol_height, L3_CH4_CH4_column_volume_mixing_ratio_dry_air))\n",
    "\n",
    "data[1:5,] # Check the first few rows of the data"
   ]
  },
  {
   "cell_type": "markdown",
   "metadata": {},
   "source": [
    "For the other columns, let's replace the NA values by the mean of each column."
   ]
  },
  {
   "cell_type": "code",
   "execution_count": 11,
   "metadata": {
    "vscode": {
     "languageId": "r"
    }
   },
   "outputs": [],
   "source": [
    "#Define the function to replace the missing values with the mean value\n",
    "replace_na_with_mean_value<-function(vec) {\n",
    "    mean_vec<-mean(vec,na.rm=T)\n",
    "    vec[is.na(vec)]<-mean_vec\n",
    "    vec\n",
    "}\n",
    "\n",
    "# Apply it\n",
    "data <- data.frame(apply(data, 2, replace_na_with_mean_value))"
   ]
  },
  {
   "cell_type": "markdown",
   "metadata": {},
   "source": [
    "Some colums seem to have few differences between rows. Let's observe them more carefully."
   ]
  },
  {
   "cell_type": "code",
   "execution_count": 12,
   "metadata": {
    "vscode": {
     "languageId": "r"
    }
   },
   "outputs": [
    {
     "data": {
      "text/html": [
       "9.03961924371753e-05"
      ],
      "text/latex": [
       "9.03961924371753e-05"
      ],
      "text/markdown": [
       "9.03961924371753e-05"
      ],
      "text/plain": [
       "[1] 9.039619e-05"
      ]
     },
     "metadata": {},
     "output_type": "display_data"
    },
    {
     "data": {
      "image/png": "[encoded data removed]",
      "text/plain": [
       "Plot with title “Histogram of data$L3_NO2_NO2_column_number_density”"
      ]
     },
     "metadata": {
      "image/png": {
       "height": 420,
       "width": 420
      }
     },
     "output_type": "display_data"
    }
   ],
   "source": [
    "sd(data$L3_NO2_NO2_column_number_density)\n",
    "hist(data$L3_NO2_NO2_column_number_density)"
   ]
  },
  {
   "cell_type": "markdown",
   "metadata": {
    "vscode": {
     "languageId": "r"
    }
   },
   "source": [
    "We can see that more than 25000 rows share the same value. This feature is therefore not really useful. Let's discard it."
   ]
  },
  {
   "cell_type": "code",
   "execution_count": 13,
   "metadata": {
    "vscode": {
     "languageId": "r"
    }
   },
   "outputs": [],
   "source": [
    "data <- subset(data, select = -c(L3_NO2_NO2_column_number_density))"
   ]
  },
  {
   "cell_type": "code",
   "execution_count": 14,
   "metadata": {
    "vscode": {
     "languageId": "r"
    }
   },
   "outputs": [
    {
     "data": {
      "text/html": [
       "0.00010456412977951"
      ],
      "text/latex": [
       "0.00010456412977951"
      ],
      "text/markdown": [
       "0.00010456412977951"
      ],
      "text/plain": [
       "[1] 0.0001045641"
      ]
     },
     "metadata": {},
     "output_type": "display_data"
    },
    {
     "data": {
      "image/png": "[encoded data removed]",
      "text/plain": [
       "Plot with title “Histogram of data$L3_NO2_NO2_slant_column_number_density”"
      ]
     },
     "metadata": {
      "image/png": {
       "height": 420,
       "width": 420
      }
     },
     "output_type": "display_data"
    }
   ],
   "source": [
    "sd(data$L3_NO2_NO2_slant_column_number_density)\n",
    "hist(data$L3_NO2_NO2_slant_column_number_density)"
   ]
  },
  {
   "cell_type": "code",
   "execution_count": 15,
   "metadata": {
    "vscode": {
     "languageId": "r"
    }
   },
   "outputs": [
    {
     "data": {
      "text/html": [
       "6.37515814255767e-05"
      ],
      "text/latex": [
       "6.37515814255767e-05"
      ],
      "text/markdown": [
       "6.37515814255767e-05"
      ],
      "text/plain": [
       "[1] 6.375158e-05"
      ]
     },
     "metadata": {},
     "output_type": "display_data"
    },
    {
     "data": {
      "image/png": "[encoded data removed]",
      "text/plain": [
       "Plot with title “Histogram of data$L3_NO2_tropospheric_NO2_column_number_density”"
      ]
     },
     "metadata": {
      "image/png": {
       "height": 420,
       "width": 420
      }
     },
     "output_type": "display_data"
    }
   ],
   "source": [
    "sd(data$L3_NO2_tropospheric_NO2_column_number_density)\n",
    "hist(data$L3_NO2_tropospheric_NO2_column_number_density)"
   ]
  },
  {
   "cell_type": "code",
   "execution_count": 16,
   "metadata": {
    "vscode": {
     "languageId": "r"
    }
   },
   "outputs": [
    {
     "data": {
      "text/html": [
       "6.67342035223423e-05"
      ],
      "text/latex": [
       "6.67342035223423e-05"
      ],
      "text/markdown": [
       "6.67342035223423e-05"
      ],
      "text/plain": [
       "[1] 6.67342e-05"
      ]
     },
     "metadata": {},
     "output_type": "display_data"
    },
    {
     "data": {
      "image/png": "[encoded data removed]",
      "text/plain": [
       "Plot with title “Histogram of data$L3_HCHO_HCHO_slant_column_number_density”"
      ]
     },
     "metadata": {
      "image/png": {
       "height": 420,
       "width": 420
      }
     },
     "output_type": "display_data"
    }
   ],
   "source": [
    "sd(data$L3_HCHO_HCHO_slant_column_number_density)\n",
    "hist(data$L3_HCHO_HCHO_slant_column_number_density)"
   ]
  },
  {
   "cell_type": "code",
   "execution_count": 17,
   "metadata": {
    "vscode": {
     "languageId": "r"
    }
   },
   "outputs": [
    {
     "data": {
      "text/html": [
       "8.17791626291967e-05"
      ],
      "text/latex": [
       "8.17791626291967e-05"
      ],
      "text/markdown": [
       "8.17791626291967e-05"
      ],
      "text/plain": [
       "[1] 8.177916e-05"
      ]
     },
     "metadata": {},
     "output_type": "display_data"
    },
    {
     "data": {
      "image/png": "[encoded data removed]",
      "text/plain": [
       "Plot with title “Histogram of data$L3_HCHO_tropospheric_HCHO_column_number_density”"
      ]
     },
     "metadata": {
      "image/png": {
       "height": 420,
       "width": 420
      }
     },
     "output_type": "display_data"
    }
   ],
   "source": [
    "sd(data$L3_HCHO_tropospheric_HCHO_column_number_density)\n",
    "hist(data$L3_HCHO_tropospheric_HCHO_column_number_density)"
   ]
  },
  {
   "cell_type": "code",
   "execution_count": 18,
   "metadata": {
    "vscode": {
     "languageId": "r"
    }
   },
   "outputs": [
    {
     "data": {
      "text/html": [
       "0.000785604830763953"
      ],
      "text/latex": [
       "0.000785604830763953"
      ],
      "text/markdown": [
       "0.000785604830763953"
      ],
      "text/plain": [
       "[1] 0.0007856048"
      ]
     },
     "metadata": {},
     "output_type": "display_data"
    },
    {
     "data": {
      "image/png": "[encoded data removed]",
      "text/plain": [
       "Plot with title “Histogram of data$L3_SO2_SO2_column_number_density”"
      ]
     },
     "metadata": {
      "image/png": {
       "height": 420,
       "width": 420
      }
     },
     "output_type": "display_data"
    }
   ],
   "source": [
    "sd(data$L3_SO2_SO2_column_number_density)\n",
    "hist(data$L3_SO2_SO2_column_number_density)"
   ]
  },
  {
   "cell_type": "code",
   "execution_count": 19,
   "metadata": {
    "vscode": {
     "languageId": "r"
    }
   },
   "outputs": [
    {
     "data": {
      "text/html": [
       "0.000146059506492009"
      ],
      "text/latex": [
       "0.000146059506492009"
      ],
      "text/markdown": [
       "0.000146059506492009"
      ],
      "text/plain": [
       "[1] 0.0001460595"
      ]
     },
     "metadata": {},
     "output_type": "display_data"
    },
    {
     "data": {
      "image/png": "[encoded data removed]",
      "text/plain": [
       "Plot with title “Histogram of data$L3_SO2_SO2_slant_column_number_density”"
      ]
     },
     "metadata": {
      "image/png": {
       "height": 420,
       "width": 420
      }
     },
     "output_type": "display_data"
    }
   ],
   "source": [
    "sd(data$L3_SO2_SO2_slant_column_number_density)\n",
    "hist(data$L3_SO2_SO2_slant_column_number_density)"
   ]
  },
  {
   "cell_type": "code",
   "execution_count": 20,
   "metadata": {
    "vscode": {
     "languageId": "r"
    }
   },
   "outputs": [
    {
     "data": {
      "text/html": [
       "33.1309396158437"
      ],
      "text/latex": [
       "33.1309396158437"
      ],
      "text/markdown": [
       "33.1309396158437"
      ],
      "text/plain": [
       "[1] 33.13094"
      ]
     },
     "metadata": {},
     "output_type": "display_data"
    },
    {
     "data": {
      "image/png": "[encoded data removed]",
      "text/plain": [
       "Plot with title “Histogram of data$L3_O3_O3_effective_temperature”"
      ]
     },
     "metadata": {
      "image/png": {
       "height": 420,
       "width": 420
      }
     },
     "output_type": "display_data"
    }
   ],
   "source": [
    "sd(data$L3_O3_O3_effective_temperature)\n",
    "hist(data$L3_O3_O3_effective_temperature)"
   ]
  },
  {
   "cell_type": "markdown",
   "metadata": {},
   "source": [
    "We can see that more than 25000 rows share the same value. This feature is therefore not really useful. Let's discard it."
   ]
  },
  {
   "cell_type": "code",
   "execution_count": 21,
   "metadata": {
    "vscode": {
     "languageId": "r"
    }
   },
   "outputs": [],
   "source": [
    "data <- subset(data, select = -c(L3_O3_O3_effective_temperature))"
   ]
  },
  {
   "cell_type": "code",
   "execution_count": 22,
   "metadata": {
    "vscode": {
     "languageId": "r"
    }
   },
   "outputs": [
    {
     "data": {
      "text/html": [
       "<table class=\"dataframe\">\n",
       "<caption>A data.frame: 6 × 68</caption>\n",
       "<thead>\n",
       "\t<tr><th></th><th scope=col>target</th><th scope=col>precipitable_water_entire_atmosphere</th><th scope=col>relative_humidity_2m_above_ground</th><th scope=col>specific_humidity_2m_above_ground</th><th scope=col>temperature_2m_above_ground</th><th scope=col>u_component_of_wind_10m_above_ground</th><th scope=col>v_component_of_wind_10m_above_ground</th><th scope=col>L3_NO2_NO2_slant_column_number_density</th><th scope=col>L3_NO2_absorbing_aerosol_index</th><th scope=col>L3_NO2_cloud_fraction</th><th scope=col>⋯</th><th scope=col>L3_SO2_SO2_column_number_density_amf</th><th scope=col>L3_SO2_SO2_slant_column_number_density</th><th scope=col>L3_SO2_absorbing_aerosol_index</th><th scope=col>L3_SO2_cloud_fraction</th><th scope=col>L3_SO2_sensor_azimuth_angle</th><th scope=col>L3_SO2_sensor_zenith_angle</th><th scope=col>L3_SO2_solar_azimuth_angle</th><th scope=col>L3_SO2_solar_zenith_angle</th><th scope=col>month</th><th scope=col>day</th></tr>\n",
       "\t<tr><th></th><th scope=col>&lt;dbl&gt;</th><th scope=col>&lt;dbl&gt;</th><th scope=col>&lt;dbl&gt;</th><th scope=col>&lt;dbl&gt;</th><th scope=col>&lt;dbl&gt;</th><th scope=col>&lt;dbl&gt;</th><th scope=col>&lt;dbl&gt;</th><th scope=col>&lt;dbl&gt;</th><th scope=col>&lt;dbl&gt;</th><th scope=col>&lt;dbl&gt;</th><th scope=col>⋯</th><th scope=col>&lt;dbl&gt;</th><th scope=col>&lt;dbl&gt;</th><th scope=col>&lt;dbl&gt;</th><th scope=col>&lt;dbl&gt;</th><th scope=col>&lt;dbl&gt;</th><th scope=col>&lt;dbl&gt;</th><th scope=col>&lt;dbl&gt;</th><th scope=col>&lt;dbl&gt;</th><th scope=col>&lt;dbl&gt;</th><th scope=col>&lt;dbl&gt;</th></tr>\n",
       "</thead>\n",
       "<tbody>\n",
       "\t<tr><th scope=row>1</th><td>38</td><td>11.000000</td><td>60.2</td><td>0.00804000</td><td>18.51684</td><td>1.996377</td><td>-1.2273949</td><td>0.0001558203</td><td>-1.2313303</td><td>0.006506796</td><td>⋯</td><td>0.3125208</td><td>-4.046582e-05</td><td>-1.8614757</td><td>0.00000000</td><td>  76.53643</td><td>38.5930174</td><td>-61.75259</td><td>22.36366</td><td>1</td><td>2</td></tr>\n",
       "\t<tr><th scope=row>2</th><td>39</td><td>14.600000</td><td>48.8</td><td>0.00839000</td><td>22.54653</td><td>3.330430</td><td>-1.1881078</td><td>0.0001968663</td><td>-1.0825535</td><td>0.018360030</td><td>⋯</td><td>0.4339572</td><td> 5.021103e-05</td><td>-1.4526119</td><td>0.05943286</td><td> -14.70804</td><td>59.6249116</td><td>-67.69351</td><td>28.61480</td><td>1</td><td>3</td></tr>\n",
       "\t<tr><th scope=row>3</th><td>24</td><td>16.400000</td><td>33.4</td><td>0.00750000</td><td>27.03103</td><td>5.065727</td><td> 3.5005591</td><td>0.0001704180</td><td>-1.0012421</td><td>0.015903901</td><td>⋯</td><td>0.3569246</td><td> 5.294885e-05</td><td>-1.5729503</td><td>0.08206301</td><td>-105.20134</td><td>49.8397137</td><td>-78.34270</td><td>34.29698</td><td>1</td><td>4</td></tr>\n",
       "\t<tr><th scope=row>4</th><td>49</td><td> 6.911948</td><td>21.3</td><td>0.00391000</td><td>23.97186</td><td>3.004001</td><td> 1.0994678</td><td>0.0001748593</td><td>-0.7770191</td><td>0.055765467</td><td>⋯</td><td>0.5845225</td><td> 1.097052e-04</td><td>-1.2393168</td><td>0.12126134</td><td>-104.33407</td><td>29.1812580</td><td>-73.89659</td><td>30.54545</td><td>1</td><td>5</td></tr>\n",
       "\t<tr><th scope=row>5</th><td>21</td><td>13.900001</td><td>44.7</td><td>0.00535000</td><td>16.81631</td><td>2.621787</td><td> 2.6705589</td><td>0.0001415511</td><td> 0.3663234</td><td>0.028529577</td><td>⋯</td><td>0.4080472</td><td> 1.589104e-04</td><td> 0.2024888</td><td>0.03791943</td><td>  58.85018</td><td> 0.7972941</td><td>-68.61248</td><td>26.89969</td><td>1</td><td>6</td></tr>\n",
       "\t<tr><th scope=row>6</th><td>28</td><td>14.600000</td><td>42.2</td><td>0.00586156</td><td>19.17489</td><td>2.955603</td><td> 0.9690747</td><td>0.0001455166</td><td>-0.7253287</td><td>0.070249175</td><td>⋯</td><td>0.4411911</td><td> 8.251524e-06</td><td>-0.9878199</td><td>0.06383604</td><td>  76.38766</td><td>30.6051757</td><td>-62.13426</td><td>23.41999</td><td>1</td><td>7</td></tr>\n",
       "</tbody>\n",
       "</table>\n"
      ],
      "text/latex": [
       "A data.frame: 6 × 68\n",
       "\\begin{tabular}{r|lllllllllllllllllllll}\n",
       "  & target & precipitable\\_water\\_entire\\_atmosphere & relative\\_humidity\\_2m\\_above\\_ground & specific\\_humidity\\_2m\\_above\\_ground & temperature\\_2m\\_above\\_ground & u\\_component\\_of\\_wind\\_10m\\_above\\_ground & v\\_component\\_of\\_wind\\_10m\\_above\\_ground & L3\\_NO2\\_NO2\\_slant\\_column\\_number\\_density & L3\\_NO2\\_absorbing\\_aerosol\\_index & L3\\_NO2\\_cloud\\_fraction & ⋯ & L3\\_SO2\\_SO2\\_column\\_number\\_density\\_amf & L3\\_SO2\\_SO2\\_slant\\_column\\_number\\_density & L3\\_SO2\\_absorbing\\_aerosol\\_index & L3\\_SO2\\_cloud\\_fraction & L3\\_SO2\\_sensor\\_azimuth\\_angle & L3\\_SO2\\_sensor\\_zenith\\_angle & L3\\_SO2\\_solar\\_azimuth\\_angle & L3\\_SO2\\_solar\\_zenith\\_angle & month & day\\\\\n",
       "  & <dbl> & <dbl> & <dbl> & <dbl> & <dbl> & <dbl> & <dbl> & <dbl> & <dbl> & <dbl> & ⋯ & <dbl> & <dbl> & <dbl> & <dbl> & <dbl> & <dbl> & <dbl> & <dbl> & <dbl> & <dbl>\\\\\n",
       "\\hline\n",
       "\t1 & 38 & 11.000000 & 60.2 & 0.00804000 & 18.51684 & 1.996377 & -1.2273949 & 0.0001558203 & -1.2313303 & 0.006506796 & ⋯ & 0.3125208 & -4.046582e-05 & -1.8614757 & 0.00000000 &   76.53643 & 38.5930174 & -61.75259 & 22.36366 & 1 & 2\\\\\n",
       "\t2 & 39 & 14.600000 & 48.8 & 0.00839000 & 22.54653 & 3.330430 & -1.1881078 & 0.0001968663 & -1.0825535 & 0.018360030 & ⋯ & 0.4339572 &  5.021103e-05 & -1.4526119 & 0.05943286 &  -14.70804 & 59.6249116 & -67.69351 & 28.61480 & 1 & 3\\\\\n",
       "\t3 & 24 & 16.400000 & 33.4 & 0.00750000 & 27.03103 & 5.065727 &  3.5005591 & 0.0001704180 & -1.0012421 & 0.015903901 & ⋯ & 0.3569246 &  5.294885e-05 & -1.5729503 & 0.08206301 & -105.20134 & 49.8397137 & -78.34270 & 34.29698 & 1 & 4\\\\\n",
       "\t4 & 49 &  6.911948 & 21.3 & 0.00391000 & 23.97186 & 3.004001 &  1.0994678 & 0.0001748593 & -0.7770191 & 0.055765467 & ⋯ & 0.5845225 &  1.097052e-04 & -1.2393168 & 0.12126134 & -104.33407 & 29.1812580 & -73.89659 & 30.54545 & 1 & 5\\\\\n",
       "\t5 & 21 & 13.900001 & 44.7 & 0.00535000 & 16.81631 & 2.621787 &  2.6705589 & 0.0001415511 &  0.3663234 & 0.028529577 & ⋯ & 0.4080472 &  1.589104e-04 &  0.2024888 & 0.03791943 &   58.85018 &  0.7972941 & -68.61248 & 26.89969 & 1 & 6\\\\\n",
       "\t6 & 28 & 14.600000 & 42.2 & 0.00586156 & 19.17489 & 2.955603 &  0.9690747 & 0.0001455166 & -0.7253287 & 0.070249175 & ⋯ & 0.4411911 &  8.251524e-06 & -0.9878199 & 0.06383604 &   76.38766 & 30.6051757 & -62.13426 & 23.41999 & 1 & 7\\\\\n",
       "\\end{tabular}\n"
      ],
      "text/markdown": [
       "\n",
       "A data.frame: 6 × 68\n",
       "\n",
       "| <!--/--> | target &lt;dbl&gt; | precipitable_water_entire_atmosphere &lt;dbl&gt; | relative_humidity_2m_above_ground &lt;dbl&gt; | specific_humidity_2m_above_ground &lt;dbl&gt; | temperature_2m_above_ground &lt;dbl&gt; | u_component_of_wind_10m_above_ground &lt;dbl&gt; | v_component_of_wind_10m_above_ground &lt;dbl&gt; | L3_NO2_NO2_slant_column_number_density &lt;dbl&gt; | L3_NO2_absorbing_aerosol_index &lt;dbl&gt; | L3_NO2_cloud_fraction &lt;dbl&gt; | ⋯ ⋯ | L3_SO2_SO2_column_number_density_amf &lt;dbl&gt; | L3_SO2_SO2_slant_column_number_density &lt;dbl&gt; | L3_SO2_absorbing_aerosol_index &lt;dbl&gt; | L3_SO2_cloud_fraction &lt;dbl&gt; | L3_SO2_sensor_azimuth_angle &lt;dbl&gt; | L3_SO2_sensor_zenith_angle &lt;dbl&gt; | L3_SO2_solar_azimuth_angle &lt;dbl&gt; | L3_SO2_solar_zenith_angle &lt;dbl&gt; | month &lt;dbl&gt; | day &lt;dbl&gt; |\n",
       "|---|---|---|---|---|---|---|---|---|---|---|---|---|---|---|---|---|---|---|---|---|---|\n",
       "| 1 | 38 | 11.000000 | 60.2 | 0.00804000 | 18.51684 | 1.996377 | -1.2273949 | 0.0001558203 | -1.2313303 | 0.006506796 | ⋯ | 0.3125208 | -4.046582e-05 | -1.8614757 | 0.00000000 |   76.53643 | 38.5930174 | -61.75259 | 22.36366 | 1 | 2 |\n",
       "| 2 | 39 | 14.600000 | 48.8 | 0.00839000 | 22.54653 | 3.330430 | -1.1881078 | 0.0001968663 | -1.0825535 | 0.018360030 | ⋯ | 0.4339572 |  5.021103e-05 | -1.4526119 | 0.05943286 |  -14.70804 | 59.6249116 | -67.69351 | 28.61480 | 1 | 3 |\n",
       "| 3 | 24 | 16.400000 | 33.4 | 0.00750000 | 27.03103 | 5.065727 |  3.5005591 | 0.0001704180 | -1.0012421 | 0.015903901 | ⋯ | 0.3569246 |  5.294885e-05 | -1.5729503 | 0.08206301 | -105.20134 | 49.8397137 | -78.34270 | 34.29698 | 1 | 4 |\n",
       "| 4 | 49 |  6.911948 | 21.3 | 0.00391000 | 23.97186 | 3.004001 |  1.0994678 | 0.0001748593 | -0.7770191 | 0.055765467 | ⋯ | 0.5845225 |  1.097052e-04 | -1.2393168 | 0.12126134 | -104.33407 | 29.1812580 | -73.89659 | 30.54545 | 1 | 5 |\n",
       "| 5 | 21 | 13.900001 | 44.7 | 0.00535000 | 16.81631 | 2.621787 |  2.6705589 | 0.0001415511 |  0.3663234 | 0.028529577 | ⋯ | 0.4080472 |  1.589104e-04 |  0.2024888 | 0.03791943 |   58.85018 |  0.7972941 | -68.61248 | 26.89969 | 1 | 6 |\n",
       "| 6 | 28 | 14.600000 | 42.2 | 0.00586156 | 19.17489 | 2.955603 |  0.9690747 | 0.0001455166 | -0.7253287 | 0.070249175 | ⋯ | 0.4411911 |  8.251524e-06 | -0.9878199 | 0.06383604 |   76.38766 | 30.6051757 | -62.13426 | 23.41999 | 1 | 7 |\n",
       "\n"
      ],
      "text/plain": [
       "  target precipitable_water_entire_atmosphere relative_humidity_2m_above_ground\n",
       "1 38     11.000000                            60.2                             \n",
       "2 39     14.600000                            48.8                             \n",
       "3 24     16.400000                            33.4                             \n",
       "4 49      6.911948                            21.3                             \n",
       "5 21     13.900001                            44.7                             \n",
       "6 28     14.600000                            42.2                             \n",
       "  specific_humidity_2m_above_ground temperature_2m_above_ground\n",
       "1 0.00804000                        18.51684                   \n",
       "2 0.00839000                        22.54653                   \n",
       "3 0.00750000                        27.03103                   \n",
       "4 0.00391000                        23.97186                   \n",
       "5 0.00535000                        16.81631                   \n",
       "6 0.00586156                        19.17489                   \n",
       "  u_component_of_wind_10m_above_ground v_component_of_wind_10m_above_ground\n",
       "1 1.996377                             -1.2273949                          \n",
       "2 3.330430                             -1.1881078                          \n",
       "3 5.065727                              3.5005591                          \n",
       "4 3.004001                              1.0994678                          \n",
       "5 2.621787                              2.6705589                          \n",
       "6 2.955603                              0.9690747                          \n",
       "  L3_NO2_NO2_slant_column_number_density L3_NO2_absorbing_aerosol_index\n",
       "1 0.0001558203                           -1.2313303                    \n",
       "2 0.0001968663                           -1.0825535                    \n",
       "3 0.0001704180                           -1.0012421                    \n",
       "4 0.0001748593                           -0.7770191                    \n",
       "5 0.0001415511                            0.3663234                    \n",
       "6 0.0001455166                           -0.7253287                    \n",
       "  L3_NO2_cloud_fraction ⋯ L3_SO2_SO2_column_number_density_amf\n",
       "1 0.006506796           ⋯ 0.3125208                           \n",
       "2 0.018360030           ⋯ 0.4339572                           \n",
       "3 0.015903901           ⋯ 0.3569246                           \n",
       "4 0.055765467           ⋯ 0.5845225                           \n",
       "5 0.028529577           ⋯ 0.4080472                           \n",
       "6 0.070249175           ⋯ 0.4411911                           \n",
       "  L3_SO2_SO2_slant_column_number_density L3_SO2_absorbing_aerosol_index\n",
       "1 -4.046582e-05                          -1.8614757                    \n",
       "2  5.021103e-05                          -1.4526119                    \n",
       "3  5.294885e-05                          -1.5729503                    \n",
       "4  1.097052e-04                          -1.2393168                    \n",
       "5  1.589104e-04                           0.2024888                    \n",
       "6  8.251524e-06                          -0.9878199                    \n",
       "  L3_SO2_cloud_fraction L3_SO2_sensor_azimuth_angle L3_SO2_sensor_zenith_angle\n",
       "1 0.00000000              76.53643                  38.5930174                \n",
       "2 0.05943286             -14.70804                  59.6249116                \n",
       "3 0.08206301            -105.20134                  49.8397137                \n",
       "4 0.12126134            -104.33407                  29.1812580                \n",
       "5 0.03791943              58.85018                   0.7972941                \n",
       "6 0.06383604              76.38766                  30.6051757                \n",
       "  L3_SO2_solar_azimuth_angle L3_SO2_solar_zenith_angle month day\n",
       "1 -61.75259                  22.36366                  1     2  \n",
       "2 -67.69351                  28.61480                  1     3  \n",
       "3 -78.34270                  34.29698                  1     4  \n",
       "4 -73.89659                  30.54545                  1     5  \n",
       "5 -68.61248                  26.89969                  1     6  \n",
       "6 -62.13426                  23.41999                  1     7  "
      ]
     },
     "metadata": {},
     "output_type": "display_data"
    }
   ],
   "source": [
    "#Visualize the few first rows of the data\n",
    "head(data)"
   ]
  },
  {
   "cell_type": "markdown",
   "metadata": {},
   "source": [
    "To break the temporal dependance of the data, we shuffle the train dataset."
   ]
  },
  {
   "cell_type": "code",
   "execution_count": 23,
   "metadata": {
    "vscode": {
     "languageId": "r"
    }
   },
   "outputs": [],
   "source": [
    "\n",
    "data <- data[sample(nrow(data)),]"
   ]
  },
  {
   "cell_type": "markdown",
   "metadata": {},
   "source": [
    "Let's split the dataset in X (input) and Y (target)."
   ]
  },
  {
   "cell_type": "code",
   "execution_count": 24,
   "metadata": {
    "vscode": {
     "languageId": "r"
    }
   },
   "outputs": [],
   "source": [
    "# Build useful data to simplify the code\n",
    "X <- data\n",
    "\n",
    "X <- subset(X, select=-c(target))\n",
    "\n",
    "Y <- data[, \"target\"]\n",
    "\n",
    "N <- nrow(X)   \n",
    "\n",
    "n <- ncol(X)"
   ]
  },
  {
   "cell_type": "markdown",
   "metadata": {},
   "source": [
    "#### Apply the mimimum-Redundancy Maximum-Relevancy (mRMR) feature selection strategy"
   ]
  },
  {
   "cell_type": "markdown",
   "metadata": {},
   "source": [
    "Let's rank the features with the mRMR algorithm to select the more useful columns."
   ]
  },
  {
   "cell_type": "code",
   "execution_count": 25,
   "metadata": {
    "vscode": {
     "languageId": "r"
    }
   },
   "outputs": [
    {
     "name": "stdout",
     "output_type": "stream",
     "text": [
      " [1] \"#Features:  1  ; CV error= 1939.0358  ; std dev= 110.2381\" \n",
      " [2] \"#Features:  2  ; CV error= 1819.2093  ; std dev= 106.2054\" \n",
      " [3] \"#Features:  3  ; CV error= 1712.5919  ; std dev= 103.5536\" \n",
      " [4] \"#Features:  4  ; CV error= 1628.2875  ; std dev= 97.9821\"  \n",
      " [5] \"#Features:  5  ; CV error= 1601.855  ; std dev= 96.444\"    \n",
      " [6] \"#Features:  6  ; CV error= 1588.0527  ; std dev= 97.7078\"  \n",
      " [7] \"#Features:  7  ; CV error= 1580.7279  ; std dev= 95.1705\"  \n",
      " [8] \"#Features:  8  ; CV error= 1572.037  ; std dev= 94.8491\"   \n",
      " [9] \"#Features:  9  ; CV error= 1570.7301  ; std dev= 95.1934\"  \n",
      "[10] \"#Features:  10  ; CV error= 1568.0615  ; std dev= 96.5391\" \n",
      "[11] \"#Features:  11  ; CV error= 1561.3474  ; std dev= 98.3671\" \n",
      "[12] \"#Features:  12  ; CV error= 1560.7958  ; std dev= 97.9756\" \n",
      "[13] \"#Features:  13  ; CV error= 1560.9832  ; std dev= 98.333\"  \n",
      "[14] \"#Features:  14  ; CV error= 1560.92  ; std dev= 98.9762\"   \n",
      "[15] \"#Features:  15  ; CV error= 1558.8904  ; std dev= 98.7531\" \n",
      "[16] \"#Features:  16  ; CV error= 1539.7586  ; std dev= 96.9837\" \n",
      "[17] \"#Features:  17  ; CV error= 1537.7891  ; std dev= 98.7275\" \n",
      "[18] \"#Features:  18  ; CV error= 1534.713  ; std dev= 97.6618\"  \n",
      "[19] \"#Features:  19  ; CV error= 1524.6347  ; std dev= 95.8989\" \n",
      "[20] \"#Features:  20  ; CV error= 1522.2333  ; std dev= 97.0949\" \n",
      "[21] \"#Features:  21  ; CV error= 1515.9714  ; std dev= 94.8413\" \n",
      "[22] \"#Features:  22  ; CV error= 1506.4825  ; std dev= 95.3254\" \n",
      "[23] \"#Features:  23  ; CV error= 1496.0661  ; std dev= 98.094\"  \n",
      "[24] \"#Features:  24  ; CV error= 1495.4219  ; std dev= 97.2412\" \n",
      "[25] \"#Features:  25  ; CV error= 1495.4767  ; std dev= 97.2301\" \n",
      "[26] \"#Features:  26  ; CV error= 1486.542  ; std dev= 96.9882\"  \n",
      "[27] \"#Features:  27  ; CV error= 1483.7001  ; std dev= 97.455\"  \n",
      "[28] \"#Features:  28  ; CV error= 1482.1366  ; std dev= 96.1136\" \n",
      "[29] \"#Features:  29  ; CV error= 1467.8155  ; std dev= 98.0508\" \n",
      "[30] \"#Features:  30  ; CV error= 1465.5051  ; std dev= 97.3237\" \n",
      "[31] \"#Features:  31  ; CV error= 1463.7051  ; std dev= 97.5889\" \n",
      "[32] \"#Features:  32  ; CV error= 1463.5507  ; std dev= 97.8797\" \n",
      "[33] \"#Features:  33  ; CV error= 1463.4831  ; std dev= 97.9098\" \n",
      "[34] \"#Features:  34  ; CV error= 1452.2651  ; std dev= 99.034\"  \n",
      "[35] \"#Features:  35  ; CV error= 1448.4265  ; std dev= 100.3947\"\n",
      "[36] \"#Features:  36  ; CV error= 1446.1581  ; std dev= 101.1434\"\n",
      "[37] \"#Features:  37  ; CV error= 1426.8858  ; std dev= 102.9269\"\n",
      "[38] \"#Features:  38  ; CV error= 1426.7471  ; std dev= 102.6814\"\n",
      "[39] \"#Features:  39  ; CV error= 1426.8371  ; std dev= 102.6036\"\n",
      "[40] \"#Features:  40  ; CV error= 1421.9325  ; std dev= 101.9785\"\n",
      "[41] \"#Features:  41  ; CV error= 1421.7138  ; std dev= 101.9567\"\n",
      "[42] \"#Features:  42  ; CV error= 1421.1769  ; std dev= 102.1895\"\n",
      "[43] \"#Features:  43  ; CV error= 1420.9273  ; std dev= 102.3932\"\n",
      "[44] \"#Features:  44  ; CV error= 1420.7981  ; std dev= 102.3042\"\n",
      "[45] \"#Features:  45  ; CV error= 1420.9019  ; std dev= 102.2406\"\n",
      "[46] \"#Features:  46  ; CV error= 1390.5328  ; std dev= 107.7845\"\n",
      "[47] \"#Features:  47  ; CV error= 1390.6037  ; std dev= 107.7234\"\n",
      "[48] \"#Features:  48  ; CV error= 1387.5303  ; std dev= 107.7356\"\n",
      "[49] \"#Features:  49  ; CV error= 1387.2153  ; std dev= 107.7746\"\n",
      "[50] \"#Features:  50  ; CV error= 1386.5827  ; std dev= 108.1344\"\n",
      "[51] \"#Features:  51  ; CV error= 1386.185  ; std dev= 107.3418\" \n",
      "[52] \"#Features:  52  ; CV error= 1383.8275  ; std dev= 106.5617\"\n",
      "[53] \"#Features:  53  ; CV error= 1384.0006  ; std dev= 106.4197\"\n",
      "[54] \"#Features:  54  ; CV error= 1382.33  ; std dev= 105.7501\"  \n",
      "[55] \"#Features:  55  ; CV error= 1382.272  ; std dev= 105.6869\" \n",
      "[56] \"#Features:  56  ; CV error= 1381.4415  ; std dev= 104.6625\"\n",
      "[57] \"#Features:  57  ; CV error= 1380.0856  ; std dev= 105.4859\"\n",
      "[58] \"#Features:  58  ; CV error= 1377.9259  ; std dev= 105.9836\"\n",
      "[59] \"#Features:  59  ; CV error= 1377.9683  ; std dev= 106.1072\"\n",
      "[60] \"#Features:  60  ; CV error= 1377.795  ; std dev= 105.8358\" \n",
      "[61] \"#Features:  61  ; CV error= 1377.8345  ; std dev= 105.7874\"\n",
      "[62] \"#Features:  62  ; CV error= 1377.2001  ; std dev= 105.963\" \n",
      "[63] \"#Features:  63  ; CV error= 1376.9875  ; std dev= 105.76\"  \n",
      "[64] \"#Features:  64  ; CV error= 1370.7556  ; std dev= 105.299\" \n",
      "[65] \"#Features:  65  ; CV error= 1370.7086  ; std dev= 105.3293\"\n",
      "[66] \"#Features:  66  ; CV error= 1370.5086  ; std dev= 105.3192\"\n",
      "[67] \"#Features:  67  ; CV error= 1370.5845  ; std dev= 105.2846\"\n"
     ]
    }
   ],
   "source": [
    "CV_folds <- 10\n",
    "\n",
    "size_CV <-floor(N/CV_folds)\n",
    "\n",
    "CV_err<-matrix(0,nrow=n,ncol=CV_folds)\n",
    "\n",
    "for (i in 1:CV_folds) {\n",
    "    \n",
    "    idx_ts<-(((i-1)*size_CV+1):(i*size_CV))  ### idx_ts represents the indices of the test set the i-th fold\n",
    "    X_ts<-X[idx_ts,]  \n",
    "    Y_ts<-Y[idx_ts]  \n",
    "     \n",
    "    idx_tr<-setdiff(1:N,idx_ts) ### idx_tr represents  indices of the training sefor the i-th fold\n",
    "    X_tr<-X[idx_tr,]\n",
    "    Y_tr<-Y[idx_tr]                          \n",
    "    \n",
    "    # Computing the mutual_info between input variables and output variable on the training set\n",
    "    mutual_info <- -0.5 * log(1 - cor(X_tr,Y_tr)^2)\n",
    "    \n",
    "    # Initialization : No variables are selected and all the variables are candidates\n",
    "    selected<-c()\n",
    "    candidates<-1:n\n",
    "    \n",
    "    #mRMR ranks the variables by taking account not only the mutual_info with the output, but also by avoiding redudant variables\n",
    "    for (j in 1:n) {\n",
    "        redundancy_score<-numeric(length(candidates))\n",
    "        \n",
    "        if (length(selected)>0) {\n",
    "            # Compute the mutual_info between the selected variables and the candidates on the training set\n",
    "            mutual_info_selected_candidates <- -0.5 * log(1 - cor(X_tr[,selected,drop=F],X_tr[,candidates,drop=F])^2)\n",
    "            # Compute the mean mutual_info for each candidate variable, across the selected variables\n",
    "            redundancy_score<-apply(mutual_info_selected_candidates,2,mean)\n",
    "        }\n",
    "        \n",
    "        # mRMR: minimum Redundancy Maximum Relevancy\n",
    "        mRMR_score<-mutual_info[candidates]-redundancy_score\n",
    "        \n",
    "        # Select the candidate variable that maximises the mRMR score\n",
    "        selected_current<-candidates[which.max(mRMR_score)]\n",
    "        selected<-c(selected,selected_current)\n",
    "        \n",
    "        # Remove the selected variables from the candidates\n",
    "        candidates<-setdiff(candidates,selected_current)\n",
    "    }\n",
    "    \n",
    "    ranking <- selected\n",
    "     \n",
    "    for (nb_features in 1:n) {\n",
    "        # Create a dataset including only the first nb_features selected variables\n",
    "        DS<-cbind(X_tr[,ranking[1:nb_features],drop=F],target=Y_tr)\n",
    "        \n",
    "        # Model fit (using lm function)\n",
    "        model<- lm(target~.,data = DS)\n",
    "        \n",
    "        # Model prediction\n",
    "        Y_hat_ts<- predict(model,X_ts[,ranking[1:nb_features],drop=F])\n",
    "        \n",
    "        # Cross-validation error = MSE\n",
    "        CV_err[nb_features,i]<-mean((Y_hat_ts-Y_ts)^2)\n",
    "    }\n",
    "}  \n",
    "\n",
    "print(paste(\"#Features: \",c(1:n),\" ; CV error=\",round(apply(CV_err,1,mean),digits=4), \" ; std dev=\",round(apply(CV_err,1,sd),digits=4)))"
   ]
  },
  {
   "cell_type": "markdown",
   "metadata": {},
   "source": [
    "Let's observe the evolution of the CV error per feature."
   ]
  },
  {
   "cell_type": "code",
   "execution_count": 26,
   "metadata": {
    "vscode": {
     "languageId": "r"
    }
   },
   "outputs": [
    {
     "data": {
      "image/png": "[encoded data removed]",
      "text/plain": [
       "Plot with title “Evolution of the missprediction according to the number of features”"
      ]
     },
     "metadata": {
      "image/png": {
       "height": 420,
       "width": 420
      }
     },
     "output_type": "display_data"
    }
   ],
   "source": [
    "# Create a vector of integers from 1 to n, and assign it to the variable x_axis\n",
    "x_axis <- c(1:n)\n",
    "\n",
    "# Apply the mean function to each row of the CV_err matrix, round the result to 4 decimal places, and assign it to the variable CV_err_mean\n",
    "CV_err_mean <- round(apply(CV_err,1,mean),digits=4)\n",
    "\n",
    "# Plot the mean cross-validation error against the number of features\n",
    "plot(x_axis,\n",
    "CV_err_mean,\n",
    "    type = \"l\", # Specify the type of plot as line plot\n",
    "    xlab = \"Number of Features\", # Label for the x-axis\n",
    "    ylab = \"CV Error\", # Label for the y-axis\n",
    "    main = \"Evolution of the missprediction according to the number of features\") # Title of the plot"
   ]
  },
  {
   "cell_type": "code",
   "execution_count": 27,
   "metadata": {
    "vscode": {
     "languageId": "r"
    }
   },
   "outputs": [
    {
     "data": {
      "text/html": [
       "<style>\n",
       ".list-inline {list-style: none; margin:0; padding: 0}\n",
       ".list-inline>li {display: inline-block}\n",
       ".list-inline>li:not(:last-child)::after {content: \"\\00b7\"; padding: 0 .5ex}\n",
       "</style>\n",
       "<ol class=list-inline><li>24</li><li>7</li><li>38</li><li>52</li><li>60</li><li>5</li><li>43</li><li>66</li><li>45</li><li>59</li><li>55</li><li>67</li><li>11</li><li>2</li><li>6</li><li>39</li><li>26</li><li>17</li><li>29</li><li>32</li><li>50</li><li>18</li><li>64</li><li>15</li><li>9</li><li>25</li><li>51</li><li>58</li><li>33</li><li>30</li><li>27</li><li>57</li><li>34</li><li>1</li><li>13</li><li>12</li><li>56</li><li>8</li><li>42</li><li>16</li><li>28</li><li>40</li><li>36</li><li>35</li><li>10</li><li>4</li><li>61</li><li>65</li><li>53</li><li>22</li><li>54</li><li>3</li><li>19</li><li>31</li><li>62</li><li>14</li><li>21</li><li>41</li><li>48</li><li>63</li><li>37</li><li>20</li><li>23</li><li>44</li><li>47</li><li>49</li><li>46</li></ol>\n"
      ],
      "text/latex": [
       "\\begin{enumerate*}\n",
       "\\item 24\n",
       "\\item 7\n",
       "\\item 38\n",
       "\\item 52\n",
       "\\item 60\n",
       "\\item 5\n",
       "\\item 43\n",
       "\\item 66\n",
       "\\item 45\n",
       "\\item 59\n",
       "\\item 55\n",
       "\\item 67\n",
       "\\item 11\n",
       "\\item 2\n",
       "\\item 6\n",
       "\\item 39\n",
       "\\item 26\n",
       "\\item 17\n",
       "\\item 29\n",
       "\\item 32\n",
       "\\item 50\n",
       "\\item 18\n",
       "\\item 64\n",
       "\\item 15\n",
       "\\item 9\n",
       "\\item 25\n",
       "\\item 51\n",
       "\\item 58\n",
       "\\item 33\n",
       "\\item 30\n",
       "\\item 27\n",
       "\\item 57\n",
       "\\item 34\n",
       "\\item 1\n",
       "\\item 13\n",
       "\\item 12\n",
       "\\item 56\n",
       "\\item 8\n",
       "\\item 42\n",
       "\\item 16\n",
       "\\item 28\n",
       "\\item 40\n",
       "\\item 36\n",
       "\\item 35\n",
       "\\item 10\n",
       "\\item 4\n",
       "\\item 61\n",
       "\\item 65\n",
       "\\item 53\n",
       "\\item 22\n",
       "\\item 54\n",
       "\\item 3\n",
       "\\item 19\n",
       "\\item 31\n",
       "\\item 62\n",
       "\\item 14\n",
       "\\item 21\n",
       "\\item 41\n",
       "\\item 48\n",
       "\\item 63\n",
       "\\item 37\n",
       "\\item 20\n",
       "\\item 23\n",
       "\\item 44\n",
       "\\item 47\n",
       "\\item 49\n",
       "\\item 46\n",
       "\\end{enumerate*}\n"
      ],
      "text/markdown": [
       "1. 24\n",
       "2. 7\n",
       "3. 38\n",
       "4. 52\n",
       "5. 60\n",
       "6. 5\n",
       "7. 43\n",
       "8. 66\n",
       "9. 45\n",
       "10. 59\n",
       "11. 55\n",
       "12. 67\n",
       "13. 11\n",
       "14. 2\n",
       "15. 6\n",
       "16. 39\n",
       "17. 26\n",
       "18. 17\n",
       "19. 29\n",
       "20. 32\n",
       "21. 50\n",
       "22. 18\n",
       "23. 64\n",
       "24. 15\n",
       "25. 9\n",
       "26. 25\n",
       "27. 51\n",
       "28. 58\n",
       "29. 33\n",
       "30. 30\n",
       "31. 27\n",
       "32. 57\n",
       "33. 34\n",
       "34. 1\n",
       "35. 13\n",
       "36. 12\n",
       "37. 56\n",
       "38. 8\n",
       "39. 42\n",
       "40. 16\n",
       "41. 28\n",
       "42. 40\n",
       "43. 36\n",
       "44. 35\n",
       "45. 10\n",
       "46. 4\n",
       "47. 61\n",
       "48. 65\n",
       "49. 53\n",
       "50. 22\n",
       "51. 54\n",
       "52. 3\n",
       "53. 19\n",
       "54. 31\n",
       "55. 62\n",
       "56. 14\n",
       "57. 21\n",
       "58. 41\n",
       "59. 48\n",
       "60. 63\n",
       "61. 37\n",
       "62. 20\n",
       "63. 23\n",
       "64. 44\n",
       "65. 47\n",
       "66. 49\n",
       "67. 46\n",
       "\n",
       "\n"
      ],
      "text/plain": [
       " [1] 24  7 38 52 60  5 43 66 45 59 55 67 11  2  6 39 26 17 29 32 50 18 64 15  9\n",
       "[26] 25 51 58 33 30 27 57 34  1 13 12 56  8 42 16 28 40 36 35 10  4 61 65 53 22\n",
       "[51] 54  3 19 31 62 14 21 41 48 63 37 20 23 44 47 49 46"
      ]
     },
     "metadata": {},
     "output_type": "display_data"
    },
    {
     "data": {
      "text/html": [
       "<style>\n",
       ".list-inline {list-style: none; margin:0; padding: 0}\n",
       ".list-inline>li {display: inline-block}\n",
       ".list-inline>li:not(:last-child)::after {content: \"\\00b7\"; padding: 0 .5ex}\n",
       "</style>\n",
       "<ol class=list-inline><li>'L3_CO_CO_column_number_density'</li><li>'L3_NO2_NO2_slant_column_number_density'</li><li>'L3_HCHO_tropospheric_HCHO_column_number_density'</li><li>'L3_AER_AI_sensor_altitude'</li><li>'L3_SO2_absorbing_aerosol_index'</li><li>'u_component_of_wind_10m_above_ground'</li><li>'L3_CLOUD_cloud_optical_depth'</li><li>'month'</li><li>'L3_CLOUD_cloud_top_pressure'</li><li>'L3_SO2_SO2_slant_column_number_density'</li><li>'L3_AER_AI_solar_azimuth_angle'</li><li>'day'</li><li>'L3_NO2_sensor_azimuth_angle'</li><li>'relative_humidity_2m_above_ground'</li><li>'v_component_of_wind_10m_above_ground'</li><li>'L3_HCHO_tropospheric_HCHO_column_number_density_amf'</li><li>'L3_CO_cloud_height'</li><li>'L3_NO2_tropospheric_NO2_column_number_density'</li><li>'L3_CO_sensor_zenith_angle'</li><li>'L3_HCHO_HCHO_slant_column_number_density'</li><li>'L3_CLOUD_surface_albedo'</li><li>'L3_O3_O3_column_number_density'</li><li>'L3_SO2_solar_azimuth_angle'</li><li>'L3_NO2_stratospheric_NO2_column_number_density'</li><li>'L3_NO2_cloud_fraction'</li><li>'L3_CO_H2O_column_number_density'</li><li>'L3_AER_AI_absorbing_aerosol_index'</li><li>'L3_SO2_SO2_column_number_density_amf'</li><li>'L3_HCHO_cloud_fraction'</li><li>'L3_CO_solar_azimuth_angle'</li><li>'L3_CO_sensor_altitude'</li><li>'L3_SO2_SO2_column_number_density'</li><li>'L3_HCHO_sensor_azimuth_angle'</li><li>'precipitable_water_entire_atmosphere'</li><li>'L3_NO2_solar_azimuth_angle'</li><li>'L3_NO2_sensor_zenith_angle'</li><li>'L3_AER_AI_solar_zenith_angle'</li><li>'L3_NO2_absorbing_aerosol_index'</li><li>'L3_CLOUD_cloud_fraction'</li><li>'L3_NO2_tropopause_pressure'</li><li>'L3_CO_sensor_azimuth_angle'</li><li>'L3_CLOUD_cloud_base_height'</li><li>'L3_HCHO_solar_azimuth_angle'</li><li>'L3_HCHO_sensor_zenith_angle'</li><li>'L3_NO2_sensor_altitude'</li><li>'temperature_2m_above_ground'</li><li>'L3_SO2_cloud_fraction'</li><li>'L3_SO2_solar_zenith_angle'</li><li>'L3_AER_AI_sensor_azimuth_angle'</li><li>'L3_O3_solar_azimuth_angle'</li><li>'L3_AER_AI_sensor_zenith_angle'</li><li>'specific_humidity_2m_above_ground'</li><li>'L3_O3_cloud_fraction'</li><li>'L3_CO_solar_zenith_angle'</li><li>'L3_SO2_sensor_azimuth_angle'</li><li>'L3_NO2_solar_zenith_angle'</li><li>'L3_O3_sensor_zenith_angle'</li><li>'L3_CLOUD_cloud_base_pressure'</li><li>'L3_CLOUD_solar_azimuth_angle'</li><li>'L3_SO2_sensor_zenith_angle'</li><li>'L3_HCHO_solar_zenith_angle'</li><li>'L3_O3_sensor_azimuth_angle'</li><li>'L3_O3_solar_zenith_angle'</li><li>'L3_CLOUD_cloud_top_height'</li><li>'L3_CLOUD_sensor_zenith_angle'</li><li>'L3_CLOUD_solar_zenith_angle'</li><li>'L3_CLOUD_sensor_azimuth_angle'</li></ol>\n"
      ],
      "text/latex": [
       "\\begin{enumerate*}\n",
       "\\item 'L3\\_CO\\_CO\\_column\\_number\\_density'\n",
       "\\item 'L3\\_NO2\\_NO2\\_slant\\_column\\_number\\_density'\n",
       "\\item 'L3\\_HCHO\\_tropospheric\\_HCHO\\_column\\_number\\_density'\n",
       "\\item 'L3\\_AER\\_AI\\_sensor\\_altitude'\n",
       "\\item 'L3\\_SO2\\_absorbing\\_aerosol\\_index'\n",
       "\\item 'u\\_component\\_of\\_wind\\_10m\\_above\\_ground'\n",
       "\\item 'L3\\_CLOUD\\_cloud\\_optical\\_depth'\n",
       "\\item 'month'\n",
       "\\item 'L3\\_CLOUD\\_cloud\\_top\\_pressure'\n",
       "\\item 'L3\\_SO2\\_SO2\\_slant\\_column\\_number\\_density'\n",
       "\\item 'L3\\_AER\\_AI\\_solar\\_azimuth\\_angle'\n",
       "\\item 'day'\n",
       "\\item 'L3\\_NO2\\_sensor\\_azimuth\\_angle'\n",
       "\\item 'relative\\_humidity\\_2m\\_above\\_ground'\n",
       "\\item 'v\\_component\\_of\\_wind\\_10m\\_above\\_ground'\n",
       "\\item 'L3\\_HCHO\\_tropospheric\\_HCHO\\_column\\_number\\_density\\_amf'\n",
       "\\item 'L3\\_CO\\_cloud\\_height'\n",
       "\\item 'L3\\_NO2\\_tropospheric\\_NO2\\_column\\_number\\_density'\n",
       "\\item 'L3\\_CO\\_sensor\\_zenith\\_angle'\n",
       "\\item 'L3\\_HCHO\\_HCHO\\_slant\\_column\\_number\\_density'\n",
       "\\item 'L3\\_CLOUD\\_surface\\_albedo'\n",
       "\\item 'L3\\_O3\\_O3\\_column\\_number\\_density'\n",
       "\\item 'L3\\_SO2\\_solar\\_azimuth\\_angle'\n",
       "\\item 'L3\\_NO2\\_stratospheric\\_NO2\\_column\\_number\\_density'\n",
       "\\item 'L3\\_NO2\\_cloud\\_fraction'\n",
       "\\item 'L3\\_CO\\_H2O\\_column\\_number\\_density'\n",
       "\\item 'L3\\_AER\\_AI\\_absorbing\\_aerosol\\_index'\n",
       "\\item 'L3\\_SO2\\_SO2\\_column\\_number\\_density\\_amf'\n",
       "\\item 'L3\\_HCHO\\_cloud\\_fraction'\n",
       "\\item 'L3\\_CO\\_solar\\_azimuth\\_angle'\n",
       "\\item 'L3\\_CO\\_sensor\\_altitude'\n",
       "\\item 'L3\\_SO2\\_SO2\\_column\\_number\\_density'\n",
       "\\item 'L3\\_HCHO\\_sensor\\_azimuth\\_angle'\n",
       "\\item 'precipitable\\_water\\_entire\\_atmosphere'\n",
       "\\item 'L3\\_NO2\\_solar\\_azimuth\\_angle'\n",
       "\\item 'L3\\_NO2\\_sensor\\_zenith\\_angle'\n",
       "\\item 'L3\\_AER\\_AI\\_solar\\_zenith\\_angle'\n",
       "\\item 'L3\\_NO2\\_absorbing\\_aerosol\\_index'\n",
       "\\item 'L3\\_CLOUD\\_cloud\\_fraction'\n",
       "\\item 'L3\\_NO2\\_tropopause\\_pressure'\n",
       "\\item 'L3\\_CO\\_sensor\\_azimuth\\_angle'\n",
       "\\item 'L3\\_CLOUD\\_cloud\\_base\\_height'\n",
       "\\item 'L3\\_HCHO\\_solar\\_azimuth\\_angle'\n",
       "\\item 'L3\\_HCHO\\_sensor\\_zenith\\_angle'\n",
       "\\item 'L3\\_NO2\\_sensor\\_altitude'\n",
       "\\item 'temperature\\_2m\\_above\\_ground'\n",
       "\\item 'L3\\_SO2\\_cloud\\_fraction'\n",
       "\\item 'L3\\_SO2\\_solar\\_zenith\\_angle'\n",
       "\\item 'L3\\_AER\\_AI\\_sensor\\_azimuth\\_angle'\n",
       "\\item 'L3\\_O3\\_solar\\_azimuth\\_angle'\n",
       "\\item 'L3\\_AER\\_AI\\_sensor\\_zenith\\_angle'\n",
       "\\item 'specific\\_humidity\\_2m\\_above\\_ground'\n",
       "\\item 'L3\\_O3\\_cloud\\_fraction'\n",
       "\\item 'L3\\_CO\\_solar\\_zenith\\_angle'\n",
       "\\item 'L3\\_SO2\\_sensor\\_azimuth\\_angle'\n",
       "\\item 'L3\\_NO2\\_solar\\_zenith\\_angle'\n",
       "\\item 'L3\\_O3\\_sensor\\_zenith\\_angle'\n",
       "\\item 'L3\\_CLOUD\\_cloud\\_base\\_pressure'\n",
       "\\item 'L3\\_CLOUD\\_solar\\_azimuth\\_angle'\n",
       "\\item 'L3\\_SO2\\_sensor\\_zenith\\_angle'\n",
       "\\item 'L3\\_HCHO\\_solar\\_zenith\\_angle'\n",
       "\\item 'L3\\_O3\\_sensor\\_azimuth\\_angle'\n",
       "\\item 'L3\\_O3\\_solar\\_zenith\\_angle'\n",
       "\\item 'L3\\_CLOUD\\_cloud\\_top\\_height'\n",
       "\\item 'L3\\_CLOUD\\_sensor\\_zenith\\_angle'\n",
       "\\item 'L3\\_CLOUD\\_solar\\_zenith\\_angle'\n",
       "\\item 'L3\\_CLOUD\\_sensor\\_azimuth\\_angle'\n",
       "\\end{enumerate*}\n"
      ],
      "text/markdown": [
       "1. 'L3_CO_CO_column_number_density'\n",
       "2. 'L3_NO2_NO2_slant_column_number_density'\n",
       "3. 'L3_HCHO_tropospheric_HCHO_column_number_density'\n",
       "4. 'L3_AER_AI_sensor_altitude'\n",
       "5. 'L3_SO2_absorbing_aerosol_index'\n",
       "6. 'u_component_of_wind_10m_above_ground'\n",
       "7. 'L3_CLOUD_cloud_optical_depth'\n",
       "8. 'month'\n",
       "9. 'L3_CLOUD_cloud_top_pressure'\n",
       "10. 'L3_SO2_SO2_slant_column_number_density'\n",
       "11. 'L3_AER_AI_solar_azimuth_angle'\n",
       "12. 'day'\n",
       "13. 'L3_NO2_sensor_azimuth_angle'\n",
       "14. 'relative_humidity_2m_above_ground'\n",
       "15. 'v_component_of_wind_10m_above_ground'\n",
       "16. 'L3_HCHO_tropospheric_HCHO_column_number_density_amf'\n",
       "17. 'L3_CO_cloud_height'\n",
       "18. 'L3_NO2_tropospheric_NO2_column_number_density'\n",
       "19. 'L3_CO_sensor_zenith_angle'\n",
       "20. 'L3_HCHO_HCHO_slant_column_number_density'\n",
       "21. 'L3_CLOUD_surface_albedo'\n",
       "22. 'L3_O3_O3_column_number_density'\n",
       "23. 'L3_SO2_solar_azimuth_angle'\n",
       "24. 'L3_NO2_stratospheric_NO2_column_number_density'\n",
       "25. 'L3_NO2_cloud_fraction'\n",
       "26. 'L3_CO_H2O_column_number_density'\n",
       "27. 'L3_AER_AI_absorbing_aerosol_index'\n",
       "28. 'L3_SO2_SO2_column_number_density_amf'\n",
       "29. 'L3_HCHO_cloud_fraction'\n",
       "30. 'L3_CO_solar_azimuth_angle'\n",
       "31. 'L3_CO_sensor_altitude'\n",
       "32. 'L3_SO2_SO2_column_number_density'\n",
       "33. 'L3_HCHO_sensor_azimuth_angle'\n",
       "34. 'precipitable_water_entire_atmosphere'\n",
       "35. 'L3_NO2_solar_azimuth_angle'\n",
       "36. 'L3_NO2_sensor_zenith_angle'\n",
       "37. 'L3_AER_AI_solar_zenith_angle'\n",
       "38. 'L3_NO2_absorbing_aerosol_index'\n",
       "39. 'L3_CLOUD_cloud_fraction'\n",
       "40. 'L3_NO2_tropopause_pressure'\n",
       "41. 'L3_CO_sensor_azimuth_angle'\n",
       "42. 'L3_CLOUD_cloud_base_height'\n",
       "43. 'L3_HCHO_solar_azimuth_angle'\n",
       "44. 'L3_HCHO_sensor_zenith_angle'\n",
       "45. 'L3_NO2_sensor_altitude'\n",
       "46. 'temperature_2m_above_ground'\n",
       "47. 'L3_SO2_cloud_fraction'\n",
       "48. 'L3_SO2_solar_zenith_angle'\n",
       "49. 'L3_AER_AI_sensor_azimuth_angle'\n",
       "50. 'L3_O3_solar_azimuth_angle'\n",
       "51. 'L3_AER_AI_sensor_zenith_angle'\n",
       "52. 'specific_humidity_2m_above_ground'\n",
       "53. 'L3_O3_cloud_fraction'\n",
       "54. 'L3_CO_solar_zenith_angle'\n",
       "55. 'L3_SO2_sensor_azimuth_angle'\n",
       "56. 'L3_NO2_solar_zenith_angle'\n",
       "57. 'L3_O3_sensor_zenith_angle'\n",
       "58. 'L3_CLOUD_cloud_base_pressure'\n",
       "59. 'L3_CLOUD_solar_azimuth_angle'\n",
       "60. 'L3_SO2_sensor_zenith_angle'\n",
       "61. 'L3_HCHO_solar_zenith_angle'\n",
       "62. 'L3_O3_sensor_azimuth_angle'\n",
       "63. 'L3_O3_solar_zenith_angle'\n",
       "64. 'L3_CLOUD_cloud_top_height'\n",
       "65. 'L3_CLOUD_sensor_zenith_angle'\n",
       "66. 'L3_CLOUD_solar_zenith_angle'\n",
       "67. 'L3_CLOUD_sensor_azimuth_angle'\n",
       "\n",
       "\n"
      ],
      "text/plain": [
       " [1] \"L3_CO_CO_column_number_density\"                     \n",
       " [2] \"L3_NO2_NO2_slant_column_number_density\"             \n",
       " [3] \"L3_HCHO_tropospheric_HCHO_column_number_density\"    \n",
       " [4] \"L3_AER_AI_sensor_altitude\"                          \n",
       " [5] \"L3_SO2_absorbing_aerosol_index\"                     \n",
       " [6] \"u_component_of_wind_10m_above_ground\"               \n",
       " [7] \"L3_CLOUD_cloud_optical_depth\"                       \n",
       " [8] \"month\"                                              \n",
       " [9] \"L3_CLOUD_cloud_top_pressure\"                        \n",
       "[10] \"L3_SO2_SO2_slant_column_number_density\"             \n",
       "[11] \"L3_AER_AI_solar_azimuth_angle\"                      \n",
       "[12] \"day\"                                                \n",
       "[13] \"L3_NO2_sensor_azimuth_angle\"                        \n",
       "[14] \"relative_humidity_2m_above_ground\"                  \n",
       "[15] \"v_component_of_wind_10m_above_ground\"               \n",
       "[16] \"L3_HCHO_tropospheric_HCHO_column_number_density_amf\"\n",
       "[17] \"L3_CO_cloud_height\"                                 \n",
       "[18] \"L3_NO2_tropospheric_NO2_column_number_density\"      \n",
       "[19] \"L3_CO_sensor_zenith_angle\"                          \n",
       "[20] \"L3_HCHO_HCHO_slant_column_number_density\"           \n",
       "[21] \"L3_CLOUD_surface_albedo\"                            \n",
       "[22] \"L3_O3_O3_column_number_density\"                     \n",
       "[23] \"L3_SO2_solar_azimuth_angle\"                         \n",
       "[24] \"L3_NO2_stratospheric_NO2_column_number_density\"     \n",
       "[25] \"L3_NO2_cloud_fraction\"                              \n",
       "[26] \"L3_CO_H2O_column_number_density\"                    \n",
       "[27] \"L3_AER_AI_absorbing_aerosol_index\"                  \n",
       "[28] \"L3_SO2_SO2_column_number_density_amf\"               \n",
       "[29] \"L3_HCHO_cloud_fraction\"                             \n",
       "[30] \"L3_CO_solar_azimuth_angle\"                          \n",
       "[31] \"L3_CO_sensor_altitude\"                              \n",
       "[32] \"L3_SO2_SO2_column_number_density\"                   \n",
       "[33] \"L3_HCHO_sensor_azimuth_angle\"                       \n",
       "[34] \"precipitable_water_entire_atmosphere\"               \n",
       "[35] \"L3_NO2_solar_azimuth_angle\"                         \n",
       "[36] \"L3_NO2_sensor_zenith_angle\"                         \n",
       "[37] \"L3_AER_AI_solar_zenith_angle\"                       \n",
       "[38] \"L3_NO2_absorbing_aerosol_index\"                     \n",
       "[39] \"L3_CLOUD_cloud_fraction\"                            \n",
       "[40] \"L3_NO2_tropopause_pressure\"                         \n",
       "[41] \"L3_CO_sensor_azimuth_angle\"                         \n",
       "[42] \"L3_CLOUD_cloud_base_height\"                         \n",
       "[43] \"L3_HCHO_solar_azimuth_angle\"                        \n",
       "[44] \"L3_HCHO_sensor_zenith_angle\"                        \n",
       "[45] \"L3_NO2_sensor_altitude\"                             \n",
       "[46] \"temperature_2m_above_ground\"                        \n",
       "[47] \"L3_SO2_cloud_fraction\"                              \n",
       "[48] \"L3_SO2_solar_zenith_angle\"                          \n",
       "[49] \"L3_AER_AI_sensor_azimuth_angle\"                     \n",
       "[50] \"L3_O3_solar_azimuth_angle\"                          \n",
       "[51] \"L3_AER_AI_sensor_zenith_angle\"                      \n",
       "[52] \"specific_humidity_2m_above_ground\"                  \n",
       "[53] \"L3_O3_cloud_fraction\"                               \n",
       "[54] \"L3_CO_solar_zenith_angle\"                           \n",
       "[55] \"L3_SO2_sensor_azimuth_angle\"                        \n",
       "[56] \"L3_NO2_solar_zenith_angle\"                          \n",
       "[57] \"L3_O3_sensor_zenith_angle\"                          \n",
       "[58] \"L3_CLOUD_cloud_base_pressure\"                       \n",
       "[59] \"L3_CLOUD_solar_azimuth_angle\"                       \n",
       "[60] \"L3_SO2_sensor_zenith_angle\"                         \n",
       "[61] \"L3_HCHO_solar_zenith_angle\"                         \n",
       "[62] \"L3_O3_sensor_azimuth_angle\"                         \n",
       "[63] \"L3_O3_solar_zenith_angle\"                           \n",
       "[64] \"L3_CLOUD_cloud_top_height\"                          \n",
       "[65] \"L3_CLOUD_sensor_zenith_angle\"                       \n",
       "[66] \"L3_CLOUD_solar_zenith_angle\"                        \n",
       "[67] \"L3_CLOUD_sensor_azimuth_angle\"                      "
      ]
     },
     "metadata": {},
     "output_type": "display_data"
    }
   ],
   "source": [
    "# Display the colummn names of the data frame X, to see the best features\n",
    "selected\n",
    "colnames(X)[selected]"
   ]
  },
  {
   "cell_type": "markdown",
   "metadata": {},
   "source": [
    "The improvement of the CV error is very small after the 46 first colums. So, we will keep only them."
   ]
  },
  {
   "cell_type": "code",
   "execution_count": 28,
   "metadata": {
    "vscode": {
     "languageId": "r"
    }
   },
   "outputs": [],
   "source": [
    "#Keep only the 46 first selected features\n",
    "\n",
    "X<-X[,selected[1:46],drop=F]"
   ]
  },
  {
   "cell_type": "code",
   "execution_count": 29,
   "metadata": {
    "vscode": {
     "languageId": "r"
    }
   },
   "outputs": [
    {
     "data": {
      "image/png": "[encoded data removed]",
      "text/plain": [
       "Plot with title “”"
      ]
     },
     "metadata": {
      "image/png": {
       "height": 420,
       "width": 420
      }
     },
     "output_type": "display_data"
    }
   ],
   "source": [
    "# Compute the correlation matrix for the dataset X and assign it to the variable 'correlations'\n",
    "correlations <- cor(X)\n",
    "\n",
    "corrplot(correlations, method = \"color\", tl.cex = 0.4)"
   ]
  },
  {
   "cell_type": "markdown",
   "metadata": {},
   "source": [
    "#### Apply PCA\n",
    "\n",
    "https://www.geo.fu-berlin.de/en/v/soga-py/Advanced-statistics/Multivariate-Approaches/Principal-Component-Analysis/PCA-the-basics/Choose-Principal-Components/index.html#:~:text=A%20widely%20applied%20approach%20is,elbow%20in%20the%20scree%20plot."
   ]
  },
  {
   "cell_type": "markdown",
   "metadata": {},
   "source": [
    "Apply the Principal Component Analysis (PCA) to the dataset X <br/>\n",
    "The 'rank = 46' argument specifies the maximum number of principal components to be computed"
   ]
  },
  {
   "cell_type": "code",
   "execution_count": 30,
   "metadata": {
    "vscode": {
     "languageId": "r"
    }
   },
   "outputs": [],
   "source": [
    "pca_features <- prcomp(X, scale = TRUE, rank = 46)"
   ]
  },
  {
   "cell_type": "markdown",
   "metadata": {},
   "source": [
    "Display the summary of the pca_features"
   ]
  },
  {
   "cell_type": "code",
   "execution_count": 31,
   "metadata": {
    "vscode": {
     "languageId": "r"
    }
   },
   "outputs": [
    {
     "data": {
      "text/plain": [
       "Importance of components:\n",
       "                          PC1    PC2     PC3     PC4     PC5     PC6     PC7\n",
       "Standard deviation     2.3130 2.2856 1.95375 1.89140 1.71822 1.58846 1.53145\n",
       "Proportion of Variance 0.1163 0.1136 0.08298 0.07777 0.06418 0.05485 0.05099\n",
       "Cumulative Proportion  0.1163 0.2299 0.31284 0.39061 0.45479 0.50964 0.56063\n",
       "                           PC8     PC9    PC10    PC11    PC12    PC13    PC14\n",
       "Standard deviation     1.35287 1.30255 1.26480 1.15544 1.12968 1.08446 1.03833\n",
       "Proportion of Variance 0.03979 0.03688 0.03478 0.02902 0.02774 0.02557 0.02344\n",
       "Cumulative Proportion  0.60042 0.63730 0.67208 0.70110 0.72884 0.75441 0.77785\n",
       "                          PC15    PC16    PC17    PC18    PC19   PC20    PC21\n",
       "Standard deviation     0.96855 0.92801 0.90033 0.89187 0.84306 0.8307 0.72941\n",
       "Proportion of Variance 0.02039 0.01872 0.01762 0.01729 0.01545 0.0150 0.01157\n",
       "Cumulative Proportion  0.79824 0.81696 0.83458 0.85188 0.86733 0.8823 0.89389\n",
       "                          PC22    PC23    PC24    PC25    PC26    PC27    PC28\n",
       "Standard deviation     0.70196 0.68855 0.65490 0.61267 0.58099 0.54930 0.53706\n",
       "Proportion of Variance 0.01071 0.01031 0.00932 0.00816 0.00734 0.00656 0.00627\n",
       "Cumulative Proportion  0.90461 0.91491 0.92424 0.93240 0.93973 0.94629 0.95256\n",
       "                          PC29    PC30    PC31    PC32    PC33    PC34    PC35\n",
       "Standard deviation     0.50182 0.44692 0.44346 0.42550 0.41197 0.40348 0.37208\n",
       "Proportion of Variance 0.00547 0.00434 0.00428 0.00394 0.00369 0.00354 0.00301\n",
       "Cumulative Proportion  0.95804 0.96238 0.96666 0.97059 0.97428 0.97782 0.98083\n",
       "                          PC36    PC37    PC38    PC39    PC40    PC41    PC42\n",
       "Standard deviation     0.35812 0.32913 0.32407 0.31611 0.30987 0.28057 0.27753\n",
       "Proportion of Variance 0.00279 0.00235 0.00228 0.00217 0.00209 0.00171 0.00167\n",
       "Cumulative Proportion  0.98362 0.98597 0.98826 0.99043 0.99252 0.99423 0.99590\n",
       "                          PC43    PC44   PC45   PC46\n",
       "Standard deviation     0.26130 0.24634 0.1916 0.1513\n",
       "Proportion of Variance 0.00148 0.00132 0.0008 0.0005\n",
       "Cumulative Proportion  0.99739 0.99870 0.9995 1.0000"
      ]
     },
     "metadata": {},
     "output_type": "display_data"
    }
   ],
   "source": [
    "summary(pca_features)"
   ]
  },
  {
   "cell_type": "code",
   "execution_count": 32,
   "metadata": {
    "vscode": {
     "languageId": "r"
    }
   },
   "outputs": [
    {
     "data": {
      "image/png": "[encoded data removed]",
      "text/plain": [
       "plot without title"
      ]
     },
     "metadata": {
      "image/png": {
       "height": 420,
       "width": 420
      }
     },
     "output_type": "display_data"
    },
    {
     "data": {
      "image/png": "[encoded data removed]",
      "text/plain": [
       "plot without title"
      ]
     },
     "metadata": {
      "image/png": {
       "height": 420,
       "width": 420
      }
     },
     "output_type": "display_data"
    }
   ],
   "source": [
    "#plot standard deviation of the principal components ,cumulative proportion of variance explained\n",
    "plot(pca_features$sdev^2/sum(pca_features$sdev^2), xlab = \"Principal Component\", ylab = \"Proportion of Variance Explained\", ylim = c(0,1), type = \"b\")\n",
    "\n",
    "plot(cumsum(pca_features$sdev^2/sum(pca_features$sdev^2)), xlab = \"Principal Component\", ylab = \"Cumulative Proportion of Variance Explained\", ylim = c(0,1), type = \"b\")\n",
    "\n"
   ]
  },
  {
   "cell_type": "markdown",
   "metadata": {},
   "source": [
    "### pre-processing of the test dataset"
   ]
  },
  {
   "cell_type": "code",
   "execution_count": 33,
   "metadata": {
    "vscode": {
     "languageId": "r"
    }
   },
   "outputs": [],
   "source": [
    "# Aplly the same method done on the training set to the test set without display it\n",
    "data_test <- subset(data_test,select = -c(Place_ID.X.Date,Place_ID))\n",
    "\n",
    "\n",
    "date_values <- t(apply(data_test, 1, label_date))\n",
    "\n",
    "\n",
    "data_test$month <- date_values[, 2]\n",
    "data_test$day <- date_values[, 3]\n",
    "\n",
    "\n",
    "data_test <- subset(x=data_test, select=-c(Date))\n",
    "\n",
    "\n",
    "data_test <- data.frame(apply(data_test, 2, replace_na_with_mean_value))\n",
    "\n",
    "colonnes_communes <- intersect(names(X), names(data_test))\n",
    "\n",
    "data_test_subset <- data_test[, colonnes_communes]\n"
   ]
  },
  {
   "cell_type": "markdown",
   "metadata": {},
   "source": [
    "#### Create dataset (train, validation , test)"
   ]
  },
  {
   "cell_type": "code",
   "execution_count": 34,
   "metadata": {
    "vscode": {
     "languageId": "r"
    }
   },
   "outputs": [],
   "source": [
    "#Apply the PCA transformation to the dataset X and the test dataset\n",
    "X_pca <- predict(pca_features, X)\n",
    "X_test <- predict(pca_features, data_test)\n",
    "\n",
    "#keep 80% of lines for train dataset and 20 for validation dataset\n",
    "\n",
    "X_train <- X_pca[1:round(0.8*nrow(X_pca)),]\n",
    "Y_train <- Y[1:round(0.8*nrow(X_pca))]\n",
    "X_val <- X_pca[(round(0.8*nrow(X_pca))+1):nrow(X_pca),]\n",
    "Y_val <- Y[(round(0.8*nrow(X_pca))+1):nrow(X_pca)]\n"
   ]
  },
  {
   "cell_type": "markdown",
   "metadata": {},
   "source": [
    "## Models implementation"
   ]
  },
  {
   "cell_type": "markdown",
   "metadata": {},
   "source": [
    "### Random Forest"
   ]
  },
  {
   "cell_type": "code",
   "execution_count": 35,
   "metadata": {
    "vscode": {
     "languageId": "r"
    }
   },
   "outputs": [
    {
     "name": "stdout",
     "output_type": "stream",
     "text": [
      "[1] \"RMSE on the validation set: 36.7729243166915\"\n",
      "[1] \"NMSE on the validation set: 0.566928957235856\"\n"
     ]
    }
   ],
   "source": [
    "\n",
    "rf_model <- randomForest(x = X_train, y = Y_train, ntree = 100)\n",
    "\n",
    "predictions <- predict(rf_model, X_val)\n",
    "\n",
    "\n",
    "rmse <- sqrt(mean((predictions - Y_val)^2))\n",
    "\n",
    "\n",
    "nmse <- mean((predictions - Y_val)^2) / mean((Y_val - mean(Y_val))^2)\n",
    "\n",
    "print(paste(\"RMSE on the validation set:\", rmse))\n",
    "print(paste(\"NMSE on the validation set:\", nmse))"
   ]
  },
  {
   "cell_type": "markdown",
   "metadata": {},
   "source": [
    "### Neural Networks"
   ]
  },
  {
   "cell_type": "code",
   "execution_count": 37,
   "metadata": {
    "vscode": {
     "languageId": "r"
    }
   },
   "outputs": [
    {
     "name": "stdout",
     "output_type": "stream",
     "text": [
      "[1] \"RMSE on the validation set: 34.2706327965974\"\n",
      "[1] \"NMSE on the validation set: 0.492398307601992\"\n"
     ]
    }
   ],
   "source": [
    "# Building a neural network model using Keras with 3 hidden layers \n",
    "# and dropout regularization due to the overfitting show on curves\n",
    "\n",
    "input_size <- ncol(X_train)\n",
    "hidden_layer1_size <- 50\n",
    "hidden_layer2_size <- 30\n",
    "hidden_layer3_size <- 10\n",
    "output_size <- 1\n",
    "dropout_rate <- 0.1\n",
    "\n",
    "\n",
    "nn_model <- keras_model_sequential() %>%\n",
    "  layer_dense(units = hidden_layer1_size, activation = 'relu', input_shape = c(input_size)) %>%\n",
    "\n",
    "  layer_dropout(rate = dropout_rate) %>%\n",
    "\n",
    "  layer_dense(units = hidden_layer2_size, activation = 'relu') %>%\n",
    "\n",
    "  layer_dropout(rate = dropout_rate) %>%\n",
    "\n",
    "  layer_dense(units = hidden_layer3_size, activation = 'relu') %>%\n",
    "\n",
    "  layer_dropout(rate = dropout_rate) %>%\n",
    "\n",
    "  layer_dense(units = output_size)\n",
    "\n",
    "# Compile the model with mean squared error as the loss function, Adam optimizer, and mean squared error as the metric\n",
    "nn_model %>% compile(\n",
    "  loss = 'mean_squared_error',\n",
    "  optimizer = optimizer_adam(),\n",
    "  metrics = c('mean_squared_error')\n",
    ")\n",
    "\n",
    "# Train the model on the training data for 200 epochs with a batch size of 32, and validate on the validation data\n",
    "history <- nn_model %>% fit(\n",
    "  X_train, Y_train,\n",
    "  epochs = 100,\n",
    "  batch_size = 32,\n",
    "  validation_data = list(X_val, Y_val)\n",
    ")\n",
    "\n",
    "# Use the trained model to make predictions on the validation data\n",
    "predictions <- nn_model %>% predict(X_val)\n",
    "\n",
    "\n",
    "rmse <- sqrt(mean((predictions - Y_val)^2))\n",
    "\n",
    "nmse <- mean((predictions - Y_val)^2) / mean((Y_val - mean(Y_val))^2)\n",
    "\n",
    "print(paste(\"RMSE on the validation set:\", rmse))\n",
    "print(paste(\"NMSE on the validation set:\", nmse))"
   ]
  },
  {
   "cell_type": "markdown",
   "metadata": {},
   "source": [
    "Let's see the evolution of the loss of the training and the test dataset."
   ]
  },
  {
   "cell_type": "code",
   "execution_count": 38,
   "metadata": {
    "vscode": {
     "languageId": "r"
    }
   },
   "outputs": [
    {
     "data": {
      "image/png": "[encoded data removed]",
      "text/plain": [
       "plot without title"
      ]
     },
     "metadata": {
      "image/png": {
       "height": 420,
       "width": 420
      }
     },
     "output_type": "display_data"
    }
   ],
   "source": [
    "plot(history)"
   ]
  },
  {
   "cell_type": "markdown",
   "metadata": {},
   "source": [
    "### Lazy Model"
   ]
  },
  {
   "cell_type": "markdown",
   "metadata": {},
   "source": [
    "Application of the lazy model. The number of selected columns and the values of parameters in lazy.controls were determined after many trials."
   ]
  },
  {
   "cell_type": "code",
   "execution_count": 40,
   "metadata": {
    "vscode": {
     "languageId": "r"
    }
   },
   "outputs": [
    {
     "name": "stdout",
     "output_type": "stream",
     "text": [
      "[1] \"RMSE sur l'ensemble de validation: 36.7659575821904\"\n",
      "[1] \"NMSE sur l'ensemble de validation: 0.566714164995977\"\n"
     ]
    }
   ],
   "source": [
    "X_train_lazy <- data.frame(X_train[,1:28])\n",
    "X_train_lazy[\"target\"] = Y_train\n",
    "\n",
    "X_train_lazy.lazy <- lazy(target ~ PC1 + PC2 + PC3 + PC4 + PC5 + PC6 + PC7 + PC8 + PC9 + PC10 + PC11 + PC12 + PC13 + PC14 + PC15 + PC16 + PC17 + PC18 \n",
    "+ PC19 + PC20 + PC21 + PC22 + PC23 + PC24 + PC25 + PC26 + PC27 + PC28,\n",
    "data = X_train_lazy, control = lazy.control(linIdPar = 2))\n",
    "\n",
    "pred_lazy <- predict(X_train_lazy.lazy, X_val)\n",
    "predictions.la <- pred_lazy$h\n",
    "\n",
    "rmse <- sqrt(mean((predictions.la - Y_val)^2))\n",
    "nmse <- mean((predictions.la - Y_val)^2) / mean((Y_val - mean(Y_val))^2)\n",
    "\n",
    "print(paste(\"RMSE sur l'ensemble de validation:\", rmse))\n",
    "print(paste(\"NMSE sur l'ensemble de validation:\", nmse))"
   ]
  },
  {
   "cell_type": "markdown",
   "metadata": {},
   "source": [
    "### XGBoost"
   ]
  },
  {
   "cell_type": "code",
   "execution_count": 48,
   "metadata": {
    "vscode": {
     "languageId": "r"
    }
   },
   "outputs": [
    {
     "name": "stdout",
     "output_type": "stream",
     "text": [
      "[1]\ttrain-rmse:73.296744\tvalidation-rmse:75.596800 \n",
      "Multiple eval metrics are present. Will use validation_rmse for early stopping.\n",
      "Will train until validation_rmse hasn't improved in 50 rounds.\n",
      "\n",
      "[101]\ttrain-rmse:23.244147\tvalidation-rmse:36.177253 \n",
      "[201]\ttrain-rmse:18.339388\tvalidation-rmse:35.327374 \n",
      "[301]\ttrain-rmse:15.128949\tvalidation-rmse:34.926061 \n",
      "[401]\ttrain-rmse:12.647656\tvalidation-rmse:34.703089 \n",
      "[501]\ttrain-rmse:10.599830\tvalidation-rmse:34.534590 \n",
      "[601]\ttrain-rmse:9.054058\tvalidation-rmse:34.442565 \n",
      "[701]\ttrain-rmse:7.749287\tvalidation-rmse:34.385251 \n",
      "[801]\ttrain-rmse:6.677976\tvalidation-rmse:34.342921 \n",
      "[901]\ttrain-rmse:5.779411\tvalidation-rmse:34.314174 \n",
      "[1001]\ttrain-rmse:5.011333\tvalidation-rmse:34.290283 \n",
      "[1101]\ttrain-rmse:4.342323\tvalidation-rmse:34.264515 \n",
      "[1201]\ttrain-rmse:3.728503\tvalidation-rmse:34.244471 \n",
      "[1301]\ttrain-rmse:3.260625\tvalidation-rmse:34.228014 \n",
      "[1401]\ttrain-rmse:2.835117\tvalidation-rmse:34.213194 \n",
      "[1500]\ttrain-rmse:2.489108\tvalidation-rmse:34.207793 \n"
     ]
    },
    {
     "data": {
      "image/png": "[encoded data removed]",
      "text/plain": [
       "plot without title"
      ]
     },
     "metadata": {
      "image/png": {
       "height": 420,
       "width": 420
      }
     },
     "output_type": "display_data"
    }
   ],
   "source": [
    "# Define parameters of the XGBoost model\n",
    "params <- list(\n",
    "  objective = \"reg:squarederror\",\n",
    "  eval_metric = \"rmse\",\n",
    "  min_child_weight = 1,\n",
    "  eta = 0.05,\n",
    "  nthread = -1,\n",
    "  max_depth = 8,\n",
    "  subsample = 0.9,\n",
    "  colsample_bytree = 0.9\n",
    ")\n",
    "# Create the DMatrix objects for the train, validation, and test datasets\n",
    "train_dataset <- xgb.DMatrix(data = X_train, label = Y_train)\n",
    "val_dataset <- xgb.DMatrix(data = X_val, label = Y_val)\n",
    "test_dataset <- xgb.DMatrix(data = X_test)\n",
    "watchlist <- list(train = train_dataset, validation = val_dataset)\n",
    " \n",
    " \n",
    "# Train the XGBoost model\n",
    "model <- xgb.train(\n",
    "  params = params,\n",
    "  data = train_dataset,\n",
    "  nrounds = 1500,\n",
    "  watchlist = watchlist,\n",
    "  early_stopping_rounds = 50,\n",
    "  print_every_n = 100\n",
    ")\n",
    "eval_log <- model$evaluation_log\n",
    " \n",
    "# Plot the training and validation RMSE into curves\n",
    "library(ggplot2)\n",
    "ggplot(eval_log, aes(x = iter)) +\n",
    "  geom_line(aes(y = train_rmse, colour = \"Train RMSE\")) +\n",
    "  geom_line(aes(y = validation_rmse, colour = \"Validation RMSE\")) +\n",
    "  labs(x = \"Iteration\", y = \"RMSE\", colour = \"Legend\") +\n",
    "  theme_minimal()\n",
    " "
   ]
  },
  {
   "cell_type": "code",
   "execution_count": null,
   "metadata": {
    "vscode": {
     "languageId": "r"
    }
   },
   "outputs": [],
   "source": [
    "# Creation of the submission file with the predictions of the XGBoost model\n",
    "predictions <- predict(model, X_test)\n",
    "\n",
    "\n",
    "submission <- data.frame(Place_ID.X.Date = data_test_copy$Place_ID.X.Date, target = predictions)\n",
    "\n",
    "\n",
    "write.csv(submission, file = \"data/predictions_xgboost.csv\", row.names = FALSE, quote = FALSE)\n"
   ]
  },
  {
   "cell_type": "markdown",
   "metadata": {},
   "source": [
    "## Predictive power of the 10 most relevant features"
   ]
  },
  {
   "cell_type": "markdown",
   "metadata": {},
   "source": [
    "The conditional entropy is approximated by cross-validation error"
   ]
  },
  {
   "cell_type": "markdown",
   "metadata": {},
   "source": [
    "We select the best of our 4 models, so XGBoost. <br/>\n",
    "To reduce the computation time, we decrease the number of rounds. We assume that if there is an impact on the feature ranking, it is very small."
   ]
  },
  {
   "cell_type": "code",
   "execution_count": 49,
   "metadata": {
    "vscode": {
     "languageId": "r"
    }
   },
   "outputs": [],
   "source": [
    "model_xgboost <- function(X_train, Y_train, X_test, Y_test){\n",
    "  # xgboost need matrix instead of data frame\n",
    "  X_train <- as.matrix(X_train)\n",
    "  X_test <- as.matrix(X_test)\n",
    "  # Define parameters of the XGBoost model\n",
    "  params <- list(\n",
    "    objective = \"reg:squarederror\",\n",
    "    eval_metric = \"rmse\",\n",
    "    min_child_weight = 1,\n",
    "    eta = 0.05,\n",
    "    nthread = -1,\n",
    "    max_depth = 8,\n",
    "    subsample = 0.9,\n",
    "    colsample_bytree = 0.9\n",
    "  )\n",
    "  # Create the DMatrix objects for the train, validation, and test datasets\n",
    "  train_dataset <- xgb.DMatrix(data = X_train, label = Y_train)\n",
    "  val_dataset <- xgb.DMatrix(data = X_test, label = Y_test)\n",
    "  test_dataset <- xgb.DMatrix(data = X_test)\n",
    "  watchlist <- list(train = train_dataset, validation = val_dataset)\n",
    "  \n",
    "  \n",
    "  # Train the XGBoost model\n",
    "  model <- xgb.train(\n",
    "    params = params,\n",
    "    data = train_dataset,\n",
    "    nrounds = 300,\n",
    "    watchlist = watchlist,\n",
    "    early_stopping_rounds = 50,\n",
    "    verbose = 0,\n",
    "    print_every_n = 50\n",
    "  )\n",
    "  predictions <- predict(model, newdata = test_dataset)\n",
    "  out <- sqrt(mean((predictions - Y_test)^2))\n",
    "  return(out)\n",
    "}"
   ]
  },
  {
   "cell_type": "markdown",
   "metadata": {},
   "source": [
    "We select the 10 relevant features from the mRMR results."
   ]
  },
  {
   "cell_type": "code",
   "execution_count": 50,
   "metadata": {
    "vscode": {
     "languageId": "r"
    }
   },
   "outputs": [
    {
     "data": {
      "text/html": [
       "<style>\n",
       ".list-inline {list-style: none; margin:0; padding: 0}\n",
       ".list-inline>li {display: inline-block}\n",
       ".list-inline>li:not(:last-child)::after {content: \"\\00b7\"; padding: 0 .5ex}\n",
       "</style>\n",
       "<ol class=list-inline><li>'L3_CO_CO_column_number_density'</li><li>'L3_NO2_NO2_slant_column_number_density'</li><li>'L3_HCHO_tropospheric_HCHO_column_number_density'</li><li>'L3_AER_AI_sensor_altitude'</li><li>'L3_SO2_absorbing_aerosol_index'</li><li>'u_component_of_wind_10m_above_ground'</li><li>'L3_CLOUD_cloud_optical_depth'</li><li>'month'</li><li>'L3_CLOUD_cloud_top_pressure'</li><li>'L3_SO2_SO2_slant_column_number_density'</li></ol>\n"
      ],
      "text/latex": [
       "\\begin{enumerate*}\n",
       "\\item 'L3\\_CO\\_CO\\_column\\_number\\_density'\n",
       "\\item 'L3\\_NO2\\_NO2\\_slant\\_column\\_number\\_density'\n",
       "\\item 'L3\\_HCHO\\_tropospheric\\_HCHO\\_column\\_number\\_density'\n",
       "\\item 'L3\\_AER\\_AI\\_sensor\\_altitude'\n",
       "\\item 'L3\\_SO2\\_absorbing\\_aerosol\\_index'\n",
       "\\item 'u\\_component\\_of\\_wind\\_10m\\_above\\_ground'\n",
       "\\item 'L3\\_CLOUD\\_cloud\\_optical\\_depth'\n",
       "\\item 'month'\n",
       "\\item 'L3\\_CLOUD\\_cloud\\_top\\_pressure'\n",
       "\\item 'L3\\_SO2\\_SO2\\_slant\\_column\\_number\\_density'\n",
       "\\end{enumerate*}\n"
      ],
      "text/markdown": [
       "1. 'L3_CO_CO_column_number_density'\n",
       "2. 'L3_NO2_NO2_slant_column_number_density'\n",
       "3. 'L3_HCHO_tropospheric_HCHO_column_number_density'\n",
       "4. 'L3_AER_AI_sensor_altitude'\n",
       "5. 'L3_SO2_absorbing_aerosol_index'\n",
       "6. 'u_component_of_wind_10m_above_ground'\n",
       "7. 'L3_CLOUD_cloud_optical_depth'\n",
       "8. 'month'\n",
       "9. 'L3_CLOUD_cloud_top_pressure'\n",
       "10. 'L3_SO2_SO2_slant_column_number_density'\n",
       "\n",
       "\n"
      ],
      "text/plain": [
       " [1] \"L3_CO_CO_column_number_density\"                 \n",
       " [2] \"L3_NO2_NO2_slant_column_number_density\"         \n",
       " [3] \"L3_HCHO_tropospheric_HCHO_column_number_density\"\n",
       " [4] \"L3_AER_AI_sensor_altitude\"                      \n",
       " [5] \"L3_SO2_absorbing_aerosol_index\"                 \n",
       " [6] \"u_component_of_wind_10m_above_ground\"           \n",
       " [7] \"L3_CLOUD_cloud_optical_depth\"                   \n",
       " [8] \"month\"                                          \n",
       " [9] \"L3_CLOUD_cloud_top_pressure\"                    \n",
       "[10] \"L3_SO2_SO2_slant_column_number_density\"         "
      ]
     },
     "metadata": {},
     "output_type": "display_data"
    }
   ],
   "source": [
    "X <- data.frame(X[,1:10]) # 10 most relevant features\n",
    "colnames(X)"
   ]
  },
  {
   "cell_type": "markdown",
   "metadata": {},
   "source": [
    "The crossvalidation error is computed with a k-fold (k=5) cross validation with B(=3) repetitions."
   ]
  },
  {
   "cell_type": "code",
   "execution_count": 51,
   "metadata": {
    "vscode": {
     "languageId": "r"
    }
   },
   "outputs": [
    {
     "name": "stdout",
     "output_type": "stream",
     "text": [
      "[1] \"H(Y|X) = 0.330022258880158\"\n",
      "[1] \"H(Y|X-1) = 0.43129157839457\"\n",
      "[1] \"Predictive power of feature 1: 0.101269319514412\"\n",
      "[1] \"H(Y|X-2) = 0.287520557409401\"\n",
      "[1] \"Predictive power of feature 2: -0.0425017014707574\"\n",
      "[1] \"H(Y|X-3) = 0.36796903586575\"\n",
      "[1] \"Predictive power of feature 3: 0.0379467769855918\"\n",
      "[1] \"H(Y|X-4) = 0.37055102321545\"\n",
      "[1] \"Predictive power of feature 4: 0.0405287643352915\"\n",
      "[1] \"H(Y|X-5) = 0.332647002918215\"\n",
      "[1] \"Predictive power of feature 5: 0.00262474403805685\"\n",
      "[1] \"H(Y|X-6) = 0.32591947481018\"\n",
      "[1] \"Predictive power of feature 6: -0.00410278406997816\"\n",
      "[1] \"H(Y|X-7) = 0.327689003932561\"\n",
      "[1] \"Predictive power of feature 7: -0.00233325494759723\"\n",
      "[1] \"H(Y|X-8) = 0.343525297235777\"\n",
      "[1] \"Predictive power of feature 8: 0.0135030383556194\"\n",
      "[1] \"H(Y|X-9) = 0.275913415457086\"\n",
      "[1] \"Predictive power of feature 9: -0.0541088434230721\"\n",
      "[1] \"H(Y|X-10) = 0.288609339456055\"\n",
      "[1] \"Predictive power of feature 10: -0.0414129194241026\"\n"
     ]
    }
   ],
   "source": [
    "ppf <- array(data=NA, dim=10)\n",
    "\n",
    "# compute estimation of H(Y|X)\n",
    "cv.out <- crossval(model_xgboost, X, Y, K=5, B=3, verbose=FALSE)\n",
    "H_Y_X <- cv.out$stat.se\n",
    "print(paste0(\"H(Y|X) = \", H_Y_X))\n",
    "\n",
    "for (i in 1:10){\n",
    "  X_i = X[, c(-i)]\n",
    "  # compute estimation of H(Y|X-i)\n",
    "  cv.out <- crossval(model_xgboost, X_i, Y, K=5, B=3, verbose=FALSE)\n",
    "  H_Y_Xi <- cv.out$stat.se\n",
    "  print(paste0(\"H(Y|X-\", i, \") = \", H_Y_Xi))\n",
    "  # Compute estimation of I(xi;Y|X-i) = H(y|X-i) - H(Y|X)\n",
    "  I_xi_Y_Xi <- H_Y_Xi - H_Y_X\n",
    "  print(paste0(\"Predictive power of feature \", i, \": \", I_xi_Y_Xi))\n",
    "  ppf[i] <- I_xi_Y_Xi\n",
    "}"
   ]
  },
  {
   "cell_type": "markdown",
   "metadata": {},
   "source": [
    "### Ranking\n",
    "\n",
    "- L3_CO_CO_column_number_density\n",
    "- L3_AER_AI_sensor_altitude\n",
    "- L3_HCHO_tropospheric_HCHO_column_number_density\n",
    "- month\n",
    "- L3_SO2_absorbing_aerosol_index\n",
    "\n",
    " <br/> \n",
    " \n",
    "- L3_CLOUD_cloud_optical_depth\n",
    "- u_component_of_wind_10m_above_ground\n",
    "- L3_SO2_SO2_slant_column_number_density\n",
    "- L3_NO2_NO2_slant_column_number_density\n",
    "- L3_CLOUD_cloud_top_pressure"
   ]
  }
 ],
 "metadata": {
  "kernelspec": {
   "display_name": "R",
   "language": "R",
   "name": "ir"
  },
  "language_info": {
   "codemirror_mode": "r",
   "file_extension": ".r",
   "mimetype": "text/x-r-source",
   "name": "R",
   "pygments_lexer": "r",
   "version": "4.4.0"
  }
 },
 "nbformat": 4,
 "nbformat_minor": 2
}
